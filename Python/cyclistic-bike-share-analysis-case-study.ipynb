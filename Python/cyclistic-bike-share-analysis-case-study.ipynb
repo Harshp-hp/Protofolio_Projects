{
 "cells": [
  {
   "cell_type": "markdown",
   "id": "56a3a15c",
   "metadata": {
    "papermill": {
     "duration": 0.172215,
     "end_time": "2021-10-17T16:33:46.471305",
     "exception": false,
     "start_time": "2021-10-17T16:33:46.299090",
     "status": "completed"
    },
    "tags": []
   },
   "source": [
    "\n",
    "### Introduction\n",
    "Welcome to the Cyclistic bike-share analysis case study! In this case study, you will perform many real-world tasks of a junior data analyst. You will work for a fictional company, Cyclistic, and meet different characters and team members. In order to answer the key business questions, you will follow the steps of the data analysis process: ask, prepare, process, analyze, share, and act. Along the way, the Case Study Roadmap tables — including guiding questions and key tasks — will help you stay on the right path.\n",
    "\n",
    "By the end of this lesson, you will have a portfolio-ready case study. Download the packet and reference the details of this case study anytime. Then, when you begin your job hunt, your case study will be a tangible way to demonstrate yourknowledge and skills to potential employers.\n",
    " \n",
    "\n",
    "### Scenario\n",
    "You are a junior data analyst working in the marketing analyst team at Cyclistic, a bike-share company in Chicago. The director of marketing believes the company’s future success depends on maximizing the number of annual memberships. Therefore, your team wants to understand how casual riders and annual members use Cyclistic bikes differently. From these insights, your team will design a new marketing strategy to convert casual riders into annual members. But first, Cyclistic executives must approve your recommendations, so they must be backed up with compelling data insights and professional data visualizations.\n",
    "Characters and teams\n",
    "\n",
    "● Cyclistic: A bike-share program that features more than 5,800 bicycles and 600 docking stations. Cyclistic sets itself apart by also offering reclining bikes, hand tricycles, and cargo bikes, making bike-share more inclusive to people with disabilities and riders who can’t use a standard two-wheeled bike. The majority of riders opt for traditional bikes; about 8% of riders use the assistive options. Cyclistic users are more likely to ride for leisure, but about 30% use them to commute to work each day.\n",
    "\n",
    "● Lily Moreno: The director of marketing and your manager. Moreno is responsible for the development of campaigns and initiatives to promote the bike-share program. These may include email, social media, and other channels.\n",
    "\n",
    "● Cyclistic marketing analytics team: A team of data analysts who are responsible for collecting, analyzing, and reporting data that helps guide Cyclistic marketing strategy. You joined this team six months ago and have been busy learning about Cyclistic’s mission and business goals — as well as how you, as a junior data analyst, can help Cyclistic achieve them.\n",
    "\n",
    "● Cyclistic executive team: The notoriously detail-oriented executive team will decide whether to approve the recommended marketing program.\n",
    " \n",
    " \n",
    "### About the company\n",
    "In 2016, Cyclistic launched a successful bike-share offering. Since then, the program has grown to a fleet of 5,824 bicycles that are geotracked and locked into a network of 692 stations across Chicago. The bikes can be unlocked from one station and returned to any other station in the system anytime.\n",
    "Until now, Cyclistic’s marketing strategy relied on building general awareness and appealing to broad consumer segments.\n",
    "One approach that helped make these things possible was the flexibility of its pricing plans: single-ride passes, full-day passes, and annual memberships. Customers who purchase single-ride or full-day passes are referred to as casual riders. Customers who purchase annual memberships are Cyclistic members.\n",
    "Cyclistic’s finance analysts have concluded that annual members are much more profitable than casual riders. Although the pricing flexibility helps Cyclistic attract more customers, Moreno believes that maximizing the number of annual members will\n",
    "be key to future growth. Rather than creating a marketing campaign that targets all-new customers, Moreno believes there is a very good chance to convert casual riders into members. She notes that casual riders are already aware of the Cyclistic program and have chosen Cyclistic for their mobility needs.\n",
    "Moreno has set a clear goal: Design marketing strategies aimed at converting casual riders into annual members. In order to do that, however, the marketing analyst team needs to better understand how annual members and casual riders differ, why casual riders would buy a membership, and how digital media could affect their marketing tactics. Moreno and her team are\n",
    "interested in analyzing the Cyclistic historical bike trip data to identify trends. \n",
    "\n",
    "\n",
    "### Ask\n",
    "Three questions will guide the future marketing program:\n",
    "1. How do annual members and casual riders use Cyclistic bikes differently?\n",
    "2. Why would casual riders buy Cyclistic annual memberships?\n",
    "3. How can Cyclistic use digital media to influence casual riders to become members"
   ]
  },
  {
   "cell_type": "code",
   "execution_count": 1,
   "id": "ce1a123e",
   "metadata": {
    "execution": {
     "iopub.execute_input": "2021-10-17T16:33:46.706527Z",
     "iopub.status.busy": "2021-10-17T16:33:46.703689Z",
     "iopub.status.idle": "2021-10-17T16:33:47.907166Z",
     "shell.execute_reply": "2021-10-17T16:33:47.906460Z"
    },
    "papermill": {
     "duration": 1.320982,
     "end_time": "2021-10-17T16:33:47.907318",
     "exception": false,
     "start_time": "2021-10-17T16:33:46.586336",
     "status": "completed"
    },
    "tags": []
   },
   "outputs": [
    {
     "name": "stderr",
     "output_type": "stream",
     "text": [
      "── \u001b[1mAttaching packages\u001b[22m ─────────────────────────────────────── tidyverse 1.3.1 ──\n",
      "\n",
      "\u001b[32m✔\u001b[39m \u001b[34mggplot2\u001b[39m 3.3.5     \u001b[32m✔\u001b[39m \u001b[34mpurrr  \u001b[39m 0.3.4\n",
      "\u001b[32m✔\u001b[39m \u001b[34mtibble \u001b[39m 3.1.5     \u001b[32m✔\u001b[39m \u001b[34mdplyr  \u001b[39m 1.0.7\n",
      "\u001b[32m✔\u001b[39m \u001b[34mtidyr  \u001b[39m 1.1.4     \u001b[32m✔\u001b[39m \u001b[34mstringr\u001b[39m 1.4.0\n",
      "\u001b[32m✔\u001b[39m \u001b[34mreadr  \u001b[39m 2.0.2     \u001b[32m✔\u001b[39m \u001b[34mforcats\u001b[39m 0.5.1\n",
      "\n",
      "── \u001b[1mConflicts\u001b[22m ────────────────────────────────────────── tidyverse_conflicts() ──\n",
      "\u001b[31m✖\u001b[39m \u001b[34mdplyr\u001b[39m::\u001b[32mfilter()\u001b[39m masks \u001b[34mstats\u001b[39m::filter()\n",
      "\u001b[31m✖\u001b[39m \u001b[34mdplyr\u001b[39m::\u001b[32mlag()\u001b[39m    masks \u001b[34mstats\u001b[39m::lag()\n",
      "\n",
      "\n",
      "Attaching package: ‘lubridate’\n",
      "\n",
      "\n",
      "The following objects are masked from ‘package:base’:\n",
      "\n",
      "    date, intersect, setdiff, union\n",
      "\n",
      "\n"
     ]
    },
    {
     "data": {
      "text/html": [
       "'/kaggle/working'"
      ],
      "text/latex": [
       "'/kaggle/working'"
      ],
      "text/markdown": [
       "'/kaggle/working'"
      ],
      "text/plain": [
       "[1] \"/kaggle/working\""
      ]
     },
     "metadata": {},
     "output_type": "display_data"
    }
   ],
   "source": [
    "library(tidyverse) ## wrangle the data \n",
    "library(lubridate) ## wrangle the data attributes\n",
    "library(ggplot2) ## data visualizations\n",
    "getwd() ## get the working directory"
   ]
  },
  {
   "cell_type": "code",
   "execution_count": 2,
   "id": "7cde27ed",
   "metadata": {
    "execution": {
     "iopub.execute_input": "2021-10-17T16:33:48.160222Z",
     "iopub.status.busy": "2021-10-17T16:33:48.132085Z",
     "iopub.status.idle": "2021-10-17T16:34:46.492847Z",
     "shell.execute_reply": "2021-10-17T16:34:46.491425Z"
    },
    "papermill": {
     "duration": 58.474959,
     "end_time": "2021-10-17T16:34:46.493070",
     "exception": false,
     "start_time": "2021-10-17T16:33:48.018111",
     "status": "completed"
    },
    "tags": []
   },
   "outputs": [],
   "source": [
    "#load the data set\n",
    "                   \n",
    "april_20 <- read.csv(\"../input/cyclistic/202004-divvy-tripdata/202004-divvy-tripdata.csv\")\n",
    "may_20 <- read.csv(\"../input/cyclistic/202005-divvy-tripdata/202005-divvy-tripdata.csv\")\n",
    "june_20 <- read.csv(\"../input/cyclistic/202006-divvy-tripdata/202006-divvy-tripdata.csv\")\n",
    "july_20 <- read.csv(\"../input/cyclistic/202007-divvy-tripdata/202007-divvy-tripdata.csv\")\n",
    "aug_20 <- read.csv(\"../input/cyclistic/202008-divvy-tripdata/202008-divvy-tripdata.csv\")\n",
    "sept_20 <- read.csv(\"../input/cyclistic/202009-divvy-tripdata/202009-divvy-tripdata.csv\")\n",
    "oct_20 <- read.csv(\"../input/cyclistic/202010-divvy-tripdata/202010-divvy-tripdata.csv\")\n",
    "nov_20 <- read.csv(\"../input/cyclistic/202011-divvy-tripdata/202011-divvy-tripdata.csv\")\n",
    "dec_20 <- read.csv(\"../input/cyclistic/202012-divvy-tripdata/202012-divvy-tripdata.csv\")\n",
    "jan_21 <- read.csv(\"../input/cyclistic/202101-divvy-tripdata/202101-divvy-tripdata.csv\")\n",
    "feb_21 <- read.csv(\"../input/cyclistic/202102-divvy-tripdata/202102-divvy-tripdata.csv\")\n",
    "mar_21 <- read.csv(\"../input/cyclistic/202103-divvy-tripdata/202103-divvy-tripdata.csv\")"
   ]
  },
  {
   "cell_type": "code",
   "execution_count": 3,
   "id": "ad7a1937",
   "metadata": {
    "execution": {
     "iopub.execute_input": "2021-10-17T16:34:46.718044Z",
     "iopub.status.busy": "2021-10-17T16:34:46.716583Z",
     "iopub.status.idle": "2021-10-17T16:34:46.787218Z",
     "shell.execute_reply": "2021-10-17T16:34:46.785890Z"
    },
    "papermill": {
     "duration": 0.184487,
     "end_time": "2021-10-17T16:34:46.787355",
     "exception": false,
     "start_time": "2021-10-17T16:34:46.602868",
     "status": "completed"
    },
    "tags": []
   },
   "outputs": [
    {
     "data": {
      "text/html": [
       "<style>\n",
       ".list-inline {list-style: none; margin:0; padding: 0}\n",
       ".list-inline>li {display: inline-block}\n",
       ".list-inline>li:not(:last-child)::after {content: \"\\00b7\"; padding: 0 .5ex}\n",
       "</style>\n",
       "<ol class=list-inline><li>'ride_id'</li><li>'rideable_type'</li><li>'started_at'</li><li>'ended_at'</li><li>'start_station_name'</li><li>'start_station_id'</li><li>'end_station_name'</li><li>'end_station_id'</li><li>'start_lat'</li><li>'start_lng'</li><li>'end_lat'</li><li>'end_lng'</li><li>'member_casual'</li></ol>\n"
      ],
      "text/latex": [
       "\\begin{enumerate*}\n",
       "\\item 'ride\\_id'\n",
       "\\item 'rideable\\_type'\n",
       "\\item 'started\\_at'\n",
       "\\item 'ended\\_at'\n",
       "\\item 'start\\_station\\_name'\n",
       "\\item 'start\\_station\\_id'\n",
       "\\item 'end\\_station\\_name'\n",
       "\\item 'end\\_station\\_id'\n",
       "\\item 'start\\_lat'\n",
       "\\item 'start\\_lng'\n",
       "\\item 'end\\_lat'\n",
       "\\item 'end\\_lng'\n",
       "\\item 'member\\_casual'\n",
       "\\end{enumerate*}\n"
      ],
      "text/markdown": [
       "1. 'ride_id'\n",
       "2. 'rideable_type'\n",
       "3. 'started_at'\n",
       "4. 'ended_at'\n",
       "5. 'start_station_name'\n",
       "6. 'start_station_id'\n",
       "7. 'end_station_name'\n",
       "8. 'end_station_id'\n",
       "9. 'start_lat'\n",
       "10. 'start_lng'\n",
       "11. 'end_lat'\n",
       "12. 'end_lng'\n",
       "13. 'member_casual'\n",
       "\n",
       "\n"
      ],
      "text/plain": [
       " [1] \"ride_id\"            \"rideable_type\"      \"started_at\"        \n",
       " [4] \"ended_at\"           \"start_station_name\" \"start_station_id\"  \n",
       " [7] \"end_station_name\"   \"end_station_id\"     \"start_lat\"         \n",
       "[10] \"start_lng\"          \"end_lat\"            \"end_lng\"           \n",
       "[13] \"member_casual\"     "
      ]
     },
     "metadata": {},
     "output_type": "display_data"
    },
    {
     "data": {
      "text/html": [
       "<style>\n",
       ".list-inline {list-style: none; margin:0; padding: 0}\n",
       ".list-inline>li {display: inline-block}\n",
       ".list-inline>li:not(:last-child)::after {content: \"\\00b7\"; padding: 0 .5ex}\n",
       "</style>\n",
       "<ol class=list-inline><li>'ride_id'</li><li>'rideable_type'</li><li>'started_at'</li><li>'ended_at'</li><li>'start_station_name'</li><li>'start_station_id'</li><li>'end_station_name'</li><li>'end_station_id'</li><li>'start_lat'</li><li>'start_lng'</li><li>'end_lat'</li><li>'end_lng'</li><li>'member_casual'</li></ol>\n"
      ],
      "text/latex": [
       "\\begin{enumerate*}\n",
       "\\item 'ride\\_id'\n",
       "\\item 'rideable\\_type'\n",
       "\\item 'started\\_at'\n",
       "\\item 'ended\\_at'\n",
       "\\item 'start\\_station\\_name'\n",
       "\\item 'start\\_station\\_id'\n",
       "\\item 'end\\_station\\_name'\n",
       "\\item 'end\\_station\\_id'\n",
       "\\item 'start\\_lat'\n",
       "\\item 'start\\_lng'\n",
       "\\item 'end\\_lat'\n",
       "\\item 'end\\_lng'\n",
       "\\item 'member\\_casual'\n",
       "\\end{enumerate*}\n"
      ],
      "text/markdown": [
       "1. 'ride_id'\n",
       "2. 'rideable_type'\n",
       "3. 'started_at'\n",
       "4. 'ended_at'\n",
       "5. 'start_station_name'\n",
       "6. 'start_station_id'\n",
       "7. 'end_station_name'\n",
       "8. 'end_station_id'\n",
       "9. 'start_lat'\n",
       "10. 'start_lng'\n",
       "11. 'end_lat'\n",
       "12. 'end_lng'\n",
       "13. 'member_casual'\n",
       "\n",
       "\n"
      ],
      "text/plain": [
       " [1] \"ride_id\"            \"rideable_type\"      \"started_at\"        \n",
       " [4] \"ended_at\"           \"start_station_name\" \"start_station_id\"  \n",
       " [7] \"end_station_name\"   \"end_station_id\"     \"start_lat\"         \n",
       "[10] \"start_lng\"          \"end_lat\"            \"end_lng\"           \n",
       "[13] \"member_casual\"     "
      ]
     },
     "metadata": {},
     "output_type": "display_data"
    },
    {
     "data": {
      "text/html": [
       "<style>\n",
       ".list-inline {list-style: none; margin:0; padding: 0}\n",
       ".list-inline>li {display: inline-block}\n",
       ".list-inline>li:not(:last-child)::after {content: \"\\00b7\"; padding: 0 .5ex}\n",
       "</style>\n",
       "<ol class=list-inline><li>'ride_id'</li><li>'rideable_type'</li><li>'started_at'</li><li>'ended_at'</li><li>'start_station_name'</li><li>'start_station_id'</li><li>'end_station_name'</li><li>'end_station_id'</li><li>'start_lat'</li><li>'start_lng'</li><li>'end_lat'</li><li>'end_lng'</li><li>'member_casual'</li></ol>\n"
      ],
      "text/latex": [
       "\\begin{enumerate*}\n",
       "\\item 'ride\\_id'\n",
       "\\item 'rideable\\_type'\n",
       "\\item 'started\\_at'\n",
       "\\item 'ended\\_at'\n",
       "\\item 'start\\_station\\_name'\n",
       "\\item 'start\\_station\\_id'\n",
       "\\item 'end\\_station\\_name'\n",
       "\\item 'end\\_station\\_id'\n",
       "\\item 'start\\_lat'\n",
       "\\item 'start\\_lng'\n",
       "\\item 'end\\_lat'\n",
       "\\item 'end\\_lng'\n",
       "\\item 'member\\_casual'\n",
       "\\end{enumerate*}\n"
      ],
      "text/markdown": [
       "1. 'ride_id'\n",
       "2. 'rideable_type'\n",
       "3. 'started_at'\n",
       "4. 'ended_at'\n",
       "5. 'start_station_name'\n",
       "6. 'start_station_id'\n",
       "7. 'end_station_name'\n",
       "8. 'end_station_id'\n",
       "9. 'start_lat'\n",
       "10. 'start_lng'\n",
       "11. 'end_lat'\n",
       "12. 'end_lng'\n",
       "13. 'member_casual'\n",
       "\n",
       "\n"
      ],
      "text/plain": [
       " [1] \"ride_id\"            \"rideable_type\"      \"started_at\"        \n",
       " [4] \"ended_at\"           \"start_station_name\" \"start_station_id\"  \n",
       " [7] \"end_station_name\"   \"end_station_id\"     \"start_lat\"         \n",
       "[10] \"start_lng\"          \"end_lat\"            \"end_lng\"           \n",
       "[13] \"member_casual\"     "
      ]
     },
     "metadata": {},
     "output_type": "display_data"
    },
    {
     "data": {
      "text/html": [
       "<style>\n",
       ".list-inline {list-style: none; margin:0; padding: 0}\n",
       ".list-inline>li {display: inline-block}\n",
       ".list-inline>li:not(:last-child)::after {content: \"\\00b7\"; padding: 0 .5ex}\n",
       "</style>\n",
       "<ol class=list-inline><li>'ride_id'</li><li>'rideable_type'</li><li>'started_at'</li><li>'ended_at'</li><li>'start_station_name'</li><li>'start_station_id'</li><li>'end_station_name'</li><li>'end_station_id'</li><li>'start_lat'</li><li>'start_lng'</li><li>'end_lat'</li><li>'end_lng'</li><li>'member_casual'</li></ol>\n"
      ],
      "text/latex": [
       "\\begin{enumerate*}\n",
       "\\item 'ride\\_id'\n",
       "\\item 'rideable\\_type'\n",
       "\\item 'started\\_at'\n",
       "\\item 'ended\\_at'\n",
       "\\item 'start\\_station\\_name'\n",
       "\\item 'start\\_station\\_id'\n",
       "\\item 'end\\_station\\_name'\n",
       "\\item 'end\\_station\\_id'\n",
       "\\item 'start\\_lat'\n",
       "\\item 'start\\_lng'\n",
       "\\item 'end\\_lat'\n",
       "\\item 'end\\_lng'\n",
       "\\item 'member\\_casual'\n",
       "\\end{enumerate*}\n"
      ],
      "text/markdown": [
       "1. 'ride_id'\n",
       "2. 'rideable_type'\n",
       "3. 'started_at'\n",
       "4. 'ended_at'\n",
       "5. 'start_station_name'\n",
       "6. 'start_station_id'\n",
       "7. 'end_station_name'\n",
       "8. 'end_station_id'\n",
       "9. 'start_lat'\n",
       "10. 'start_lng'\n",
       "11. 'end_lat'\n",
       "12. 'end_lng'\n",
       "13. 'member_casual'\n",
       "\n",
       "\n"
      ],
      "text/plain": [
       " [1] \"ride_id\"            \"rideable_type\"      \"started_at\"        \n",
       " [4] \"ended_at\"           \"start_station_name\" \"start_station_id\"  \n",
       " [7] \"end_station_name\"   \"end_station_id\"     \"start_lat\"         \n",
       "[10] \"start_lng\"          \"end_lat\"            \"end_lng\"           \n",
       "[13] \"member_casual\"     "
      ]
     },
     "metadata": {},
     "output_type": "display_data"
    },
    {
     "data": {
      "text/html": [
       "<style>\n",
       ".list-inline {list-style: none; margin:0; padding: 0}\n",
       ".list-inline>li {display: inline-block}\n",
       ".list-inline>li:not(:last-child)::after {content: \"\\00b7\"; padding: 0 .5ex}\n",
       "</style>\n",
       "<ol class=list-inline><li>'ride_id'</li><li>'rideable_type'</li><li>'started_at'</li><li>'ended_at'</li><li>'start_station_name'</li><li>'start_station_id'</li><li>'end_station_name'</li><li>'end_station_id'</li><li>'start_lat'</li><li>'start_lng'</li><li>'end_lat'</li><li>'end_lng'</li><li>'member_casual'</li></ol>\n"
      ],
      "text/latex": [
       "\\begin{enumerate*}\n",
       "\\item 'ride\\_id'\n",
       "\\item 'rideable\\_type'\n",
       "\\item 'started\\_at'\n",
       "\\item 'ended\\_at'\n",
       "\\item 'start\\_station\\_name'\n",
       "\\item 'start\\_station\\_id'\n",
       "\\item 'end\\_station\\_name'\n",
       "\\item 'end\\_station\\_id'\n",
       "\\item 'start\\_lat'\n",
       "\\item 'start\\_lng'\n",
       "\\item 'end\\_lat'\n",
       "\\item 'end\\_lng'\n",
       "\\item 'member\\_casual'\n",
       "\\end{enumerate*}\n"
      ],
      "text/markdown": [
       "1. 'ride_id'\n",
       "2. 'rideable_type'\n",
       "3. 'started_at'\n",
       "4. 'ended_at'\n",
       "5. 'start_station_name'\n",
       "6. 'start_station_id'\n",
       "7. 'end_station_name'\n",
       "8. 'end_station_id'\n",
       "9. 'start_lat'\n",
       "10. 'start_lng'\n",
       "11. 'end_lat'\n",
       "12. 'end_lng'\n",
       "13. 'member_casual'\n",
       "\n",
       "\n"
      ],
      "text/plain": [
       " [1] \"ride_id\"            \"rideable_type\"      \"started_at\"        \n",
       " [4] \"ended_at\"           \"start_station_name\" \"start_station_id\"  \n",
       " [7] \"end_station_name\"   \"end_station_id\"     \"start_lat\"         \n",
       "[10] \"start_lng\"          \"end_lat\"            \"end_lng\"           \n",
       "[13] \"member_casual\"     "
      ]
     },
     "metadata": {},
     "output_type": "display_data"
    },
    {
     "data": {
      "text/html": [
       "<style>\n",
       ".list-inline {list-style: none; margin:0; padding: 0}\n",
       ".list-inline>li {display: inline-block}\n",
       ".list-inline>li:not(:last-child)::after {content: \"\\00b7\"; padding: 0 .5ex}\n",
       "</style>\n",
       "<ol class=list-inline><li>'ride_id'</li><li>'rideable_type'</li><li>'started_at'</li><li>'ended_at'</li><li>'start_station_name'</li><li>'start_station_id'</li><li>'end_station_name'</li><li>'end_station_id'</li><li>'start_lat'</li><li>'start_lng'</li><li>'end_lat'</li><li>'end_lng'</li><li>'member_casual'</li></ol>\n"
      ],
      "text/latex": [
       "\\begin{enumerate*}\n",
       "\\item 'ride\\_id'\n",
       "\\item 'rideable\\_type'\n",
       "\\item 'started\\_at'\n",
       "\\item 'ended\\_at'\n",
       "\\item 'start\\_station\\_name'\n",
       "\\item 'start\\_station\\_id'\n",
       "\\item 'end\\_station\\_name'\n",
       "\\item 'end\\_station\\_id'\n",
       "\\item 'start\\_lat'\n",
       "\\item 'start\\_lng'\n",
       "\\item 'end\\_lat'\n",
       "\\item 'end\\_lng'\n",
       "\\item 'member\\_casual'\n",
       "\\end{enumerate*}\n"
      ],
      "text/markdown": [
       "1. 'ride_id'\n",
       "2. 'rideable_type'\n",
       "3. 'started_at'\n",
       "4. 'ended_at'\n",
       "5. 'start_station_name'\n",
       "6. 'start_station_id'\n",
       "7. 'end_station_name'\n",
       "8. 'end_station_id'\n",
       "9. 'start_lat'\n",
       "10. 'start_lng'\n",
       "11. 'end_lat'\n",
       "12. 'end_lng'\n",
       "13. 'member_casual'\n",
       "\n",
       "\n"
      ],
      "text/plain": [
       " [1] \"ride_id\"            \"rideable_type\"      \"started_at\"        \n",
       " [4] \"ended_at\"           \"start_station_name\" \"start_station_id\"  \n",
       " [7] \"end_station_name\"   \"end_station_id\"     \"start_lat\"         \n",
       "[10] \"start_lng\"          \"end_lat\"            \"end_lng\"           \n",
       "[13] \"member_casual\"     "
      ]
     },
     "metadata": {},
     "output_type": "display_data"
    },
    {
     "data": {
      "text/html": [
       "<style>\n",
       ".list-inline {list-style: none; margin:0; padding: 0}\n",
       ".list-inline>li {display: inline-block}\n",
       ".list-inline>li:not(:last-child)::after {content: \"\\00b7\"; padding: 0 .5ex}\n",
       "</style>\n",
       "<ol class=list-inline><li>'ride_id'</li><li>'rideable_type'</li><li>'started_at'</li><li>'ended_at'</li><li>'start_station_name'</li><li>'start_station_id'</li><li>'end_station_name'</li><li>'end_station_id'</li><li>'start_lat'</li><li>'start_lng'</li><li>'end_lat'</li><li>'end_lng'</li><li>'member_casual'</li></ol>\n"
      ],
      "text/latex": [
       "\\begin{enumerate*}\n",
       "\\item 'ride\\_id'\n",
       "\\item 'rideable\\_type'\n",
       "\\item 'started\\_at'\n",
       "\\item 'ended\\_at'\n",
       "\\item 'start\\_station\\_name'\n",
       "\\item 'start\\_station\\_id'\n",
       "\\item 'end\\_station\\_name'\n",
       "\\item 'end\\_station\\_id'\n",
       "\\item 'start\\_lat'\n",
       "\\item 'start\\_lng'\n",
       "\\item 'end\\_lat'\n",
       "\\item 'end\\_lng'\n",
       "\\item 'member\\_casual'\n",
       "\\end{enumerate*}\n"
      ],
      "text/markdown": [
       "1. 'ride_id'\n",
       "2. 'rideable_type'\n",
       "3. 'started_at'\n",
       "4. 'ended_at'\n",
       "5. 'start_station_name'\n",
       "6. 'start_station_id'\n",
       "7. 'end_station_name'\n",
       "8. 'end_station_id'\n",
       "9. 'start_lat'\n",
       "10. 'start_lng'\n",
       "11. 'end_lat'\n",
       "12. 'end_lng'\n",
       "13. 'member_casual'\n",
       "\n",
       "\n"
      ],
      "text/plain": [
       " [1] \"ride_id\"            \"rideable_type\"      \"started_at\"        \n",
       " [4] \"ended_at\"           \"start_station_name\" \"start_station_id\"  \n",
       " [7] \"end_station_name\"   \"end_station_id\"     \"start_lat\"         \n",
       "[10] \"start_lng\"          \"end_lat\"            \"end_lng\"           \n",
       "[13] \"member_casual\"     "
      ]
     },
     "metadata": {},
     "output_type": "display_data"
    },
    {
     "data": {
      "text/html": [
       "<style>\n",
       ".list-inline {list-style: none; margin:0; padding: 0}\n",
       ".list-inline>li {display: inline-block}\n",
       ".list-inline>li:not(:last-child)::after {content: \"\\00b7\"; padding: 0 .5ex}\n",
       "</style>\n",
       "<ol class=list-inline><li>'ride_id'</li><li>'rideable_type'</li><li>'started_at'</li><li>'ended_at'</li><li>'start_station_name'</li><li>'start_station_id'</li><li>'end_station_name'</li><li>'end_station_id'</li><li>'start_lat'</li><li>'start_lng'</li><li>'end_lat'</li><li>'end_lng'</li><li>'member_casual'</li></ol>\n"
      ],
      "text/latex": [
       "\\begin{enumerate*}\n",
       "\\item 'ride\\_id'\n",
       "\\item 'rideable\\_type'\n",
       "\\item 'started\\_at'\n",
       "\\item 'ended\\_at'\n",
       "\\item 'start\\_station\\_name'\n",
       "\\item 'start\\_station\\_id'\n",
       "\\item 'end\\_station\\_name'\n",
       "\\item 'end\\_station\\_id'\n",
       "\\item 'start\\_lat'\n",
       "\\item 'start\\_lng'\n",
       "\\item 'end\\_lat'\n",
       "\\item 'end\\_lng'\n",
       "\\item 'member\\_casual'\n",
       "\\end{enumerate*}\n"
      ],
      "text/markdown": [
       "1. 'ride_id'\n",
       "2. 'rideable_type'\n",
       "3. 'started_at'\n",
       "4. 'ended_at'\n",
       "5. 'start_station_name'\n",
       "6. 'start_station_id'\n",
       "7. 'end_station_name'\n",
       "8. 'end_station_id'\n",
       "9. 'start_lat'\n",
       "10. 'start_lng'\n",
       "11. 'end_lat'\n",
       "12. 'end_lng'\n",
       "13. 'member_casual'\n",
       "\n",
       "\n"
      ],
      "text/plain": [
       " [1] \"ride_id\"            \"rideable_type\"      \"started_at\"        \n",
       " [4] \"ended_at\"           \"start_station_name\" \"start_station_id\"  \n",
       " [7] \"end_station_name\"   \"end_station_id\"     \"start_lat\"         \n",
       "[10] \"start_lng\"          \"end_lat\"            \"end_lng\"           \n",
       "[13] \"member_casual\"     "
      ]
     },
     "metadata": {},
     "output_type": "display_data"
    },
    {
     "data": {
      "text/html": [
       "<style>\n",
       ".list-inline {list-style: none; margin:0; padding: 0}\n",
       ".list-inline>li {display: inline-block}\n",
       ".list-inline>li:not(:last-child)::after {content: \"\\00b7\"; padding: 0 .5ex}\n",
       "</style>\n",
       "<ol class=list-inline><li>'ride_id'</li><li>'rideable_type'</li><li>'started_at'</li><li>'ended_at'</li><li>'start_station_name'</li><li>'start_station_id'</li><li>'end_station_name'</li><li>'end_station_id'</li><li>'start_lat'</li><li>'start_lng'</li><li>'end_lat'</li><li>'end_lng'</li><li>'member_casual'</li></ol>\n"
      ],
      "text/latex": [
       "\\begin{enumerate*}\n",
       "\\item 'ride\\_id'\n",
       "\\item 'rideable\\_type'\n",
       "\\item 'started\\_at'\n",
       "\\item 'ended\\_at'\n",
       "\\item 'start\\_station\\_name'\n",
       "\\item 'start\\_station\\_id'\n",
       "\\item 'end\\_station\\_name'\n",
       "\\item 'end\\_station\\_id'\n",
       "\\item 'start\\_lat'\n",
       "\\item 'start\\_lng'\n",
       "\\item 'end\\_lat'\n",
       "\\item 'end\\_lng'\n",
       "\\item 'member\\_casual'\n",
       "\\end{enumerate*}\n"
      ],
      "text/markdown": [
       "1. 'ride_id'\n",
       "2. 'rideable_type'\n",
       "3. 'started_at'\n",
       "4. 'ended_at'\n",
       "5. 'start_station_name'\n",
       "6. 'start_station_id'\n",
       "7. 'end_station_name'\n",
       "8. 'end_station_id'\n",
       "9. 'start_lat'\n",
       "10. 'start_lng'\n",
       "11. 'end_lat'\n",
       "12. 'end_lng'\n",
       "13. 'member_casual'\n",
       "\n",
       "\n"
      ],
      "text/plain": [
       " [1] \"ride_id\"            \"rideable_type\"      \"started_at\"        \n",
       " [4] \"ended_at\"           \"start_station_name\" \"start_station_id\"  \n",
       " [7] \"end_station_name\"   \"end_station_id\"     \"start_lat\"         \n",
       "[10] \"start_lng\"          \"end_lat\"            \"end_lng\"           \n",
       "[13] \"member_casual\"     "
      ]
     },
     "metadata": {},
     "output_type": "display_data"
    },
    {
     "data": {
      "text/html": [
       "<style>\n",
       ".list-inline {list-style: none; margin:0; padding: 0}\n",
       ".list-inline>li {display: inline-block}\n",
       ".list-inline>li:not(:last-child)::after {content: \"\\00b7\"; padding: 0 .5ex}\n",
       "</style>\n",
       "<ol class=list-inline><li>'ride_id'</li><li>'rideable_type'</li><li>'started_at'</li><li>'ended_at'</li><li>'start_station_name'</li><li>'start_station_id'</li><li>'end_station_name'</li><li>'end_station_id'</li><li>'start_lat'</li><li>'start_lng'</li><li>'end_lat'</li><li>'end_lng'</li><li>'member_casual'</li></ol>\n"
      ],
      "text/latex": [
       "\\begin{enumerate*}\n",
       "\\item 'ride\\_id'\n",
       "\\item 'rideable\\_type'\n",
       "\\item 'started\\_at'\n",
       "\\item 'ended\\_at'\n",
       "\\item 'start\\_station\\_name'\n",
       "\\item 'start\\_station\\_id'\n",
       "\\item 'end\\_station\\_name'\n",
       "\\item 'end\\_station\\_id'\n",
       "\\item 'start\\_lat'\n",
       "\\item 'start\\_lng'\n",
       "\\item 'end\\_lat'\n",
       "\\item 'end\\_lng'\n",
       "\\item 'member\\_casual'\n",
       "\\end{enumerate*}\n"
      ],
      "text/markdown": [
       "1. 'ride_id'\n",
       "2. 'rideable_type'\n",
       "3. 'started_at'\n",
       "4. 'ended_at'\n",
       "5. 'start_station_name'\n",
       "6. 'start_station_id'\n",
       "7. 'end_station_name'\n",
       "8. 'end_station_id'\n",
       "9. 'start_lat'\n",
       "10. 'start_lng'\n",
       "11. 'end_lat'\n",
       "12. 'end_lng'\n",
       "13. 'member_casual'\n",
       "\n",
       "\n"
      ],
      "text/plain": [
       " [1] \"ride_id\"            \"rideable_type\"      \"started_at\"        \n",
       " [4] \"ended_at\"           \"start_station_name\" \"start_station_id\"  \n",
       " [7] \"end_station_name\"   \"end_station_id\"     \"start_lat\"         \n",
       "[10] \"start_lng\"          \"end_lat\"            \"end_lng\"           \n",
       "[13] \"member_casual\"     "
      ]
     },
     "metadata": {},
     "output_type": "display_data"
    },
    {
     "data": {
      "text/html": [
       "<style>\n",
       ".list-inline {list-style: none; margin:0; padding: 0}\n",
       ".list-inline>li {display: inline-block}\n",
       ".list-inline>li:not(:last-child)::after {content: \"\\00b7\"; padding: 0 .5ex}\n",
       "</style>\n",
       "<ol class=list-inline><li>'ride_id'</li><li>'rideable_type'</li><li>'started_at'</li><li>'ended_at'</li><li>'start_station_name'</li><li>'start_station_id'</li><li>'end_station_name'</li><li>'end_station_id'</li><li>'start_lat'</li><li>'start_lng'</li><li>'end_lat'</li><li>'end_lng'</li><li>'member_casual'</li></ol>\n"
      ],
      "text/latex": [
       "\\begin{enumerate*}\n",
       "\\item 'ride\\_id'\n",
       "\\item 'rideable\\_type'\n",
       "\\item 'started\\_at'\n",
       "\\item 'ended\\_at'\n",
       "\\item 'start\\_station\\_name'\n",
       "\\item 'start\\_station\\_id'\n",
       "\\item 'end\\_station\\_name'\n",
       "\\item 'end\\_station\\_id'\n",
       "\\item 'start\\_lat'\n",
       "\\item 'start\\_lng'\n",
       "\\item 'end\\_lat'\n",
       "\\item 'end\\_lng'\n",
       "\\item 'member\\_casual'\n",
       "\\end{enumerate*}\n"
      ],
      "text/markdown": [
       "1. 'ride_id'\n",
       "2. 'rideable_type'\n",
       "3. 'started_at'\n",
       "4. 'ended_at'\n",
       "5. 'start_station_name'\n",
       "6. 'start_station_id'\n",
       "7. 'end_station_name'\n",
       "8. 'end_station_id'\n",
       "9. 'start_lat'\n",
       "10. 'start_lng'\n",
       "11. 'end_lat'\n",
       "12. 'end_lng'\n",
       "13. 'member_casual'\n",
       "\n",
       "\n"
      ],
      "text/plain": [
       " [1] \"ride_id\"            \"rideable_type\"      \"started_at\"        \n",
       " [4] \"ended_at\"           \"start_station_name\" \"start_station_id\"  \n",
       " [7] \"end_station_name\"   \"end_station_id\"     \"start_lat\"         \n",
       "[10] \"start_lng\"          \"end_lat\"            \"end_lng\"           \n",
       "[13] \"member_casual\"     "
      ]
     },
     "metadata": {},
     "output_type": "display_data"
    },
    {
     "data": {
      "text/html": [
       "<style>\n",
       ".list-inline {list-style: none; margin:0; padding: 0}\n",
       ".list-inline>li {display: inline-block}\n",
       ".list-inline>li:not(:last-child)::after {content: \"\\00b7\"; padding: 0 .5ex}\n",
       "</style>\n",
       "<ol class=list-inline><li>'ride_id'</li><li>'rideable_type'</li><li>'started_at'</li><li>'ended_at'</li><li>'start_station_name'</li><li>'start_station_id'</li><li>'end_station_name'</li><li>'end_station_id'</li><li>'start_lat'</li><li>'start_lng'</li><li>'end_lat'</li><li>'end_lng'</li><li>'member_casual'</li></ol>\n"
      ],
      "text/latex": [
       "\\begin{enumerate*}\n",
       "\\item 'ride\\_id'\n",
       "\\item 'rideable\\_type'\n",
       "\\item 'started\\_at'\n",
       "\\item 'ended\\_at'\n",
       "\\item 'start\\_station\\_name'\n",
       "\\item 'start\\_station\\_id'\n",
       "\\item 'end\\_station\\_name'\n",
       "\\item 'end\\_station\\_id'\n",
       "\\item 'start\\_lat'\n",
       "\\item 'start\\_lng'\n",
       "\\item 'end\\_lat'\n",
       "\\item 'end\\_lng'\n",
       "\\item 'member\\_casual'\n",
       "\\end{enumerate*}\n"
      ],
      "text/markdown": [
       "1. 'ride_id'\n",
       "2. 'rideable_type'\n",
       "3. 'started_at'\n",
       "4. 'ended_at'\n",
       "5. 'start_station_name'\n",
       "6. 'start_station_id'\n",
       "7. 'end_station_name'\n",
       "8. 'end_station_id'\n",
       "9. 'start_lat'\n",
       "10. 'start_lng'\n",
       "11. 'end_lat'\n",
       "12. 'end_lng'\n",
       "13. 'member_casual'\n",
       "\n",
       "\n"
      ],
      "text/plain": [
       " [1] \"ride_id\"            \"rideable_type\"      \"started_at\"        \n",
       " [4] \"ended_at\"           \"start_station_name\" \"start_station_id\"  \n",
       " [7] \"end_station_name\"   \"end_station_id\"     \"start_lat\"         \n",
       "[10] \"start_lng\"          \"end_lat\"            \"end_lng\"           \n",
       "[13] \"member_casual\"     "
      ]
     },
     "metadata": {},
     "output_type": "display_data"
    }
   ],
   "source": [
    "### Step 3 :- Wrangle the data\n",
    "\n",
    "#### Compare the col-names     \n",
    "colnames(april_20)\n",
    "colnames(may_20)\n",
    "colnames(june_20)\n",
    "colnames(july_20)\n",
    "colnames(aug_20)\n",
    "colnames(sept_20)\n",
    "colnames(oct_20)\n",
    "colnames(nov_20)\n",
    "colnames(dec_20)\n",
    "colnames(jan_21)\n",
    "colnames(feb_21)\n",
    "colnames(mar_21)"
   ]
  },
  {
   "cell_type": "code",
   "execution_count": 4,
   "id": "5c5fa20f",
   "metadata": {
    "execution": {
     "iopub.execute_input": "2021-10-17T16:34:47.055147Z",
     "iopub.status.busy": "2021-10-17T16:34:47.053448Z",
     "iopub.status.idle": "2021-10-17T16:34:47.349516Z",
     "shell.execute_reply": "2021-10-17T16:34:47.348048Z"
    },
    "papermill": {
     "duration": 0.430442,
     "end_time": "2021-10-17T16:34:47.349653",
     "exception": false,
     "start_time": "2021-10-17T16:34:46.919211",
     "status": "completed"
    },
    "tags": []
   },
   "outputs": [
    {
     "name": "stdout",
     "output_type": "stream",
     "text": [
      "'data.frame':\t84776 obs. of  13 variables:\n",
      " $ ride_id           : chr  \"A847FADBBC638E45\" \"5405B80E996FF60D\" \"5DD24A79A4E006F4\" \"2A59BBDF5CDBA725\" ...\n",
      " $ rideable_type     : chr  \"docked_bike\" \"docked_bike\" \"docked_bike\" \"docked_bike\" ...\n",
      " $ started_at        : chr  \"2020-04-26 17:45:14\" \"2020-04-17 17:08:54\" \"2020-04-01 17:54:13\" \"2020-04-07 12:50:19\" ...\n",
      " $ ended_at          : chr  \"2020-04-26 18:12:03\" \"2020-04-17 17:17:03\" \"2020-04-01 18:08:36\" \"2020-04-07 13:02:31\" ...\n",
      " $ start_station_name: chr  \"Eckhart Park\" \"Drake Ave & Fullerton Ave\" \"McClurg Ct & Erie St\" \"California Ave & Division St\" ...\n",
      " $ start_station_id  : int  86 503 142 216 125 173 35 434 627 377 ...\n",
      " $ end_station_name  : chr  \"Lincoln Ave & Diversey Pkwy\" \"Kosciuszko Park\" \"Indiana Ave & Roosevelt Rd\" \"Wood St & Augusta Blvd\" ...\n",
      " $ end_station_id    : int  152 499 255 657 323 35 635 382 359 508 ...\n",
      " $ start_lat         : num  41.9 41.9 41.9 41.9 41.9 ...\n",
      " $ start_lng         : num  -87.7 -87.7 -87.6 -87.7 -87.6 ...\n",
      " $ end_lat           : num  41.9 41.9 41.9 41.9 42 ...\n",
      " $ end_lng           : num  -87.7 -87.7 -87.6 -87.7 -87.7 ...\n",
      " $ member_casual     : chr  \"member\" \"member\" \"member\" \"member\" ...\n",
      "'data.frame':\t200274 obs. of  13 variables:\n",
      " $ ride_id           : chr  \"02668AD35674B983\" \"7A50CCAF1EDDB28F\" \"2FFCDFDB91FE9A52\" \"58991CF1DB75BA84\" ...\n",
      " $ rideable_type     : chr  \"docked_bike\" \"docked_bike\" \"docked_bike\" \"docked_bike\" ...\n",
      " $ started_at        : chr  \"2020-05-27 10:03:52\" \"2020-05-25 10:47:11\" \"2020-05-02 14:11:03\" \"2020-05-02 16:25:36\" ...\n",
      " $ ended_at          : chr  \"2020-05-27 10:16:49\" \"2020-05-25 11:05:40\" \"2020-05-02 15:48:21\" \"2020-05-02 16:39:28\" ...\n",
      " $ start_station_name: chr  \"Franklin St & Jackson Blvd\" \"Clark St & Wrightwood Ave\" \"Kedzie Ave & Milwaukee Ave\" \"Clarendon Ave & Leland Ave\" ...\n",
      " $ start_station_id  : int  36 340 260 251 261 206 261 180 331 219 ...\n",
      " $ end_station_name  : chr  \"Wabash Ave & Grand Ave\" \"Clark St & Leland Ave\" \"Kedzie Ave & Milwaukee Ave\" \"Lake Shore Dr & Wellington Ave\" ...\n",
      " $ end_station_id    : int  199 326 260 157 206 22 261 180 300 305 ...\n",
      " $ start_lat         : num  41.9 41.9 41.9 42 41.9 ...\n",
      " $ start_lng         : num  -87.6 -87.6 -87.7 -87.7 -87.7 ...\n",
      " $ end_lat           : num  41.9 42 41.9 41.9 41.8 ...\n",
      " $ end_lng           : num  -87.6 -87.7 -87.7 -87.6 -87.6 ...\n",
      " $ member_casual     : chr  \"member\" \"casual\" \"casual\" \"casual\" ...\n",
      "'data.frame':\t343005 obs. of  13 variables:\n",
      " $ ride_id           : chr  \"8CD5DE2C2B6C4CFC\" \"9A191EB2C751D85D\" \"F37D14B0B5659BCF\" \"C41237B506E85FA1\" ...\n",
      " $ rideable_type     : chr  \"docked_bike\" \"docked_bike\" \"docked_bike\" \"docked_bike\" ...\n",
      " $ started_at        : chr  \"2020-06-13 23:24:48\" \"2020-06-26 07:26:10\" \"2020-06-23 17:12:41\" \"2020-06-20 01:09:35\" ...\n",
      " $ ended_at          : chr  \"2020-06-13 23:36:55\" \"2020-06-26 07:31:58\" \"2020-06-23 17:21:14\" \"2020-06-20 01:28:24\" ...\n",
      " $ start_station_name: chr  \"Wilton Ave & Belmont Ave\" \"Federal St & Polk St\" \"Daley Center Plaza\" \"Broadway & Cornelia Ave\" ...\n",
      " $ start_station_id  : int  117 41 81 303 327 327 41 115 338 84 ...\n",
      " $ end_station_name  : chr  \"Damen Ave & Clybourn Ave\" \"Daley Center Plaza\" \"State St & Harrison St\" \"Broadway & Berwyn Ave\" ...\n",
      " $ end_station_id    : int  163 81 5 294 117 117 81 303 164 53 ...\n",
      " $ start_lat         : num  41.9 41.9 41.9 41.9 41.9 ...\n",
      " $ start_lng         : num  -87.7 -87.6 -87.6 -87.6 -87.7 ...\n",
      " $ end_lat           : num  41.9 41.9 41.9 42 41.9 ...\n",
      " $ end_lng           : num  -87.7 -87.6 -87.6 -87.7 -87.7 ...\n",
      " $ member_casual     : chr  \"casual\" \"member\" \"member\" \"casual\" ...\n",
      "'data.frame':\t551480 obs. of  13 variables:\n",
      " $ ride_id           : chr  \"762198876D69004D\" \"BEC9C9FBA0D4CF1B\" \"D2FD8EA432C77EC1\" \"54AE594E20B35881\" ...\n",
      " $ rideable_type     : chr  \"docked_bike\" \"docked_bike\" \"docked_bike\" \"docked_bike\" ...\n",
      " $ started_at        : chr  \"2020-07-09 15:22:02\" \"2020-07-24 23:56:30\" \"2020-07-08 19:49:07\" \"2020-07-17 19:06:42\" ...\n",
      " $ ended_at          : chr  \"2020-07-09 15:25:52\" \"2020-07-25 00:20:17\" \"2020-07-08 19:56:22\" \"2020-07-17 19:27:38\" ...\n",
      " $ start_station_name: chr  \"Ritchie Ct & Banks St\" \"Halsted St & Roscoe St\" \"Lake Shore Dr & Diversey Pkwy\" \"LaSalle St & Illinois St\" ...\n",
      " $ start_station_id  : int  180 299 329 181 268 635 113 211 176 31 ...\n",
      " $ end_station_name  : chr  \"Wells St & Evergreen Ave\" \"Broadway & Ridge Ave\" \"Clark St & Wellington Ave\" \"Clark St & Armitage Ave\" ...\n",
      " $ end_station_id    : int  291 461 156 94 301 289 140 31 191 142 ...\n",
      " $ start_lat         : num  41.9 41.9 41.9 41.9 41.9 ...\n",
      " $ start_lng         : num  -87.6 -87.6 -87.6 -87.6 -87.6 ...\n",
      " $ end_lat           : num  41.9 42 41.9 41.9 41.9 ...\n",
      " $ end_lng           : num  -87.6 -87.7 -87.6 -87.6 -87.6 ...\n",
      " $ member_casual     : chr  \"member\" \"member\" \"casual\" \"casual\" ...\n",
      "'data.frame':\t622361 obs. of  13 variables:\n",
      " $ ride_id           : chr  \"322BD23D287743ED\" \"2A3AEF1AB9054D8B\" \"67DC1D133E8B5816\" \"C79FBBD412E578A7\" ...\n",
      " $ rideable_type     : chr  \"docked_bike\" \"electric_bike\" \"electric_bike\" \"electric_bike\" ...\n",
      " $ started_at        : chr  \"2020-08-20 18:08:14\" \"2020-08-27 18:46:04\" \"2020-08-26 19:44:14\" \"2020-08-27 12:05:41\" ...\n",
      " $ ended_at          : chr  \"2020-08-20 18:17:51\" \"2020-08-27 19:54:51\" \"2020-08-26 21:53:07\" \"2020-08-27 12:53:45\" ...\n",
      " $ start_station_name: chr  \"Lake Shore Dr & Diversey Pkwy\" \"Michigan Ave & 14th St\" \"Columbus Dr & Randolph St\" \"Daley Center Plaza\" ...\n",
      " $ start_station_id  : int  329 168 195 81 658 658 196 67 153 177 ...\n",
      " $ end_station_name  : chr  \"Clark St & Lincoln Ave\" \"Michigan Ave & 14th St\" \"State St & Randolph St\" \"State St & Kinzie St\" ...\n",
      " $ end_station_id    : int  141 168 44 47 658 658 49 229 225 305 ...\n",
      " $ start_lat         : num  41.9 41.9 41.9 41.9 41.9 ...\n",
      " $ start_lng         : num  -87.6 -87.6 -87.6 -87.6 -87.7 ...\n",
      " $ end_lat           : num  41.9 41.9 41.9 41.9 41.9 ...\n",
      " $ end_lng           : num  -87.6 -87.6 -87.6 -87.6 -87.7 ...\n",
      " $ member_casual     : chr  \"member\" \"casual\" \"casual\" \"casual\" ...\n",
      "'data.frame':\t532958 obs. of  13 variables:\n",
      " $ ride_id           : chr  \"2B22BD5F95FB2629\" \"A7FB70B4AFC6CAF2\" \"86057FA01BAC778E\" \"57F6DC9A153DB98C\" ...\n",
      " $ rideable_type     : chr  \"electric_bike\" \"electric_bike\" \"electric_bike\" \"electric_bike\" ...\n",
      " $ started_at        : chr  \"2020-09-17 14:27:11\" \"2020-09-17 15:07:31\" \"2020-09-17 15:09:04\" \"2020-09-17 18:10:46\" ...\n",
      " $ ended_at          : chr  \"2020-09-17 14:44:24\" \"2020-09-17 15:07:45\" \"2020-09-17 15:09:35\" \"2020-09-17 18:35:49\" ...\n",
      " $ start_station_name: chr  \"Michigan Ave & Lake St\" \"W Oakdale Ave & N Broadway\" \"W Oakdale Ave & N Broadway\" \"Ashland Ave & Belle Plaine Ave\" ...\n",
      " $ start_station_id  : int  52 NA NA 246 24 94 291 NA NA NA ...\n",
      " $ end_station_name  : chr  \"Green St & Randolph St\" \"W Oakdale Ave & N Broadway\" \"W Oakdale Ave & N Broadway\" \"Montrose Harbor\" ...\n",
      " $ end_station_id    : int  112 NA NA 249 24 NA 256 NA NA NA ...\n",
      " $ start_lat         : num  41.9 41.9 41.9 42 41.9 ...\n",
      " $ start_lng         : num  -87.6 -87.6 -87.6 -87.7 -87.6 ...\n",
      " $ end_lat           : num  41.9 41.9 41.9 42 41.9 ...\n",
      " $ end_lng           : num  -87.6 -87.6 -87.6 -87.6 -87.6 ...\n",
      " $ member_casual     : chr  \"casual\" \"casual\" \"casual\" \"casual\" ...\n",
      "'data.frame':\t388653 obs. of  13 variables:\n",
      " $ ride_id           : chr  \"ACB6B40CF5B9044C\" \"DF450C72FD109C01\" \"B6396B54A15AC0DF\" \"44A4AEE261B9E854\" ...\n",
      " $ rideable_type     : chr  \"electric_bike\" \"electric_bike\" \"electric_bike\" \"electric_bike\" ...\n",
      " $ started_at        : chr  \"2020-10-31 19:39:43\" \"2020-10-31 23:50:08\" \"2020-10-31 23:00:01\" \"2020-10-31 22:16:43\" ...\n",
      " $ ended_at          : chr  \"2020-10-31 19:57:12\" \"2020-11-01 00:04:16\" \"2020-10-31 23:08:22\" \"2020-10-31 22:19:35\" ...\n",
      " $ start_station_name: chr  \"Lakeview Ave & Fullerton Pkwy\" \"Southport Ave & Waveland Ave\" \"Stony Island Ave & 67th St\" \"Clark St & Grace St\" ...\n",
      " $ start_station_id  : int  313 227 102 165 190 359 313 125 NA 174 ...\n",
      " $ end_station_name  : chr  \"Rush St & Hubbard St\" \"Kedzie Ave & Milwaukee Ave\" \"University Ave & 57th St\" \"Broadway & Sheridan Rd\" ...\n",
      " $ end_station_id    : int  125 260 423 256 185 53 125 313 199 635 ...\n",
      " $ start_lat         : num  41.9 41.9 41.8 42 41.9 ...\n",
      " $ start_lng         : num  -87.6 -87.7 -87.6 -87.7 -87.7 ...\n",
      " $ end_lat           : num  41.9 41.9 41.8 42 41.9 ...\n",
      " $ end_lng           : num  -87.6 -87.7 -87.6 -87.7 -87.7 ...\n",
      " $ member_casual     : chr  \"casual\" \"casual\" \"casual\" \"casual\" ...\n",
      "'data.frame':\t259716 obs. of  13 variables:\n",
      " $ ride_id           : chr  \"BD0A6FF6FFF9B921\" \"96A7A7A4BDE4F82D\" \"C61526D06582BDC5\" \"E533E89C32080B9E\" ...\n",
      " $ rideable_type     : chr  \"electric_bike\" \"electric_bike\" \"electric_bike\" \"electric_bike\" ...\n",
      " $ started_at        : chr  \"2020-11-01 13:36:00\" \"2020-11-01 10:03:26\" \"2020-11-01 00:34:05\" \"2020-11-01 00:45:16\" ...\n",
      " $ ended_at          : chr  \"2020-11-01 13:45:40\" \"2020-11-01 10:14:45\" \"2020-11-01 01:03:06\" \"2020-11-01 00:54:31\" ...\n",
      " $ start_station_name: chr  \"Dearborn St & Erie St\" \"Franklin St & Illinois St\" \"Lake Shore Dr & Monroe St\" \"Leavitt St & Chicago Ave\" ...\n",
      " $ start_station_id  : int  110 672 76 659 2 72 76 NA 58 394 ...\n",
      " $ end_station_name  : chr  \"St. Clair St & Erie St\" \"Noble St & Milwaukee Ave\" \"Federal St & Polk St\" \"Stave St & Armitage Ave\" ...\n",
      " $ end_station_id    : int  211 29 41 185 2 76 72 NA 288 273 ...\n",
      " $ start_lat         : num  41.9 41.9 41.9 41.9 41.9 ...\n",
      " $ start_lng         : num  -87.6 -87.6 -87.6 -87.7 -87.6 ...\n",
      " $ end_lat           : num  41.9 41.9 41.9 41.9 41.9 ...\n",
      " $ end_lng           : num  -87.6 -87.7 -87.6 -87.7 -87.6 ...\n",
      " $ member_casual     : chr  \"casual\" \"casual\" \"casual\" \"casual\" ...\n",
      "'data.frame':\t131573 obs. of  13 variables:\n",
      " $ ride_id           : chr  \"70B6A9A437D4C30D\" \"158A465D4E74C54A\" \"5262016E0F1F2F9A\" \"BE119628E44F871E\" ...\n",
      " $ rideable_type     : chr  \"classic_bike\" \"electric_bike\" \"electric_bike\" \"electric_bike\" ...\n",
      " $ started_at        : chr  \"2020-12-27 12:44:29\" \"2020-12-18 17:37:15\" \"2020-12-15 15:04:33\" \"2020-12-15 15:54:18\" ...\n",
      " $ ended_at          : chr  \"2020-12-27 12:55:06\" \"2020-12-18 17:44:19\" \"2020-12-15 15:11:28\" \"2020-12-15 16:00:11\" ...\n",
      " $ start_station_name: chr  \"Aberdeen St & Jackson Blvd\" \"\" \"\" \"\" ...\n",
      " $ start_station_id  : chr  \"13157\" \"\" \"\" \"\" ...\n",
      " $ end_station_name  : chr  \"Desplaines St & Kinzie St\" \"\" \"\" \"\" ...\n",
      " $ end_station_id    : chr  \"TA1306000003\" \"\" \"\" \"\" ...\n",
      " $ start_lat         : num  41.9 41.9 41.9 41.9 41.8 ...\n",
      " $ start_lng         : num  -87.7 -87.7 -87.7 -87.7 -87.6 ...\n",
      " $ end_lat           : num  41.9 41.9 41.9 41.9 41.8 ...\n",
      " $ end_lng           : num  -87.6 -87.7 -87.7 -87.7 -87.6 ...\n",
      " $ member_casual     : chr  \"member\" \"member\" \"member\" \"member\" ...\n",
      "'data.frame':\t96834 obs. of  13 variables:\n",
      " $ ride_id           : chr  \"E19E6F1B8D4C42ED\" \"DC88F20C2C55F27F\" \"EC45C94683FE3F27\" \"4FA453A75AE377DB\" ...\n",
      " $ rideable_type     : chr  \"electric_bike\" \"electric_bike\" \"electric_bike\" \"electric_bike\" ...\n",
      " $ started_at        : chr  \"2021-01-23 16:14:19\" \"2021-01-27 18:43:08\" \"2021-01-21 22:35:54\" \"2021-01-07 13:31:13\" ...\n",
      " $ ended_at          : chr  \"2021-01-23 16:24:44\" \"2021-01-27 18:47:12\" \"2021-01-21 22:37:14\" \"2021-01-07 13:42:55\" ...\n",
      " $ start_station_name: chr  \"California Ave & Cortez St\" \"California Ave & Cortez St\" \"California Ave & Cortez St\" \"California Ave & Cortez St\" ...\n",
      " $ start_station_id  : chr  \"17660\" \"17660\" \"17660\" \"17660\" ...\n",
      " $ end_station_name  : chr  \"\" \"\" \"\" \"\" ...\n",
      " $ end_station_id    : chr  \"\" \"\" \"\" \"\" ...\n",
      " $ start_lat         : num  41.9 41.9 41.9 41.9 41.9 ...\n",
      " $ start_lng         : num  -87.7 -87.7 -87.7 -87.7 -87.7 ...\n",
      " $ end_lat           : num  41.9 41.9 41.9 41.9 41.9 ...\n",
      " $ end_lng           : num  -87.7 -87.7 -87.7 -87.7 -87.7 ...\n",
      " $ member_casual     : chr  \"member\" \"member\" \"member\" \"member\" ...\n",
      "'data.frame':\t49622 obs. of  13 variables:\n",
      " $ ride_id           : chr  \"89E7AA6C29227EFF\" \"0FEFDE2603568365\" \"E6159D746B2DBB91\" \"B32D3199F1C2E75B\" ...\n",
      " $ rideable_type     : chr  \"classic_bike\" \"classic_bike\" \"electric_bike\" \"classic_bike\" ...\n",
      " $ started_at        : chr  \"2021-02-12 16:14:56\" \"2021-02-14 17:52:38\" \"2021-02-09 19:10:18\" \"2021-02-02 17:49:41\" ...\n",
      " $ ended_at          : chr  \"2021-02-12 16:21:43\" \"2021-02-14 18:12:09\" \"2021-02-09 19:19:10\" \"2021-02-02 17:54:06\" ...\n",
      " $ start_station_name: chr  \"Glenwood Ave & Touhy Ave\" \"Glenwood Ave & Touhy Ave\" \"Clark St & Lake St\" \"Wood St & Chicago Ave\" ...\n",
      " $ start_station_id  : chr  \"525\" \"525\" \"KA1503000012\" \"637\" ...\n",
      " $ end_station_name  : chr  \"Sheridan Rd & Columbia Ave\" \"Bosworth Ave & Howard St\" \"State St & Randolph St\" \"Honore St & Division St\" ...\n",
      " $ end_station_id    : chr  \"660\" \"16806\" \"TA1305000029\" \"TA1305000034\" ...\n",
      " $ start_lat         : num  42 42 41.9 41.9 41.8 ...\n",
      " $ start_lng         : num  -87.7 -87.7 -87.6 -87.7 -87.6 ...\n",
      " $ end_lat           : num  42 42 41.9 41.9 41.8 ...\n",
      " $ end_lng           : num  -87.7 -87.7 -87.6 -87.7 -87.6 ...\n",
      " $ member_casual     : chr  \"member\" \"casual\" \"member\" \"member\" ...\n",
      "'data.frame':\t228496 obs. of  13 variables:\n",
      " $ ride_id           : chr  \"CFA86D4455AA1030\" \"30D9DC61227D1AF3\" \"846D87A15682A284\" \"994D05AA75A168F2\" ...\n",
      " $ rideable_type     : chr  \"classic_bike\" \"classic_bike\" \"classic_bike\" \"classic_bike\" ...\n",
      " $ started_at        : chr  \"2021-03-16 08:32:30\" \"2021-03-28 01:26:28\" \"2021-03-11 21:17:29\" \"2021-03-11 13:26:42\" ...\n",
      " $ ended_at          : chr  \"2021-03-16 08:36:34\" \"2021-03-28 01:36:55\" \"2021-03-11 21:33:53\" \"2021-03-11 13:55:41\" ...\n",
      " $ start_station_name: chr  \"Humboldt Blvd & Armitage Ave\" \"Humboldt Blvd & Armitage Ave\" \"Shields Ave & 28th Pl\" \"Winthrop Ave & Lawrence Ave\" ...\n",
      " $ start_station_id  : chr  \"15651\" \"15651\" \"15443\" \"TA1308000021\" ...\n",
      " $ end_station_name  : chr  \"Stave St & Armitage Ave\" \"Central Park Ave & Bloomingdale Ave\" \"Halsted St & 35th St\" \"Broadway & Sheridan Rd\" ...\n",
      " $ end_station_id    : chr  \"13266\" \"18017\" \"TA1308000043\" \"13323\" ...\n",
      " $ start_lat         : num  41.9 41.9 41.8 42 42 ...\n",
      " $ start_lng         : num  -87.7 -87.7 -87.6 -87.7 -87.7 ...\n",
      " $ end_lat           : num  41.9 41.9 41.8 42 42.1 ...\n",
      " $ end_lng           : num  -87.7 -87.7 -87.6 -87.6 -87.7 ...\n",
      " $ member_casual     : chr  \"casual\" \"casual\" \"casual\" \"casual\" ...\n"
     ]
    }
   ],
   "source": [
    "### inspect the data-frames by using the str()\n",
    "str(april_20)\n",
    "str(may_20)\n",
    "str(june_20)\n",
    "str(july_20)\n",
    "str(aug_20)\n",
    "str(sept_20)\n",
    "str(oct_20)\n",
    "str(nov_20)\n",
    "str(dec_20)\n",
    "str(jan_21)\n",
    "str(feb_21)\n",
    "str(mar_21)"
   ]
  },
  {
   "cell_type": "markdown",
   "id": "9794046e",
   "metadata": {
    "papermill": {
     "duration": 0.137934,
     "end_time": "2021-10-17T16:34:47.625707",
     "exception": false,
     "start_time": "2021-10-17T16:34:47.487773",
     "status": "completed"
    },
    "tags": []
   },
   "source": [
    "## Process , Prepare & Analyze"
   ]
  },
  {
   "cell_type": "code",
   "execution_count": 5,
   "id": "1f99c268",
   "metadata": {
    "execution": {
     "iopub.execute_input": "2021-10-17T16:34:47.909891Z",
     "iopub.status.busy": "2021-10-17T16:34:47.908062Z",
     "iopub.status.idle": "2021-10-17T16:34:48.146587Z",
     "shell.execute_reply": "2021-10-17T16:34:48.144405Z"
    },
    "papermill": {
     "duration": 0.382501,
     "end_time": "2021-10-17T16:34:48.146722",
     "exception": false,
     "start_time": "2021-10-17T16:34:47.764221",
     "status": "completed"
    },
    "tags": []
   },
   "outputs": [
    {
     "name": "stderr",
     "output_type": "stream",
     "text": [
      "Warning message in mask$eval_all_mutate(quo):\n",
      "“NAs introduced by coercion”\n",
      "Warning message in mask$eval_all_mutate(quo):\n",
      "“NAs introduced by coercion”\n",
      "Warning message in mask$eval_all_mutate(quo):\n",
      "“NAs introduced by coercion”\n",
      "Warning message in mask$eval_all_mutate(quo):\n",
      "“NAs introduced by coercion”\n",
      "Warning message in mask$eval_all_mutate(quo):\n",
      "“NAs introduced by coercion”\n",
      "Warning message in mask$eval_all_mutate(quo):\n",
      "“NAs introduced by coercion”\n",
      "Warning message in mask$eval_all_mutate(quo):\n",
      "“NAs introduced by coercion”\n",
      "Warning message in mask$eval_all_mutate(quo):\n",
      "“NAs introduced by coercion”\n"
     ]
    }
   ],
   "source": [
    "## Convert the start_station_id and end_station_id from December month to march month 2021\n",
    "\n",
    "dec_20 <- mutate(dec_20, start_station_id = as.double(start_station_id),\n",
    "                 end_station_id = as.double(end_station_id))\n",
    "\n",
    "jan_21 <- mutate(jan_21, start_station_id = as.double(start_station_id),\n",
    "                 end_station_id = as.double(end_station_id))\n",
    "\n",
    "feb_21 <- mutate(feb_21, start_station_id = as.double(start_station_id),\n",
    "                 end_station_id = as.double(end_station_id))\n",
    "\n",
    "mar_21 <- mutate(mar_21, start_station_id = as.double(start_station_id),\n",
    "                 end_station_id = as.double(end_station_id))"
   ]
  },
  {
   "cell_type": "code",
   "execution_count": 6,
   "id": "26b58719",
   "metadata": {
    "execution": {
     "iopub.execute_input": "2021-10-17T16:34:48.440645Z",
     "iopub.status.busy": "2021-10-17T16:34:48.438639Z",
     "iopub.status.idle": "2021-10-17T16:34:56.095768Z",
     "shell.execute_reply": "2021-10-17T16:34:56.094344Z"
    },
    "papermill": {
     "duration": 7.805094,
     "end_time": "2021-10-17T16:34:56.095932",
     "exception": false,
     "start_time": "2021-10-17T16:34:48.290838",
     "status": "completed"
    },
    "tags": []
   },
   "outputs": [],
   "source": [
    "\n",
    "## Combine into single data frame\n",
    "\n",
    "all_trips <- bind_rows(april_20,may_20,june_20, july_20,aug_20,sept_20,oct_20,nov_20,dec_20,jan_21,feb_21,mar_21)\n",
    "## remove the unwanted columns \n",
    "\n",
    "all_trips <- all_trips %>%\n",
    "  select(-c(start_lat,start_lng,end_lat,end_lng))\n"
   ]
  },
  {
   "cell_type": "markdown",
   "id": "dac850c8",
   "metadata": {
    "papermill": {
     "duration": 0.143572,
     "end_time": "2021-10-17T16:34:56.385536",
     "exception": false,
     "start_time": "2021-10-17T16:34:56.241964",
     "status": "completed"
    },
    "tags": []
   },
   "source": [
    " #### Conduct the descriptive Analysis "
   ]
  },
  {
   "cell_type": "code",
   "execution_count": 7,
   "id": "aa39905a",
   "metadata": {
    "execution": {
     "iopub.execute_input": "2021-10-17T16:34:56.677928Z",
     "iopub.status.busy": "2021-10-17T16:34:56.676640Z",
     "iopub.status.idle": "2021-10-17T16:34:57.221502Z",
     "shell.execute_reply": "2021-10-17T16:34:57.220396Z"
    },
    "papermill": {
     "duration": 0.692416,
     "end_time": "2021-10-17T16:34:57.221639",
     "exception": false,
     "start_time": "2021-10-17T16:34:56.529223",
     "status": "completed"
    },
    "tags": []
   },
   "outputs": [
    {
     "data": {
      "text/html": [
       "<style>\n",
       ".list-inline {list-style: none; margin:0; padding: 0}\n",
       ".list-inline>li {display: inline-block}\n",
       ".list-inline>li:not(:last-child)::after {content: \"\\00b7\"; padding: 0 .5ex}\n",
       "</style>\n",
       "<ol class=list-inline><li>'ride_id'</li><li>'rideable_type'</li><li>'started_at'</li><li>'ended_at'</li><li>'start_station_name'</li><li>'start_station_id'</li><li>'end_station_name'</li><li>'end_station_id'</li><li>'member_casual'</li></ol>\n"
      ],
      "text/latex": [
       "\\begin{enumerate*}\n",
       "\\item 'ride\\_id'\n",
       "\\item 'rideable\\_type'\n",
       "\\item 'started\\_at'\n",
       "\\item 'ended\\_at'\n",
       "\\item 'start\\_station\\_name'\n",
       "\\item 'start\\_station\\_id'\n",
       "\\item 'end\\_station\\_name'\n",
       "\\item 'end\\_station\\_id'\n",
       "\\item 'member\\_casual'\n",
       "\\end{enumerate*}\n"
      ],
      "text/markdown": [
       "1. 'ride_id'\n",
       "2. 'rideable_type'\n",
       "3. 'started_at'\n",
       "4. 'ended_at'\n",
       "5. 'start_station_name'\n",
       "6. 'start_station_id'\n",
       "7. 'end_station_name'\n",
       "8. 'end_station_id'\n",
       "9. 'member_casual'\n",
       "\n",
       "\n"
      ],
      "text/plain": [
       "[1] \"ride_id\"            \"rideable_type\"      \"started_at\"        \n",
       "[4] \"ended_at\"           \"start_station_name\" \"start_station_id\"  \n",
       "[7] \"end_station_name\"   \"end_station_id\"     \"member_casual\"     "
      ]
     },
     "metadata": {},
     "output_type": "display_data"
    },
    {
     "data": {
      "text/html": [
       "3489748"
      ],
      "text/latex": [
       "3489748"
      ],
      "text/markdown": [
       "3489748"
      ],
      "text/plain": [
       "[1] 3489748"
      ]
     },
     "metadata": {},
     "output_type": "display_data"
    },
    {
     "data": {
      "text/html": [
       "<style>\n",
       ".list-inline {list-style: none; margin:0; padding: 0}\n",
       ".list-inline>li {display: inline-block}\n",
       ".list-inline>li:not(:last-child)::after {content: \"\\00b7\"; padding: 0 .5ex}\n",
       "</style>\n",
       "<ol class=list-inline><li>3489748</li><li>9</li></ol>\n"
      ],
      "text/latex": [
       "\\begin{enumerate*}\n",
       "\\item 3489748\n",
       "\\item 9\n",
       "\\end{enumerate*}\n"
      ],
      "text/markdown": [
       "1. 3489748\n",
       "2. 9\n",
       "\n",
       "\n"
      ],
      "text/plain": [
       "[1] 3489748       9"
      ]
     },
     "metadata": {},
     "output_type": "display_data"
    },
    {
     "data": {
      "text/html": [
       "<table class=\"dataframe\">\n",
       "<caption>A data.frame: 6 × 9</caption>\n",
       "<thead>\n",
       "\t<tr><th></th><th scope=col>ride_id</th><th scope=col>rideable_type</th><th scope=col>started_at</th><th scope=col>ended_at</th><th scope=col>start_station_name</th><th scope=col>start_station_id</th><th scope=col>end_station_name</th><th scope=col>end_station_id</th><th scope=col>member_casual</th></tr>\n",
       "\t<tr><th></th><th scope=col>&lt;chr&gt;</th><th scope=col>&lt;chr&gt;</th><th scope=col>&lt;chr&gt;</th><th scope=col>&lt;chr&gt;</th><th scope=col>&lt;chr&gt;</th><th scope=col>&lt;dbl&gt;</th><th scope=col>&lt;chr&gt;</th><th scope=col>&lt;dbl&gt;</th><th scope=col>&lt;chr&gt;</th></tr>\n",
       "</thead>\n",
       "<tbody>\n",
       "\t<tr><th scope=row>1</th><td>A847FADBBC638E45</td><td>docked_bike</td><td>2020-04-26 17:45:14</td><td>2020-04-26 18:12:03</td><td><span style=white-space:pre-wrap>Eckhart Park                       </span></td><td> 86</td><td>Lincoln Ave &amp; Diversey Pkwy</td><td>152</td><td>member</td></tr>\n",
       "\t<tr><th scope=row>2</th><td>5405B80E996FF60D</td><td>docked_bike</td><td>2020-04-17 17:08:54</td><td>2020-04-17 17:17:03</td><td><span style=white-space:pre-wrap>Drake Ave &amp; Fullerton Ave          </span></td><td>503</td><td><span style=white-space:pre-wrap>Kosciuszko Park            </span></td><td>499</td><td>member</td></tr>\n",
       "\t<tr><th scope=row>3</th><td>5DD24A79A4E006F4</td><td>docked_bike</td><td>2020-04-01 17:54:13</td><td>2020-04-01 18:08:36</td><td><span style=white-space:pre-wrap>McClurg Ct &amp; Erie St               </span></td><td>142</td><td>Indiana Ave &amp; Roosevelt Rd </td><td>255</td><td>member</td></tr>\n",
       "\t<tr><th scope=row>4</th><td>2A59BBDF5CDBA725</td><td>docked_bike</td><td>2020-04-07 12:50:19</td><td>2020-04-07 13:02:31</td><td><span style=white-space:pre-wrap>California Ave &amp; Division St       </span></td><td>216</td><td><span style=white-space:pre-wrap>Wood St &amp; Augusta Blvd     </span></td><td>657</td><td>member</td></tr>\n",
       "\t<tr><th scope=row>5</th><td>27AD306C119C6158</td><td>docked_bike</td><td>2020-04-18 10:22:59</td><td>2020-04-18 11:15:54</td><td><span style=white-space:pre-wrap>Rush St &amp; Hubbard St               </span></td><td>125</td><td>Sheridan Rd &amp; Lawrence Ave </td><td>323</td><td>casual</td></tr>\n",
       "\t<tr><th scope=row>6</th><td>356216E875132F61</td><td>docked_bike</td><td>2020-04-30 17:55:47</td><td>2020-04-30 18:01:11</td><td>Mies van der Rohe Way &amp; Chicago Ave</td><td>173</td><td><span style=white-space:pre-wrap>Streeter Dr &amp; Grand Ave    </span></td><td> 35</td><td>member</td></tr>\n",
       "</tbody>\n",
       "</table>\n"
      ],
      "text/latex": [
       "A data.frame: 6 × 9\n",
       "\\begin{tabular}{r|lllllllll}\n",
       "  & ride\\_id & rideable\\_type & started\\_at & ended\\_at & start\\_station\\_name & start\\_station\\_id & end\\_station\\_name & end\\_station\\_id & member\\_casual\\\\\n",
       "  & <chr> & <chr> & <chr> & <chr> & <chr> & <dbl> & <chr> & <dbl> & <chr>\\\\\n",
       "\\hline\n",
       "\t1 & A847FADBBC638E45 & docked\\_bike & 2020-04-26 17:45:14 & 2020-04-26 18:12:03 & Eckhart Park                        &  86 & Lincoln Ave \\& Diversey Pkwy & 152 & member\\\\\n",
       "\t2 & 5405B80E996FF60D & docked\\_bike & 2020-04-17 17:08:54 & 2020-04-17 17:17:03 & Drake Ave \\& Fullerton Ave           & 503 & Kosciuszko Park             & 499 & member\\\\\n",
       "\t3 & 5DD24A79A4E006F4 & docked\\_bike & 2020-04-01 17:54:13 & 2020-04-01 18:08:36 & McClurg Ct \\& Erie St                & 142 & Indiana Ave \\& Roosevelt Rd  & 255 & member\\\\\n",
       "\t4 & 2A59BBDF5CDBA725 & docked\\_bike & 2020-04-07 12:50:19 & 2020-04-07 13:02:31 & California Ave \\& Division St        & 216 & Wood St \\& Augusta Blvd      & 657 & member\\\\\n",
       "\t5 & 27AD306C119C6158 & docked\\_bike & 2020-04-18 10:22:59 & 2020-04-18 11:15:54 & Rush St \\& Hubbard St                & 125 & Sheridan Rd \\& Lawrence Ave  & 323 & casual\\\\\n",
       "\t6 & 356216E875132F61 & docked\\_bike & 2020-04-30 17:55:47 & 2020-04-30 18:01:11 & Mies van der Rohe Way \\& Chicago Ave & 173 & Streeter Dr \\& Grand Ave     &  35 & member\\\\\n",
       "\\end{tabular}\n"
      ],
      "text/markdown": [
       "\n",
       "A data.frame: 6 × 9\n",
       "\n",
       "| <!--/--> | ride_id &lt;chr&gt; | rideable_type &lt;chr&gt; | started_at &lt;chr&gt; | ended_at &lt;chr&gt; | start_station_name &lt;chr&gt; | start_station_id &lt;dbl&gt; | end_station_name &lt;chr&gt; | end_station_id &lt;dbl&gt; | member_casual &lt;chr&gt; |\n",
       "|---|---|---|---|---|---|---|---|---|---|\n",
       "| 1 | A847FADBBC638E45 | docked_bike | 2020-04-26 17:45:14 | 2020-04-26 18:12:03 | Eckhart Park                        |  86 | Lincoln Ave &amp; Diversey Pkwy | 152 | member |\n",
       "| 2 | 5405B80E996FF60D | docked_bike | 2020-04-17 17:08:54 | 2020-04-17 17:17:03 | Drake Ave &amp; Fullerton Ave           | 503 | Kosciuszko Park             | 499 | member |\n",
       "| 3 | 5DD24A79A4E006F4 | docked_bike | 2020-04-01 17:54:13 | 2020-04-01 18:08:36 | McClurg Ct &amp; Erie St                | 142 | Indiana Ave &amp; Roosevelt Rd  | 255 | member |\n",
       "| 4 | 2A59BBDF5CDBA725 | docked_bike | 2020-04-07 12:50:19 | 2020-04-07 13:02:31 | California Ave &amp; Division St        | 216 | Wood St &amp; Augusta Blvd      | 657 | member |\n",
       "| 5 | 27AD306C119C6158 | docked_bike | 2020-04-18 10:22:59 | 2020-04-18 11:15:54 | Rush St &amp; Hubbard St                | 125 | Sheridan Rd &amp; Lawrence Ave  | 323 | casual |\n",
       "| 6 | 356216E875132F61 | docked_bike | 2020-04-30 17:55:47 | 2020-04-30 18:01:11 | Mies van der Rohe Way &amp; Chicago Ave | 173 | Streeter Dr &amp; Grand Ave     |  35 | member |\n",
       "\n"
      ],
      "text/plain": [
       "  ride_id          rideable_type started_at          ended_at           \n",
       "1 A847FADBBC638E45 docked_bike   2020-04-26 17:45:14 2020-04-26 18:12:03\n",
       "2 5405B80E996FF60D docked_bike   2020-04-17 17:08:54 2020-04-17 17:17:03\n",
       "3 5DD24A79A4E006F4 docked_bike   2020-04-01 17:54:13 2020-04-01 18:08:36\n",
       "4 2A59BBDF5CDBA725 docked_bike   2020-04-07 12:50:19 2020-04-07 13:02:31\n",
       "5 27AD306C119C6158 docked_bike   2020-04-18 10:22:59 2020-04-18 11:15:54\n",
       "6 356216E875132F61 docked_bike   2020-04-30 17:55:47 2020-04-30 18:01:11\n",
       "  start_station_name                  start_station_id\n",
       "1 Eckhart Park                         86             \n",
       "2 Drake Ave & Fullerton Ave           503             \n",
       "3 McClurg Ct & Erie St                142             \n",
       "4 California Ave & Division St        216             \n",
       "5 Rush St & Hubbard St                125             \n",
       "6 Mies van der Rohe Way & Chicago Ave 173             \n",
       "  end_station_name            end_station_id member_casual\n",
       "1 Lincoln Ave & Diversey Pkwy 152            member       \n",
       "2 Kosciuszko Park             499            member       \n",
       "3 Indiana Ave & Roosevelt Rd  255            member       \n",
       "4 Wood St & Augusta Blvd      657            member       \n",
       "5 Sheridan Rd & Lawrence Ave  323            casual       \n",
       "6 Streeter Dr & Grand Ave      35            member       "
      ]
     },
     "metadata": {},
     "output_type": "display_data"
    },
    {
     "name": "stdout",
     "output_type": "stream",
     "text": [
      "'data.frame':\t3489748 obs. of  9 variables:\n",
      " $ ride_id           : chr  \"A847FADBBC638E45\" \"5405B80E996FF60D\" \"5DD24A79A4E006F4\" \"2A59BBDF5CDBA725\" ...\n",
      " $ rideable_type     : chr  \"docked_bike\" \"docked_bike\" \"docked_bike\" \"docked_bike\" ...\n",
      " $ started_at        : chr  \"2020-04-26 17:45:14\" \"2020-04-17 17:08:54\" \"2020-04-01 17:54:13\" \"2020-04-07 12:50:19\" ...\n",
      " $ ended_at          : chr  \"2020-04-26 18:12:03\" \"2020-04-17 17:17:03\" \"2020-04-01 18:08:36\" \"2020-04-07 13:02:31\" ...\n",
      " $ start_station_name: chr  \"Eckhart Park\" \"Drake Ave & Fullerton Ave\" \"McClurg Ct & Erie St\" \"California Ave & Division St\" ...\n",
      " $ start_station_id  : num  86 503 142 216 125 173 35 434 627 377 ...\n",
      " $ end_station_name  : chr  \"Lincoln Ave & Diversey Pkwy\" \"Kosciuszko Park\" \"Indiana Ave & Roosevelt Rd\" \"Wood St & Augusta Blvd\" ...\n",
      " $ end_station_id    : num  152 499 255 657 323 35 635 382 359 508 ...\n",
      " $ member_casual     : chr  \"member\" \"member\" \"member\" \"member\" ...\n"
     ]
    },
    {
     "data": {
      "text/plain": [
       "   ride_id          rideable_type       started_at          ended_at        \n",
       " Length:3489748     Length:3489748     Length:3489748     Length:3489748    \n",
       " Class :character   Class :character   Class :character   Class :character  \n",
       " Mode  :character   Mode  :character   Mode  :character   Mode  :character  \n",
       "                                                                            \n",
       "                                                                            \n",
       "                                                                            \n",
       "                                                                            \n",
       " start_station_name start_station_id end_station_name   end_station_id  \n",
       " Length:3489748     Min.   :    2    Length:3489748     Min.   :    2   \n",
       " Class :character   1st Qu.:  109    Class :character   1st Qu.:  110   \n",
       " Mode  :character   Median :  212    Mode  :character   Median :  213   \n",
       "                    Mean   : 1016                       Mean   : 1016   \n",
       "                    3rd Qu.:  332                       3rd Qu.:  332   \n",
       "                    Max.   :20258                       Max.   :20258   \n",
       "                    NA's   :388463                      NA's   :404359  \n",
       " member_casual     \n",
       " Length:3489748    \n",
       " Class :character  \n",
       " Mode  :character  \n",
       "                   \n",
       "                   \n",
       "                   \n",
       "                   "
      ]
     },
     "metadata": {},
     "output_type": "display_data"
    }
   ],
   "source": [
    "\n",
    "## Step 4:- Conduct the descriptive Analysis \n",
    "\n",
    "## Inspect the new table created \n",
    "\n",
    "colnames(all_trips) ## columns in the table\n",
    "nrow(all_trips) ## number of rows in table\n",
    "dim(all_trips) ## dimensions of table\n",
    "head(all_trips) ## first 5 rows of table\n",
    "str(all_trips) ## data types of the table\n",
    "summary(all_trips) ## Summary of the table\n",
    "\n"
   ]
  },
  {
   "cell_type": "code",
   "execution_count": 8,
   "id": "39c2a8b6",
   "metadata": {
    "execution": {
     "iopub.execute_input": "2021-10-17T16:34:57.534175Z",
     "iopub.status.busy": "2021-10-17T16:34:57.532868Z",
     "iopub.status.idle": "2021-10-17T16:34:59.132547Z",
     "shell.execute_reply": "2021-10-17T16:34:59.131262Z"
    },
    "papermill": {
     "duration": 1.757362,
     "end_time": "2021-10-17T16:34:59.132693",
     "exception": false,
     "start_time": "2021-10-17T16:34:57.375331",
     "status": "completed"
    },
    "tags": []
   },
   "outputs": [
    {
     "data": {
      "text/html": [
       "709"
      ],
      "text/latex": [
       "709"
      ],
      "text/markdown": [
       "709"
      ],
      "text/plain": [
       "[1] 709"
      ]
     },
     "metadata": {},
     "output_type": "display_data"
    },
    {
     "data": {
      "text/html": [
       "707"
      ],
      "text/latex": [
       "707"
      ],
      "text/markdown": [
       "707"
      ],
      "text/plain": [
       "[1] 707"
      ]
     },
     "metadata": {},
     "output_type": "display_data"
    },
    {
     "data": {
      "text/plain": [
       "\n",
       " casual  member \n",
       "1430376 2059372 "
      ]
     },
     "metadata": {},
     "output_type": "display_data"
    }
   ],
   "source": [
    "\n",
    "## count the number of start station \n",
    "\n",
    "n_distinct(all_trips$start_station_name)\n",
    "## count the number of end Station\n",
    "\n",
    "n_distinct(all_trips$end_station_name)\n",
    "\n",
    "## count the members and causal rides \n",
    "\n",
    "table(all_trips$member_casual)\n"
   ]
  },
  {
   "cell_type": "markdown",
   "id": "06c5cc82",
   "metadata": {
    "papermill": {
     "duration": 0.156887,
     "end_time": "2021-10-17T16:34:59.447115",
     "exception": false,
     "start_time": "2021-10-17T16:34:59.290228",
     "status": "completed"
    },
    "tags": []
   },
   "source": [
    "#### Add columns that list date, month , day and  year of each ride \n"
   ]
  },
  {
   "cell_type": "code",
   "execution_count": 9,
   "id": "2aa37b09",
   "metadata": {
    "execution": {
     "iopub.execute_input": "2021-10-17T16:34:59.765816Z",
     "iopub.status.busy": "2021-10-17T16:34:59.764381Z",
     "iopub.status.idle": "2021-10-17T16:35:12.326475Z",
     "shell.execute_reply": "2021-10-17T16:35:12.325089Z"
    },
    "papermill": {
     "duration": 12.722946,
     "end_time": "2021-10-17T16:35:12.326627",
     "exception": false,
     "start_time": "2021-10-17T16:34:59.603681",
     "status": "completed"
    },
    "tags": []
   },
   "outputs": [],
   "source": [
    "all_trips$date <- as.Date(all_trips$started_at) ##date in format \"yyyy-mm-dd\"\n",
    "all_trips$day <- format(as.Date(all_trips$date), \"%d\") ## day \n",
    "all_trips$month <- format(as.Date(all_trips$date), \"%m\") ## month\n",
    "all_trips$year <- format(as.Date(all_trips$date), \"%Y\") ## year\n",
    "all_trips$day_of_week <- format(as.Date(all_trips$date), \"%a\") ## day of week\n"
   ]
  },
  {
   "cell_type": "markdown",
   "id": "18e403fa",
   "metadata": {
    "papermill": {
     "duration": 0.157722,
     "end_time": "2021-10-17T16:35:12.642338",
     "exception": false,
     "start_time": "2021-10-17T16:35:12.484616",
     "status": "completed"
    },
    "tags": []
   },
   "source": [
    "#### create a calculated field \"ride_length\" "
   ]
  },
  {
   "cell_type": "code",
   "execution_count": 10,
   "id": "8f495e5c",
   "metadata": {
    "execution": {
     "iopub.execute_input": "2021-10-17T16:35:12.967572Z",
     "iopub.status.busy": "2021-10-17T16:35:12.966142Z",
     "iopub.status.idle": "2021-10-17T16:35:34.353691Z",
     "shell.execute_reply": "2021-10-17T16:35:34.352200Z"
    },
    "papermill": {
     "duration": 21.550884,
     "end_time": "2021-10-17T16:35:34.353879",
     "exception": false,
     "start_time": "2021-10-17T16:35:12.802995",
     "status": "completed"
    },
    "tags": []
   },
   "outputs": [],
   "source": [
    "\n",
    "all_trips$ride_length <- difftime(all_trips$ended_at , all_trips$started_at, units = \"mins\")"
   ]
  },
  {
   "cell_type": "code",
   "execution_count": 11,
   "id": "2f71f429",
   "metadata": {
    "execution": {
     "iopub.execute_input": "2021-10-17T16:35:34.673510Z",
     "iopub.status.busy": "2021-10-17T16:35:34.672165Z",
     "iopub.status.idle": "2021-10-17T16:35:34.708174Z",
     "shell.execute_reply": "2021-10-17T16:35:34.707004Z"
    },
    "papermill": {
     "duration": 0.197183,
     "end_time": "2021-10-17T16:35:34.708301",
     "exception": false,
     "start_time": "2021-10-17T16:35:34.511118",
     "status": "completed"
    },
    "tags": []
   },
   "outputs": [
    {
     "name": "stdout",
     "output_type": "stream",
     "text": [
      "'data.frame':\t3489748 obs. of  15 variables:\n",
      " $ ride_id           : chr  \"A847FADBBC638E45\" \"5405B80E996FF60D\" \"5DD24A79A4E006F4\" \"2A59BBDF5CDBA725\" ...\n",
      " $ rideable_type     : chr  \"docked_bike\" \"docked_bike\" \"docked_bike\" \"docked_bike\" ...\n",
      " $ started_at        : chr  \"2020-04-26 17:45:14\" \"2020-04-17 17:08:54\" \"2020-04-01 17:54:13\" \"2020-04-07 12:50:19\" ...\n",
      " $ ended_at          : chr  \"2020-04-26 18:12:03\" \"2020-04-17 17:17:03\" \"2020-04-01 18:08:36\" \"2020-04-07 13:02:31\" ...\n",
      " $ start_station_name: chr  \"Eckhart Park\" \"Drake Ave & Fullerton Ave\" \"McClurg Ct & Erie St\" \"California Ave & Division St\" ...\n",
      " $ start_station_id  : num  86 503 142 216 125 173 35 434 627 377 ...\n",
      " $ end_station_name  : chr  \"Lincoln Ave & Diversey Pkwy\" \"Kosciuszko Park\" \"Indiana Ave & Roosevelt Rd\" \"Wood St & Augusta Blvd\" ...\n",
      " $ end_station_id    : num  152 499 255 657 323 35 635 382 359 508 ...\n",
      " $ member_casual     : chr  \"member\" \"member\" \"member\" \"member\" ...\n",
      " $ date              : Date, format: \"2020-04-26\" \"2020-04-17\" ...\n",
      " $ day               : chr  \"26\" \"17\" \"01\" \"07\" ...\n",
      " $ month             : chr  \"04\" \"04\" \"04\" \"04\" ...\n",
      " $ year              : chr  \"2020\" \"2020\" \"2020\" \"2020\" ...\n",
      " $ day_of_week       : chr  \"Sun\" \"Fri\" \"Wed\" \"Tue\" ...\n",
      " $ ride_length       : 'difftime' num  26.8166666666667 8.15 14.3833333333333 12.2 ...\n",
      "  ..- attr(*, \"units\")= chr \"mins\"\n"
     ]
    }
   ],
   "source": [
    "## inspect the data-frame \n",
    "\n",
    "str(all_trips)"
   ]
  },
  {
   "cell_type": "code",
   "execution_count": 12,
   "id": "708d1ec3",
   "metadata": {
    "execution": {
     "iopub.execute_input": "2021-10-17T16:35:35.030327Z",
     "iopub.status.busy": "2021-10-17T16:35:35.029050Z",
     "iopub.status.idle": "2021-10-17T16:35:40.240522Z",
     "shell.execute_reply": "2021-10-17T16:35:40.239163Z"
    },
    "papermill": {
     "duration": 5.375033,
     "end_time": "2021-10-17T16:35:40.240664",
     "exception": false,
     "start_time": "2021-10-17T16:35:34.865631",
     "status": "completed"
    },
    "tags": []
   },
   "outputs": [
    {
     "data": {
      "text/html": [
       "FALSE"
      ],
      "text/latex": [
       "FALSE"
      ],
      "text/markdown": [
       "FALSE"
      ],
      "text/plain": [
       "[1] FALSE"
      ]
     },
     "metadata": {},
     "output_type": "display_data"
    },
    {
     "data": {
      "text/html": [
       "TRUE"
      ],
      "text/latex": [
       "TRUE"
      ],
      "text/markdown": [
       "TRUE"
      ],
      "text/plain": [
       "[1] TRUE"
      ]
     },
     "metadata": {},
     "output_type": "display_data"
    }
   ],
   "source": [
    "## convert the ride_length column to numeric \n",
    "\n",
    "is.factor(all_trips$ride_length)\n",
    "all_trips$ride_length <- as.numeric(as.character(all_trips$ride_length))\n",
    "is.numeric(all_trips$ride_length)\n"
   ]
  },
  {
   "cell_type": "code",
   "execution_count": 13,
   "id": "9a7d0d00",
   "metadata": {
    "execution": {
     "iopub.execute_input": "2021-10-17T16:35:40.568479Z",
     "iopub.status.busy": "2021-10-17T16:35:40.567154Z",
     "iopub.status.idle": "2021-10-17T16:35:45.535945Z",
     "shell.execute_reply": "2021-10-17T16:35:45.534674Z"
    },
    "papermill": {
     "duration": 5.134392,
     "end_time": "2021-10-17T16:35:45.536102",
     "exception": false,
     "start_time": "2021-10-17T16:35:40.401710",
     "status": "completed"
    },
    "tags": []
   },
   "outputs": [],
   "source": [
    "## remove the bad data from all_trips data for the further calculation\n",
    "\n",
    "all_trips_new <- all_trips[!(all_trips$ride_length > 1440 | all_trips$ride_length < 0), ]\n"
   ]
  },
  {
   "cell_type": "code",
   "execution_count": 14,
   "id": "34a880d1",
   "metadata": {
    "execution": {
     "iopub.execute_input": "2021-10-17T16:35:45.865371Z",
     "iopub.status.busy": "2021-10-17T16:35:45.864766Z",
     "iopub.status.idle": "2021-10-17T16:35:46.018724Z",
     "shell.execute_reply": "2021-10-17T16:35:46.017174Z"
    },
    "papermill": {
     "duration": 0.320485,
     "end_time": "2021-10-17T16:35:46.018904",
     "exception": false,
     "start_time": "2021-10-17T16:35:45.698419",
     "status": "completed"
    },
    "tags": []
   },
   "outputs": [
    {
     "name": "stdout",
     "output_type": "stream",
     "text": [
      " num [1:3476314] 26.82 8.15 14.38 12.2 52.92 ...\n"
     ]
    },
    {
     "data": {
      "text/html": [
       "<table class=\"dataframe\">\n",
       "<caption>A data.frame: 1 × 4</caption>\n",
       "<thead>\n",
       "\t<tr><th scope=col>min_ride_length</th><th scope=col>max_ride_length</th><th scope=col>mean_ride_length</th><th scope=col>median_ride_length</th></tr>\n",
       "\t<tr><th scope=col>&lt;dbl&gt;</th><th scope=col>&lt;dbl&gt;</th><th scope=col>&lt;dbl&gt;</th><th scope=col>&lt;dbl&gt;</th></tr>\n",
       "</thead>\n",
       "<tbody>\n",
       "\t<tr><td>0</td><td>1439.9</td><td>24.11659</td><td>14.55</td></tr>\n",
       "</tbody>\n",
       "</table>\n"
      ],
      "text/latex": [
       "A data.frame: 1 × 4\n",
       "\\begin{tabular}{llll}\n",
       " min\\_ride\\_length & max\\_ride\\_length & mean\\_ride\\_length & median\\_ride\\_length\\\\\n",
       " <dbl> & <dbl> & <dbl> & <dbl>\\\\\n",
       "\\hline\n",
       "\t 0 & 1439.9 & 24.11659 & 14.55\\\\\n",
       "\\end{tabular}\n"
      ],
      "text/markdown": [
       "\n",
       "A data.frame: 1 × 4\n",
       "\n",
       "| min_ride_length &lt;dbl&gt; | max_ride_length &lt;dbl&gt; | mean_ride_length &lt;dbl&gt; | median_ride_length &lt;dbl&gt; |\n",
       "|---|---|---|---|\n",
       "| 0 | 1439.9 | 24.11659 | 14.55 |\n",
       "\n"
      ],
      "text/plain": [
       "  min_ride_length max_ride_length mean_ride_length median_ride_length\n",
       "1 0               1439.9          24.11659         14.55             "
      ]
     },
     "metadata": {},
     "output_type": "display_data"
    }
   ],
   "source": [
    "\n",
    "##inspect the ride_length column\n",
    "\n",
    "str(all_trips_new$ride_length)\n",
    "\n",
    "\n",
    "all_trips_new %>%\n",
    "  summarise(min_ride_length = min(ride_length),\n",
    "            max_ride_length = max(ride_length),\n",
    "            mean_ride_length = mean(ride_length),\n",
    "            median_ride_length = median(ride_length))\n"
   ]
  },
  {
   "cell_type": "code",
   "execution_count": 15,
   "id": "d038a713",
   "metadata": {
    "execution": {
     "iopub.execute_input": "2021-10-17T16:35:46.387452Z",
     "iopub.status.busy": "2021-10-17T16:35:46.385505Z",
     "iopub.status.idle": "2021-10-17T16:35:56.380148Z",
     "shell.execute_reply": "2021-10-17T16:35:56.378402Z"
    },
    "papermill": {
     "duration": 10.164211,
     "end_time": "2021-10-17T16:35:56.380329",
     "exception": false,
     "start_time": "2021-10-17T16:35:46.216118",
     "status": "completed"
    },
    "tags": []
   },
   "outputs": [
    {
     "data": {
      "text/html": [
       "<table class=\"dataframe\">\n",
       "<caption>A data.frame: 2 × 2</caption>\n",
       "<thead>\n",
       "\t<tr><th scope=col>all_trips_new$member_casual</th><th scope=col>all_trips_new$ride_length</th></tr>\n",
       "\t<tr><th scope=col>&lt;chr&gt;</th><th scope=col>&lt;dbl&gt;</th></tr>\n",
       "</thead>\n",
       "<tbody>\n",
       "\t<tr><td>casual</td><td>36.37388</td></tr>\n",
       "\t<tr><td>member</td><td>15.60598</td></tr>\n",
       "</tbody>\n",
       "</table>\n"
      ],
      "text/latex": [
       "A data.frame: 2 × 2\n",
       "\\begin{tabular}{ll}\n",
       " all\\_trips\\_new\\$member\\_casual & all\\_trips\\_new\\$ride\\_length\\\\\n",
       " <chr> & <dbl>\\\\\n",
       "\\hline\n",
       "\t casual & 36.37388\\\\\n",
       "\t member & 15.60598\\\\\n",
       "\\end{tabular}\n"
      ],
      "text/markdown": [
       "\n",
       "A data.frame: 2 × 2\n",
       "\n",
       "| all_trips_new$member_casual &lt;chr&gt; | all_trips_new$ride_length &lt;dbl&gt; |\n",
       "|---|---|\n",
       "| casual | 36.37388 |\n",
       "| member | 15.60598 |\n",
       "\n"
      ],
      "text/plain": [
       "  all_trips_new$member_casual all_trips_new$ride_length\n",
       "1 casual                      36.37388                 \n",
       "2 member                      15.60598                 "
      ]
     },
     "metadata": {},
     "output_type": "display_data"
    },
    {
     "data": {
      "text/html": [
       "<table class=\"dataframe\">\n",
       "<caption>A data.frame: 2 × 2</caption>\n",
       "<thead>\n",
       "\t<tr><th scope=col>all_trips_new$member_casual</th><th scope=col>all_trips_new$ride_length</th></tr>\n",
       "\t<tr><th scope=col>&lt;chr&gt;</th><th scope=col>&lt;dbl&gt;</th></tr>\n",
       "</thead>\n",
       "<tbody>\n",
       "\t<tr><td>casual</td><td>21.16667</td></tr>\n",
       "\t<tr><td>member</td><td>11.48333</td></tr>\n",
       "</tbody>\n",
       "</table>\n"
      ],
      "text/latex": [
       "A data.frame: 2 × 2\n",
       "\\begin{tabular}{ll}\n",
       " all\\_trips\\_new\\$member\\_casual & all\\_trips\\_new\\$ride\\_length\\\\\n",
       " <chr> & <dbl>\\\\\n",
       "\\hline\n",
       "\t casual & 21.16667\\\\\n",
       "\t member & 11.48333\\\\\n",
       "\\end{tabular}\n"
      ],
      "text/markdown": [
       "\n",
       "A data.frame: 2 × 2\n",
       "\n",
       "| all_trips_new$member_casual &lt;chr&gt; | all_trips_new$ride_length &lt;dbl&gt; |\n",
       "|---|---|\n",
       "| casual | 21.16667 |\n",
       "| member | 11.48333 |\n",
       "\n"
      ],
      "text/plain": [
       "  all_trips_new$member_casual all_trips_new$ride_length\n",
       "1 casual                      21.16667                 \n",
       "2 member                      11.48333                 "
      ]
     },
     "metadata": {},
     "output_type": "display_data"
    },
    {
     "data": {
      "text/html": [
       "<table class=\"dataframe\">\n",
       "<caption>A data.frame: 2 × 2</caption>\n",
       "<thead>\n",
       "\t<tr><th scope=col>all_trips_new$member_casual</th><th scope=col>all_trips_new$ride_length</th></tr>\n",
       "\t<tr><th scope=col>&lt;chr&gt;</th><th scope=col>&lt;dbl&gt;</th></tr>\n",
       "</thead>\n",
       "<tbody>\n",
       "\t<tr><td>casual</td><td>0</td></tr>\n",
       "\t<tr><td>member</td><td>0</td></tr>\n",
       "</tbody>\n",
       "</table>\n"
      ],
      "text/latex": [
       "A data.frame: 2 × 2\n",
       "\\begin{tabular}{ll}\n",
       " all\\_trips\\_new\\$member\\_casual & all\\_trips\\_new\\$ride\\_length\\\\\n",
       " <chr> & <dbl>\\\\\n",
       "\\hline\n",
       "\t casual & 0\\\\\n",
       "\t member & 0\\\\\n",
       "\\end{tabular}\n"
      ],
      "text/markdown": [
       "\n",
       "A data.frame: 2 × 2\n",
       "\n",
       "| all_trips_new$member_casual &lt;chr&gt; | all_trips_new$ride_length &lt;dbl&gt; |\n",
       "|---|---|\n",
       "| casual | 0 |\n",
       "| member | 0 |\n",
       "\n"
      ],
      "text/plain": [
       "  all_trips_new$member_casual all_trips_new$ride_length\n",
       "1 casual                      0                        \n",
       "2 member                      0                        "
      ]
     },
     "metadata": {},
     "output_type": "display_data"
    },
    {
     "data": {
      "text/html": [
       "<table class=\"dataframe\">\n",
       "<caption>A data.frame: 2 × 2</caption>\n",
       "<thead>\n",
       "\t<tr><th scope=col>all_trips_new$member_casual</th><th scope=col>all_trips_new$ride_length</th></tr>\n",
       "\t<tr><th scope=col>&lt;chr&gt;</th><th scope=col>&lt;dbl&gt;</th></tr>\n",
       "</thead>\n",
       "<tbody>\n",
       "\t<tr><td>casual</td><td>1439.900</td></tr>\n",
       "\t<tr><td>member</td><td>1439.717</td></tr>\n",
       "</tbody>\n",
       "</table>\n"
      ],
      "text/latex": [
       "A data.frame: 2 × 2\n",
       "\\begin{tabular}{ll}\n",
       " all\\_trips\\_new\\$member\\_casual & all\\_trips\\_new\\$ride\\_length\\\\\n",
       " <chr> & <dbl>\\\\\n",
       "\\hline\n",
       "\t casual & 1439.900\\\\\n",
       "\t member & 1439.717\\\\\n",
       "\\end{tabular}\n"
      ],
      "text/markdown": [
       "\n",
       "A data.frame: 2 × 2\n",
       "\n",
       "| all_trips_new$member_casual &lt;chr&gt; | all_trips_new$ride_length &lt;dbl&gt; |\n",
       "|---|---|\n",
       "| casual | 1439.900 |\n",
       "| member | 1439.717 |\n",
       "\n"
      ],
      "text/plain": [
       "  all_trips_new$member_casual all_trips_new$ride_length\n",
       "1 casual                      1439.900                 \n",
       "2 member                      1439.717                 "
      ]
     },
     "metadata": {},
     "output_type": "display_data"
    }
   ],
   "source": [
    "\n",
    "## Compare the ride_length by member and casual\n",
    "\n",
    "aggregate(all_trips_new$ride_length~all_trips_new$member_casual, FUN =mean)\n",
    "aggregate(all_trips_new$ride_length~all_trips_new$member_casual, FUN = median)\n",
    "aggregate (all_trips_new$ride_length~all_trips_new$member_casual, FUN = min)\n",
    "aggregate(all_trips_new$ride_length~all_trips_new$member_casual, FUN = max)"
   ]
  },
  {
   "cell_type": "code",
   "execution_count": 16,
   "id": "cb1cfd0f",
   "metadata": {
    "execution": {
     "iopub.execute_input": "2021-10-17T16:35:56.743087Z",
     "iopub.status.busy": "2021-10-17T16:35:56.741663Z",
     "iopub.status.idle": "2021-10-17T16:36:03.169862Z",
     "shell.execute_reply": "2021-10-17T16:36:03.168526Z"
    },
    "papermill": {
     "duration": 6.61043,
     "end_time": "2021-10-17T16:36:03.170010",
     "exception": false,
     "start_time": "2021-10-17T16:35:56.559580",
     "status": "completed"
    },
    "tags": []
   },
   "outputs": [
    {
     "data": {
      "text/html": [
       "<table class=\"dataframe\">\n",
       "<caption>A data.frame: 14 × 3</caption>\n",
       "<thead>\n",
       "\t<tr><th scope=col>all_trips_new$member_casual</th><th scope=col>all_trips_new$day_of_week</th><th scope=col>all_trips_new$ride_length</th></tr>\n",
       "\t<tr><th scope=col>&lt;chr&gt;</th><th scope=col>&lt;chr&gt;</th><th scope=col>&lt;dbl&gt;</th></tr>\n",
       "</thead>\n",
       "<tbody>\n",
       "\t<tr><td>casual</td><td>Fri</td><td>34.77697</td></tr>\n",
       "\t<tr><td>member</td><td>Fri</td><td>15.38444</td></tr>\n",
       "\t<tr><td>casual</td><td>Mon</td><td>35.89054</td></tr>\n",
       "\t<tr><td>member</td><td>Mon</td><td>14.83033</td></tr>\n",
       "\t<tr><td>casual</td><td>Sat</td><td>39.04095</td></tr>\n",
       "\t<tr><td>member</td><td>Sat</td><td>17.26662</td></tr>\n",
       "\t<tr><td>casual</td><td>Sun</td><td>40.61886</td></tr>\n",
       "\t<tr><td>member</td><td>Sun</td><td>17.39647</td></tr>\n",
       "\t<tr><td>casual</td><td>Thu</td><td>32.99177</td></tr>\n",
       "\t<tr><td>member</td><td>Thu</td><td>14.80909</td></tr>\n",
       "\t<tr><td>casual</td><td>Tue</td><td>33.54954</td></tr>\n",
       "\t<tr><td>member</td><td>Tue</td><td>14.71588</td></tr>\n",
       "\t<tr><td>casual</td><td>Wed</td><td>32.41169</td></tr>\n",
       "\t<tr><td>member</td><td>Wed</td><td>14.80683</td></tr>\n",
       "</tbody>\n",
       "</table>\n"
      ],
      "text/latex": [
       "A data.frame: 14 × 3\n",
       "\\begin{tabular}{lll}\n",
       " all\\_trips\\_new\\$member\\_casual & all\\_trips\\_new\\$day\\_of\\_week & all\\_trips\\_new\\$ride\\_length\\\\\n",
       " <chr> & <chr> & <dbl>\\\\\n",
       "\\hline\n",
       "\t casual & Fri & 34.77697\\\\\n",
       "\t member & Fri & 15.38444\\\\\n",
       "\t casual & Mon & 35.89054\\\\\n",
       "\t member & Mon & 14.83033\\\\\n",
       "\t casual & Sat & 39.04095\\\\\n",
       "\t member & Sat & 17.26662\\\\\n",
       "\t casual & Sun & 40.61886\\\\\n",
       "\t member & Sun & 17.39647\\\\\n",
       "\t casual & Thu & 32.99177\\\\\n",
       "\t member & Thu & 14.80909\\\\\n",
       "\t casual & Tue & 33.54954\\\\\n",
       "\t member & Tue & 14.71588\\\\\n",
       "\t casual & Wed & 32.41169\\\\\n",
       "\t member & Wed & 14.80683\\\\\n",
       "\\end{tabular}\n"
      ],
      "text/markdown": [
       "\n",
       "A data.frame: 14 × 3\n",
       "\n",
       "| all_trips_new$member_casual &lt;chr&gt; | all_trips_new$day_of_week &lt;chr&gt; | all_trips_new$ride_length &lt;dbl&gt; |\n",
       "|---|---|---|\n",
       "| casual | Fri | 34.77697 |\n",
       "| member | Fri | 15.38444 |\n",
       "| casual | Mon | 35.89054 |\n",
       "| member | Mon | 14.83033 |\n",
       "| casual | Sat | 39.04095 |\n",
       "| member | Sat | 17.26662 |\n",
       "| casual | Sun | 40.61886 |\n",
       "| member | Sun | 17.39647 |\n",
       "| casual | Thu | 32.99177 |\n",
       "| member | Thu | 14.80909 |\n",
       "| casual | Tue | 33.54954 |\n",
       "| member | Tue | 14.71588 |\n",
       "| casual | Wed | 32.41169 |\n",
       "| member | Wed | 14.80683 |\n",
       "\n"
      ],
      "text/plain": [
       "   all_trips_new$member_casual all_trips_new$day_of_week\n",
       "1  casual                      Fri                      \n",
       "2  member                      Fri                      \n",
       "3  casual                      Mon                      \n",
       "4  member                      Mon                      \n",
       "5  casual                      Sat                      \n",
       "6  member                      Sat                      \n",
       "7  casual                      Sun                      \n",
       "8  member                      Sun                      \n",
       "9  casual                      Thu                      \n",
       "10 member                      Thu                      \n",
       "11 casual                      Tue                      \n",
       "12 member                      Tue                      \n",
       "13 casual                      Wed                      \n",
       "14 member                      Wed                      \n",
       "   all_trips_new$ride_length\n",
       "1  34.77697                 \n",
       "2  15.38444                 \n",
       "3  35.89054                 \n",
       "4  14.83033                 \n",
       "5  39.04095                 \n",
       "6  17.26662                 \n",
       "7  40.61886                 \n",
       "8  17.39647                 \n",
       "9  32.99177                 \n",
       "10 14.80909                 \n",
       "11 33.54954                 \n",
       "12 14.71588                 \n",
       "13 32.41169                 \n",
       "14 14.80683                 "
      ]
     },
     "metadata": {},
     "output_type": "display_data"
    }
   ],
   "source": [
    "\n",
    "## Compare the ride_length with member_casual by day \n",
    "\n",
    "aggregate(all_trips_new$ride_length~all_trips_new$member_casual  + all_trips_new$day_of_week,FUN = mean)\n"
   ]
  },
  {
   "cell_type": "code",
   "execution_count": 17,
   "id": "9b6c47b6",
   "metadata": {
    "execution": {
     "iopub.execute_input": "2021-10-17T16:36:03.523765Z",
     "iopub.status.busy": "2021-10-17T16:36:03.522284Z",
     "iopub.status.idle": "2021-10-17T16:36:17.479296Z",
     "shell.execute_reply": "2021-10-17T16:36:17.477900Z"
    },
    "papermill": {
     "duration": 14.133239,
     "end_time": "2021-10-17T16:36:17.479479",
     "exception": false,
     "start_time": "2021-10-17T16:36:03.346240",
     "status": "completed"
    },
    "tags": []
   },
   "outputs": [
    {
     "data": {
      "text/html": [
       "<table class=\"dataframe\">\n",
       "<caption>A data.frame: 14 × 3</caption>\n",
       "<thead>\n",
       "\t<tr><th scope=col>all_trips_new$member_casual</th><th scope=col>all_trips_new$day_of_week</th><th scope=col>all_trips_new$ride_length</th></tr>\n",
       "\t<tr><th scope=col>&lt;chr&gt;</th><th scope=col>&lt;ord&gt;</th><th scope=col>&lt;dbl&gt;</th></tr>\n",
       "</thead>\n",
       "<tbody>\n",
       "\t<tr><td>casual</td><td>Mon</td><td>35.89054</td></tr>\n",
       "\t<tr><td>member</td><td>Mon</td><td>14.83033</td></tr>\n",
       "\t<tr><td>casual</td><td>Tue</td><td>33.54954</td></tr>\n",
       "\t<tr><td>member</td><td>Tue</td><td>14.71588</td></tr>\n",
       "\t<tr><td>casual</td><td>Wed</td><td>32.41169</td></tr>\n",
       "\t<tr><td>member</td><td>Wed</td><td>14.80683</td></tr>\n",
       "\t<tr><td>casual</td><td>Thu</td><td>32.99177</td></tr>\n",
       "\t<tr><td>member</td><td>Thu</td><td>14.80909</td></tr>\n",
       "\t<tr><td>casual</td><td>Fri</td><td>34.77697</td></tr>\n",
       "\t<tr><td>member</td><td>Fri</td><td>15.38444</td></tr>\n",
       "\t<tr><td>casual</td><td>Sat</td><td>39.04095</td></tr>\n",
       "\t<tr><td>member</td><td>Sat</td><td>17.26662</td></tr>\n",
       "\t<tr><td>casual</td><td>Sun</td><td>40.61886</td></tr>\n",
       "\t<tr><td>member</td><td>Sun</td><td>17.39647</td></tr>\n",
       "</tbody>\n",
       "</table>\n"
      ],
      "text/latex": [
       "A data.frame: 14 × 3\n",
       "\\begin{tabular}{lll}\n",
       " all\\_trips\\_new\\$member\\_casual & all\\_trips\\_new\\$day\\_of\\_week & all\\_trips\\_new\\$ride\\_length\\\\\n",
       " <chr> & <ord> & <dbl>\\\\\n",
       "\\hline\n",
       "\t casual & Mon & 35.89054\\\\\n",
       "\t member & Mon & 14.83033\\\\\n",
       "\t casual & Tue & 33.54954\\\\\n",
       "\t member & Tue & 14.71588\\\\\n",
       "\t casual & Wed & 32.41169\\\\\n",
       "\t member & Wed & 14.80683\\\\\n",
       "\t casual & Thu & 32.99177\\\\\n",
       "\t member & Thu & 14.80909\\\\\n",
       "\t casual & Fri & 34.77697\\\\\n",
       "\t member & Fri & 15.38444\\\\\n",
       "\t casual & Sat & 39.04095\\\\\n",
       "\t member & Sat & 17.26662\\\\\n",
       "\t casual & Sun & 40.61886\\\\\n",
       "\t member & Sun & 17.39647\\\\\n",
       "\\end{tabular}\n"
      ],
      "text/markdown": [
       "\n",
       "A data.frame: 14 × 3\n",
       "\n",
       "| all_trips_new$member_casual &lt;chr&gt; | all_trips_new$day_of_week &lt;ord&gt; | all_trips_new$ride_length &lt;dbl&gt; |\n",
       "|---|---|---|\n",
       "| casual | Mon | 35.89054 |\n",
       "| member | Mon | 14.83033 |\n",
       "| casual | Tue | 33.54954 |\n",
       "| member | Tue | 14.71588 |\n",
       "| casual | Wed | 32.41169 |\n",
       "| member | Wed | 14.80683 |\n",
       "| casual | Thu | 32.99177 |\n",
       "| member | Thu | 14.80909 |\n",
       "| casual | Fri | 34.77697 |\n",
       "| member | Fri | 15.38444 |\n",
       "| casual | Sat | 39.04095 |\n",
       "| member | Sat | 17.26662 |\n",
       "| casual | Sun | 40.61886 |\n",
       "| member | Sun | 17.39647 |\n",
       "\n"
      ],
      "text/plain": [
       "   all_trips_new$member_casual all_trips_new$day_of_week\n",
       "1  casual                      Mon                      \n",
       "2  member                      Mon                      \n",
       "3  casual                      Tue                      \n",
       "4  member                      Tue                      \n",
       "5  casual                      Wed                      \n",
       "6  member                      Wed                      \n",
       "7  casual                      Thu                      \n",
       "8  member                      Thu                      \n",
       "9  casual                      Fri                      \n",
       "10 member                      Fri                      \n",
       "11 casual                      Sat                      \n",
       "12 member                      Sat                      \n",
       "13 casual                      Sun                      \n",
       "14 member                      Sun                      \n",
       "   all_trips_new$ride_length\n",
       "1  35.89054                 \n",
       "2  14.83033                 \n",
       "3  33.54954                 \n",
       "4  14.71588                 \n",
       "5  32.41169                 \n",
       "6  14.80683                 \n",
       "7  32.99177                 \n",
       "8  14.80909                 \n",
       "9  34.77697                 \n",
       "10 15.38444                 \n",
       "11 39.04095                 \n",
       "12 17.26662                 \n",
       "13 40.61886                 \n",
       "14 17.39647                 "
      ]
     },
     "metadata": {},
     "output_type": "display_data"
    },
    {
     "data": {
      "text/html": [
       "<table class=\"dataframe\">\n",
       "<caption>A data.frame: 14 × 3</caption>\n",
       "<thead>\n",
       "\t<tr><th scope=col>all_trips_new$member_casual</th><th scope=col>all_trips_new$day_of_week</th><th scope=col>all_trips_new$ride_length</th></tr>\n",
       "\t<tr><th scope=col>&lt;chr&gt;</th><th scope=col>&lt;ord&gt;</th><th scope=col>&lt;dbl&gt;</th></tr>\n",
       "</thead>\n",
       "<tbody>\n",
       "\t<tr><td>casual</td><td>Mon</td><td>20.68333</td></tr>\n",
       "\t<tr><td>member</td><td>Mon</td><td>10.81667</td></tr>\n",
       "\t<tr><td>casual</td><td>Tue</td><td>19.05000</td></tr>\n",
       "\t<tr><td>member</td><td>Tue</td><td>10.85000</td></tr>\n",
       "\t<tr><td>casual</td><td>Wed</td><td>18.51667</td></tr>\n",
       "\t<tr><td>member</td><td>Wed</td><td>10.95000</td></tr>\n",
       "\t<tr><td>casual</td><td>Thu</td><td>18.61667</td></tr>\n",
       "\t<tr><td>member</td><td>Thu</td><td>10.95000</td></tr>\n",
       "\t<tr><td>casual</td><td>Fri</td><td>19.76667</td></tr>\n",
       "\t<tr><td>member</td><td>Fri</td><td>11.28333</td></tr>\n",
       "\t<tr><td>casual</td><td>Sat</td><td>23.41667</td></tr>\n",
       "\t<tr><td>member</td><td>Sat</td><td>12.93333</td></tr>\n",
       "\t<tr><td>casual</td><td>Sun</td><td>24.46667</td></tr>\n",
       "\t<tr><td>member</td><td>Sun</td><td>12.98333</td></tr>\n",
       "</tbody>\n",
       "</table>\n"
      ],
      "text/latex": [
       "A data.frame: 14 × 3\n",
       "\\begin{tabular}{lll}\n",
       " all\\_trips\\_new\\$member\\_casual & all\\_trips\\_new\\$day\\_of\\_week & all\\_trips\\_new\\$ride\\_length\\\\\n",
       " <chr> & <ord> & <dbl>\\\\\n",
       "\\hline\n",
       "\t casual & Mon & 20.68333\\\\\n",
       "\t member & Mon & 10.81667\\\\\n",
       "\t casual & Tue & 19.05000\\\\\n",
       "\t member & Tue & 10.85000\\\\\n",
       "\t casual & Wed & 18.51667\\\\\n",
       "\t member & Wed & 10.95000\\\\\n",
       "\t casual & Thu & 18.61667\\\\\n",
       "\t member & Thu & 10.95000\\\\\n",
       "\t casual & Fri & 19.76667\\\\\n",
       "\t member & Fri & 11.28333\\\\\n",
       "\t casual & Sat & 23.41667\\\\\n",
       "\t member & Sat & 12.93333\\\\\n",
       "\t casual & Sun & 24.46667\\\\\n",
       "\t member & Sun & 12.98333\\\\\n",
       "\\end{tabular}\n"
      ],
      "text/markdown": [
       "\n",
       "A data.frame: 14 × 3\n",
       "\n",
       "| all_trips_new$member_casual &lt;chr&gt; | all_trips_new$day_of_week &lt;ord&gt; | all_trips_new$ride_length &lt;dbl&gt; |\n",
       "|---|---|---|\n",
       "| casual | Mon | 20.68333 |\n",
       "| member | Mon | 10.81667 |\n",
       "| casual | Tue | 19.05000 |\n",
       "| member | Tue | 10.85000 |\n",
       "| casual | Wed | 18.51667 |\n",
       "| member | Wed | 10.95000 |\n",
       "| casual | Thu | 18.61667 |\n",
       "| member | Thu | 10.95000 |\n",
       "| casual | Fri | 19.76667 |\n",
       "| member | Fri | 11.28333 |\n",
       "| casual | Sat | 23.41667 |\n",
       "| member | Sat | 12.93333 |\n",
       "| casual | Sun | 24.46667 |\n",
       "| member | Sun | 12.98333 |\n",
       "\n"
      ],
      "text/plain": [
       "   all_trips_new$member_casual all_trips_new$day_of_week\n",
       "1  casual                      Mon                      \n",
       "2  member                      Mon                      \n",
       "3  casual                      Tue                      \n",
       "4  member                      Tue                      \n",
       "5  casual                      Wed                      \n",
       "6  member                      Wed                      \n",
       "7  casual                      Thu                      \n",
       "8  member                      Thu                      \n",
       "9  casual                      Fri                      \n",
       "10 member                      Fri                      \n",
       "11 casual                      Sat                      \n",
       "12 member                      Sat                      \n",
       "13 casual                      Sun                      \n",
       "14 member                      Sun                      \n",
       "   all_trips_new$ride_length\n",
       "1  20.68333                 \n",
       "2  10.81667                 \n",
       "3  19.05000                 \n",
       "4  10.85000                 \n",
       "5  18.51667                 \n",
       "6  10.95000                 \n",
       "7  18.61667                 \n",
       "8  10.95000                 \n",
       "9  19.76667                 \n",
       "10 11.28333                 \n",
       "11 23.41667                 \n",
       "12 12.93333                 \n",
       "13 24.46667                 \n",
       "14 12.98333                 "
      ]
     },
     "metadata": {},
     "output_type": "display_data"
    },
    {
     "data": {
      "text/html": [
       "<table class=\"dataframe\">\n",
       "<caption>A data.frame: 14 × 3</caption>\n",
       "<thead>\n",
       "\t<tr><th scope=col>all_trips_new$member_casual</th><th scope=col>all_trips_new$day_of_week</th><th scope=col>all_trips_new$ride_length</th></tr>\n",
       "\t<tr><th scope=col>&lt;chr&gt;</th><th scope=col>&lt;ord&gt;</th><th scope=col>&lt;dbl&gt;</th></tr>\n",
       "</thead>\n",
       "<tbody>\n",
       "\t<tr><td>casual</td><td>Mon</td><td>0</td></tr>\n",
       "\t<tr><td>member</td><td>Mon</td><td>0</td></tr>\n",
       "\t<tr><td>casual</td><td>Tue</td><td>0</td></tr>\n",
       "\t<tr><td>member</td><td>Tue</td><td>0</td></tr>\n",
       "\t<tr><td>casual</td><td>Wed</td><td>0</td></tr>\n",
       "\t<tr><td>member</td><td>Wed</td><td>0</td></tr>\n",
       "\t<tr><td>casual</td><td>Thu</td><td>0</td></tr>\n",
       "\t<tr><td>member</td><td>Thu</td><td>0</td></tr>\n",
       "\t<tr><td>casual</td><td>Fri</td><td>0</td></tr>\n",
       "\t<tr><td>member</td><td>Fri</td><td>0</td></tr>\n",
       "\t<tr><td>casual</td><td>Sat</td><td>0</td></tr>\n",
       "\t<tr><td>member</td><td>Sat</td><td>0</td></tr>\n",
       "\t<tr><td>casual</td><td>Sun</td><td>0</td></tr>\n",
       "\t<tr><td>member</td><td>Sun</td><td>0</td></tr>\n",
       "</tbody>\n",
       "</table>\n"
      ],
      "text/latex": [
       "A data.frame: 14 × 3\n",
       "\\begin{tabular}{lll}\n",
       " all\\_trips\\_new\\$member\\_casual & all\\_trips\\_new\\$day\\_of\\_week & all\\_trips\\_new\\$ride\\_length\\\\\n",
       " <chr> & <ord> & <dbl>\\\\\n",
       "\\hline\n",
       "\t casual & Mon & 0\\\\\n",
       "\t member & Mon & 0\\\\\n",
       "\t casual & Tue & 0\\\\\n",
       "\t member & Tue & 0\\\\\n",
       "\t casual & Wed & 0\\\\\n",
       "\t member & Wed & 0\\\\\n",
       "\t casual & Thu & 0\\\\\n",
       "\t member & Thu & 0\\\\\n",
       "\t casual & Fri & 0\\\\\n",
       "\t member & Fri & 0\\\\\n",
       "\t casual & Sat & 0\\\\\n",
       "\t member & Sat & 0\\\\\n",
       "\t casual & Sun & 0\\\\\n",
       "\t member & Sun & 0\\\\\n",
       "\\end{tabular}\n"
      ],
      "text/markdown": [
       "\n",
       "A data.frame: 14 × 3\n",
       "\n",
       "| all_trips_new$member_casual &lt;chr&gt; | all_trips_new$day_of_week &lt;ord&gt; | all_trips_new$ride_length &lt;dbl&gt; |\n",
       "|---|---|---|\n",
       "| casual | Mon | 0 |\n",
       "| member | Mon | 0 |\n",
       "| casual | Tue | 0 |\n",
       "| member | Tue | 0 |\n",
       "| casual | Wed | 0 |\n",
       "| member | Wed | 0 |\n",
       "| casual | Thu | 0 |\n",
       "| member | Thu | 0 |\n",
       "| casual | Fri | 0 |\n",
       "| member | Fri | 0 |\n",
       "| casual | Sat | 0 |\n",
       "| member | Sat | 0 |\n",
       "| casual | Sun | 0 |\n",
       "| member | Sun | 0 |\n",
       "\n"
      ],
      "text/plain": [
       "   all_trips_new$member_casual all_trips_new$day_of_week\n",
       "1  casual                      Mon                      \n",
       "2  member                      Mon                      \n",
       "3  casual                      Tue                      \n",
       "4  member                      Tue                      \n",
       "5  casual                      Wed                      \n",
       "6  member                      Wed                      \n",
       "7  casual                      Thu                      \n",
       "8  member                      Thu                      \n",
       "9  casual                      Fri                      \n",
       "10 member                      Fri                      \n",
       "11 casual                      Sat                      \n",
       "12 member                      Sat                      \n",
       "13 casual                      Sun                      \n",
       "14 member                      Sun                      \n",
       "   all_trips_new$ride_length\n",
       "1  0                        \n",
       "2  0                        \n",
       "3  0                        \n",
       "4  0                        \n",
       "5  0                        \n",
       "6  0                        \n",
       "7  0                        \n",
       "8  0                        \n",
       "9  0                        \n",
       "10 0                        \n",
       "11 0                        \n",
       "12 0                        \n",
       "13 0                        \n",
       "14 0                        "
      ]
     },
     "metadata": {},
     "output_type": "display_data"
    },
    {
     "data": {
      "text/html": [
       "<table class=\"dataframe\">\n",
       "<caption>A data.frame: 14 × 3</caption>\n",
       "<thead>\n",
       "\t<tr><th scope=col>all_trips_new$member_casual</th><th scope=col>all_trips_new$day_of_week</th><th scope=col>all_trips_new$ride_length</th></tr>\n",
       "\t<tr><th scope=col>&lt;chr&gt;</th><th scope=col>&lt;ord&gt;</th><th scope=col>&lt;dbl&gt;</th></tr>\n",
       "</thead>\n",
       "<tbody>\n",
       "\t<tr><td>casual</td><td>Mon</td><td>1439.817</td></tr>\n",
       "\t<tr><td>member</td><td>Mon</td><td>1404.833</td></tr>\n",
       "\t<tr><td>casual</td><td>Tue</td><td>1434.433</td></tr>\n",
       "\t<tr><td>member</td><td>Tue</td><td>1436.650</td></tr>\n",
       "\t<tr><td>casual</td><td>Wed</td><td>1437.983</td></tr>\n",
       "\t<tr><td>member</td><td>Wed</td><td>1419.867</td></tr>\n",
       "\t<tr><td>casual</td><td>Thu</td><td>1428.067</td></tr>\n",
       "\t<tr><td>member</td><td>Thu</td><td>1426.250</td></tr>\n",
       "\t<tr><td>casual</td><td>Fri</td><td>1438.550</td></tr>\n",
       "\t<tr><td>member</td><td>Fri</td><td>1430.833</td></tr>\n",
       "\t<tr><td>casual</td><td>Sat</td><td>1439.900</td></tr>\n",
       "\t<tr><td>member</td><td>Sat</td><td>1439.717</td></tr>\n",
       "\t<tr><td>casual</td><td>Sun</td><td>1435.900</td></tr>\n",
       "\t<tr><td>member</td><td>Sun</td><td>1417.250</td></tr>\n",
       "</tbody>\n",
       "</table>\n"
      ],
      "text/latex": [
       "A data.frame: 14 × 3\n",
       "\\begin{tabular}{lll}\n",
       " all\\_trips\\_new\\$member\\_casual & all\\_trips\\_new\\$day\\_of\\_week & all\\_trips\\_new\\$ride\\_length\\\\\n",
       " <chr> & <ord> & <dbl>\\\\\n",
       "\\hline\n",
       "\t casual & Mon & 1439.817\\\\\n",
       "\t member & Mon & 1404.833\\\\\n",
       "\t casual & Tue & 1434.433\\\\\n",
       "\t member & Tue & 1436.650\\\\\n",
       "\t casual & Wed & 1437.983\\\\\n",
       "\t member & Wed & 1419.867\\\\\n",
       "\t casual & Thu & 1428.067\\\\\n",
       "\t member & Thu & 1426.250\\\\\n",
       "\t casual & Fri & 1438.550\\\\\n",
       "\t member & Fri & 1430.833\\\\\n",
       "\t casual & Sat & 1439.900\\\\\n",
       "\t member & Sat & 1439.717\\\\\n",
       "\t casual & Sun & 1435.900\\\\\n",
       "\t member & Sun & 1417.250\\\\\n",
       "\\end{tabular}\n"
      ],
      "text/markdown": [
       "\n",
       "A data.frame: 14 × 3\n",
       "\n",
       "| all_trips_new$member_casual &lt;chr&gt; | all_trips_new$day_of_week &lt;ord&gt; | all_trips_new$ride_length &lt;dbl&gt; |\n",
       "|---|---|---|\n",
       "| casual | Mon | 1439.817 |\n",
       "| member | Mon | 1404.833 |\n",
       "| casual | Tue | 1434.433 |\n",
       "| member | Tue | 1436.650 |\n",
       "| casual | Wed | 1437.983 |\n",
       "| member | Wed | 1419.867 |\n",
       "| casual | Thu | 1428.067 |\n",
       "| member | Thu | 1426.250 |\n",
       "| casual | Fri | 1438.550 |\n",
       "| member | Fri | 1430.833 |\n",
       "| casual | Sat | 1439.900 |\n",
       "| member | Sat | 1439.717 |\n",
       "| casual | Sun | 1435.900 |\n",
       "| member | Sun | 1417.250 |\n",
       "\n"
      ],
      "text/plain": [
       "   all_trips_new$member_casual all_trips_new$day_of_week\n",
       "1  casual                      Mon                      \n",
       "2  member                      Mon                      \n",
       "3  casual                      Tue                      \n",
       "4  member                      Tue                      \n",
       "5  casual                      Wed                      \n",
       "6  member                      Wed                      \n",
       "7  casual                      Thu                      \n",
       "8  member                      Thu                      \n",
       "9  casual                      Fri                      \n",
       "10 member                      Fri                      \n",
       "11 casual                      Sat                      \n",
       "12 member                      Sat                      \n",
       "13 casual                      Sun                      \n",
       "14 member                      Sun                      \n",
       "   all_trips_new$ride_length\n",
       "1  1439.817                 \n",
       "2  1404.833                 \n",
       "3  1434.433                 \n",
       "4  1436.650                 \n",
       "5  1437.983                 \n",
       "6  1419.867                 \n",
       "7  1428.067                 \n",
       "8  1426.250                 \n",
       "9  1438.550                 \n",
       "10 1430.833                 \n",
       "11 1439.900                 \n",
       "12 1439.717                 \n",
       "13 1435.900                 \n",
       "14 1417.250                 "
      ]
     },
     "metadata": {},
     "output_type": "display_data"
    }
   ],
   "source": [
    "\n",
    "# let's order the day of week \n",
    "\n",
    "all_trips_new$day_of_week <- ordered(all_trips_new$day_of_week,\n",
    "                                     levels = c(\"Mon\",\"Tue\",\"Wed\", \"Thu\", \"Fri\", \"Sat\", \"Sun\"))\n",
    "\n",
    "aggregate(all_trips_new$ride_length~all_trips_new$member_casual + all_trips_new$day_of_week, FUN = mean)\n",
    "aggregate(all_trips_new$ride_length~all_trips_new$member_casual + all_trips_new$day_of_week, FUN = median)\n",
    "aggregate(all_trips_new$ride_length~all_trips_new$member_casual + all_trips_new$day_of_week ,FUN = min)\n",
    "aggregate(all_trips_new$ride_length~all_trips_new$member_casual + all_trips_new$day_of_week, FUN = max)\n"
   ]
  },
  {
   "cell_type": "code",
   "execution_count": 18,
   "id": "3f9a2130",
   "metadata": {
    "execution": {
     "iopub.execute_input": "2021-10-17T16:36:17.845094Z",
     "iopub.status.busy": "2021-10-17T16:36:17.843893Z",
     "iopub.status.idle": "2021-10-17T16:36:20.265088Z",
     "shell.execute_reply": "2021-10-17T16:36:20.263586Z"
    },
    "papermill": {
     "duration": 2.605119,
     "end_time": "2021-10-17T16:36:20.265232",
     "exception": false,
     "start_time": "2021-10-17T16:36:17.660113",
     "status": "completed"
    },
    "tags": []
   },
   "outputs": [
    {
     "data": {
      "text/html": [
       "<table class=\"dataframe\">\n",
       "<caption>A data.frame: 14 × 3</caption>\n",
       "<thead>\n",
       "\t<tr><th scope=col>all_trips_new$member_casual</th><th scope=col>all_trips_new$day_of_week</th><th scope=col>all_trips_new$ride_length</th></tr>\n",
       "\t<tr><th scope=col>&lt;chr&gt;</th><th scope=col>&lt;ord&gt;</th><th scope=col>&lt;dbl&gt;</th></tr>\n",
       "</thead>\n",
       "<tbody>\n",
       "\t<tr><td>casual</td><td>Mon</td><td>35.89054</td></tr>\n",
       "\t<tr><td>member</td><td>Mon</td><td>14.83033</td></tr>\n",
       "\t<tr><td>casual</td><td>Tue</td><td>33.54954</td></tr>\n",
       "\t<tr><td>member</td><td>Tue</td><td>14.71588</td></tr>\n",
       "\t<tr><td>casual</td><td>Wed</td><td>32.41169</td></tr>\n",
       "\t<tr><td>member</td><td>Wed</td><td>14.80683</td></tr>\n",
       "\t<tr><td>casual</td><td>Thu</td><td>32.99177</td></tr>\n",
       "\t<tr><td>member</td><td>Thu</td><td>14.80909</td></tr>\n",
       "\t<tr><td>casual</td><td>Fri</td><td>34.77697</td></tr>\n",
       "\t<tr><td>member</td><td>Fri</td><td>15.38444</td></tr>\n",
       "\t<tr><td>casual</td><td>Sat</td><td>39.04095</td></tr>\n",
       "\t<tr><td>member</td><td>Sat</td><td>17.26662</td></tr>\n",
       "\t<tr><td>casual</td><td>Sun</td><td>40.61886</td></tr>\n",
       "\t<tr><td>member</td><td>Sun</td><td>17.39647</td></tr>\n",
       "</tbody>\n",
       "</table>\n"
      ],
      "text/latex": [
       "A data.frame: 14 × 3\n",
       "\\begin{tabular}{lll}\n",
       " all\\_trips\\_new\\$member\\_casual & all\\_trips\\_new\\$day\\_of\\_week & all\\_trips\\_new\\$ride\\_length\\\\\n",
       " <chr> & <ord> & <dbl>\\\\\n",
       "\\hline\n",
       "\t casual & Mon & 35.89054\\\\\n",
       "\t member & Mon & 14.83033\\\\\n",
       "\t casual & Tue & 33.54954\\\\\n",
       "\t member & Tue & 14.71588\\\\\n",
       "\t casual & Wed & 32.41169\\\\\n",
       "\t member & Wed & 14.80683\\\\\n",
       "\t casual & Thu & 32.99177\\\\\n",
       "\t member & Thu & 14.80909\\\\\n",
       "\t casual & Fri & 34.77697\\\\\n",
       "\t member & Fri & 15.38444\\\\\n",
       "\t casual & Sat & 39.04095\\\\\n",
       "\t member & Sat & 17.26662\\\\\n",
       "\t casual & Sun & 40.61886\\\\\n",
       "\t member & Sun & 17.39647\\\\\n",
       "\\end{tabular}\n"
      ],
      "text/markdown": [
       "\n",
       "A data.frame: 14 × 3\n",
       "\n",
       "| all_trips_new$member_casual &lt;chr&gt; | all_trips_new$day_of_week &lt;ord&gt; | all_trips_new$ride_length &lt;dbl&gt; |\n",
       "|---|---|---|\n",
       "| casual | Mon | 35.89054 |\n",
       "| member | Mon | 14.83033 |\n",
       "| casual | Tue | 33.54954 |\n",
       "| member | Tue | 14.71588 |\n",
       "| casual | Wed | 32.41169 |\n",
       "| member | Wed | 14.80683 |\n",
       "| casual | Thu | 32.99177 |\n",
       "| member | Thu | 14.80909 |\n",
       "| casual | Fri | 34.77697 |\n",
       "| member | Fri | 15.38444 |\n",
       "| casual | Sat | 39.04095 |\n",
       "| member | Sat | 17.26662 |\n",
       "| casual | Sun | 40.61886 |\n",
       "| member | Sun | 17.39647 |\n",
       "\n"
      ],
      "text/plain": [
       "   all_trips_new$member_casual all_trips_new$day_of_week\n",
       "1  casual                      Mon                      \n",
       "2  member                      Mon                      \n",
       "3  casual                      Tue                      \n",
       "4  member                      Tue                      \n",
       "5  casual                      Wed                      \n",
       "6  member                      Wed                      \n",
       "7  casual                      Thu                      \n",
       "8  member                      Thu                      \n",
       "9  casual                      Fri                      \n",
       "10 member                      Fri                      \n",
       "11 casual                      Sat                      \n",
       "12 member                      Sat                      \n",
       "13 casual                      Sun                      \n",
       "14 member                      Sun                      \n",
       "   all_trips_new$ride_length\n",
       "1  35.89054                 \n",
       "2  14.83033                 \n",
       "3  33.54954                 \n",
       "4  14.71588                 \n",
       "5  32.41169                 \n",
       "6  14.80683                 \n",
       "7  32.99177                 \n",
       "8  14.80909                 \n",
       "9  34.77697                 \n",
       "10 15.38444                 \n",
       "11 39.04095                 \n",
       "12 17.26662                 \n",
       "13 40.61886                 \n",
       "14 17.39647                 "
      ]
     },
     "metadata": {},
     "output_type": "display_data"
    }
   ],
   "source": [
    "## Compare the ride_length with member_casual by day \n",
    "\n",
    "aggregate(all_trips_new$ride_length~all_trips_new$member_casual  + all_trips_new$day_of_week,FUN = mean)\n"
   ]
  },
  {
   "cell_type": "code",
   "execution_count": 19,
   "id": "2906fb4a",
   "metadata": {
    "execution": {
     "iopub.execute_input": "2021-10-17T16:36:20.634178Z",
     "iopub.status.busy": "2021-10-17T16:36:20.632822Z",
     "iopub.status.idle": "2021-10-17T16:36:31.468669Z",
     "shell.execute_reply": "2021-10-17T16:36:31.467197Z"
    },
    "papermill": {
     "duration": 11.02176,
     "end_time": "2021-10-17T16:36:31.468827",
     "exception": false,
     "start_time": "2021-10-17T16:36:20.447067",
     "status": "completed"
    },
    "tags": []
   },
   "outputs": [
    {
     "data": {
      "text/html": [
       "<table class=\"dataframe\">\n",
       "<caption>A data.frame: 14 × 3</caption>\n",
       "<thead>\n",
       "\t<tr><th scope=col>all_trips_new$member_casual</th><th scope=col>all_trips_new$day_of_week</th><th scope=col>all_trips_new$ride_length</th></tr>\n",
       "\t<tr><th scope=col>&lt;chr&gt;</th><th scope=col>&lt;ord&gt;</th><th scope=col>&lt;dbl&gt;</th></tr>\n",
       "</thead>\n",
       "<tbody>\n",
       "\t<tr><td>casual</td><td>Mon</td><td>35.89054</td></tr>\n",
       "\t<tr><td>member</td><td>Mon</td><td>14.83033</td></tr>\n",
       "\t<tr><td>casual</td><td>Tue</td><td>33.54954</td></tr>\n",
       "\t<tr><td>member</td><td>Tue</td><td>14.71588</td></tr>\n",
       "\t<tr><td>casual</td><td>Wed</td><td>32.41169</td></tr>\n",
       "\t<tr><td>member</td><td>Wed</td><td>14.80683</td></tr>\n",
       "\t<tr><td>casual</td><td>Thu</td><td>32.99177</td></tr>\n",
       "\t<tr><td>member</td><td>Thu</td><td>14.80909</td></tr>\n",
       "\t<tr><td>casual</td><td>Fri</td><td>34.77697</td></tr>\n",
       "\t<tr><td>member</td><td>Fri</td><td>15.38444</td></tr>\n",
       "\t<tr><td>casual</td><td>Sat</td><td>39.04095</td></tr>\n",
       "\t<tr><td>member</td><td>Sat</td><td>17.26662</td></tr>\n",
       "\t<tr><td>casual</td><td>Sun</td><td>40.61886</td></tr>\n",
       "\t<tr><td>member</td><td>Sun</td><td>17.39647</td></tr>\n",
       "</tbody>\n",
       "</table>\n"
      ],
      "text/latex": [
       "A data.frame: 14 × 3\n",
       "\\begin{tabular}{lll}\n",
       " all\\_trips\\_new\\$member\\_casual & all\\_trips\\_new\\$day\\_of\\_week & all\\_trips\\_new\\$ride\\_length\\\\\n",
       " <chr> & <ord> & <dbl>\\\\\n",
       "\\hline\n",
       "\t casual & Mon & 35.89054\\\\\n",
       "\t member & Mon & 14.83033\\\\\n",
       "\t casual & Tue & 33.54954\\\\\n",
       "\t member & Tue & 14.71588\\\\\n",
       "\t casual & Wed & 32.41169\\\\\n",
       "\t member & Wed & 14.80683\\\\\n",
       "\t casual & Thu & 32.99177\\\\\n",
       "\t member & Thu & 14.80909\\\\\n",
       "\t casual & Fri & 34.77697\\\\\n",
       "\t member & Fri & 15.38444\\\\\n",
       "\t casual & Sat & 39.04095\\\\\n",
       "\t member & Sat & 17.26662\\\\\n",
       "\t casual & Sun & 40.61886\\\\\n",
       "\t member & Sun & 17.39647\\\\\n",
       "\\end{tabular}\n"
      ],
      "text/markdown": [
       "\n",
       "A data.frame: 14 × 3\n",
       "\n",
       "| all_trips_new$member_casual &lt;chr&gt; | all_trips_new$day_of_week &lt;ord&gt; | all_trips_new$ride_length &lt;dbl&gt; |\n",
       "|---|---|---|\n",
       "| casual | Mon | 35.89054 |\n",
       "| member | Mon | 14.83033 |\n",
       "| casual | Tue | 33.54954 |\n",
       "| member | Tue | 14.71588 |\n",
       "| casual | Wed | 32.41169 |\n",
       "| member | Wed | 14.80683 |\n",
       "| casual | Thu | 32.99177 |\n",
       "| member | Thu | 14.80909 |\n",
       "| casual | Fri | 34.77697 |\n",
       "| member | Fri | 15.38444 |\n",
       "| casual | Sat | 39.04095 |\n",
       "| member | Sat | 17.26662 |\n",
       "| casual | Sun | 40.61886 |\n",
       "| member | Sun | 17.39647 |\n",
       "\n"
      ],
      "text/plain": [
       "   all_trips_new$member_casual all_trips_new$day_of_week\n",
       "1  casual                      Mon                      \n",
       "2  member                      Mon                      \n",
       "3  casual                      Tue                      \n",
       "4  member                      Tue                      \n",
       "5  casual                      Wed                      \n",
       "6  member                      Wed                      \n",
       "7  casual                      Thu                      \n",
       "8  member                      Thu                      \n",
       "9  casual                      Fri                      \n",
       "10 member                      Fri                      \n",
       "11 casual                      Sat                      \n",
       "12 member                      Sat                      \n",
       "13 casual                      Sun                      \n",
       "14 member                      Sun                      \n",
       "   all_trips_new$ride_length\n",
       "1  35.89054                 \n",
       "2  14.83033                 \n",
       "3  33.54954                 \n",
       "4  14.71588                 \n",
       "5  32.41169                 \n",
       "6  14.80683                 \n",
       "7  32.99177                 \n",
       "8  14.80909                 \n",
       "9  34.77697                 \n",
       "10 15.38444                 \n",
       "11 39.04095                 \n",
       "12 17.26662                 \n",
       "13 40.61886                 \n",
       "14 17.39647                 "
      ]
     },
     "metadata": {},
     "output_type": "display_data"
    },
    {
     "data": {
      "text/html": [
       "<table class=\"dataframe\">\n",
       "<caption>A data.frame: 14 × 3</caption>\n",
       "<thead>\n",
       "\t<tr><th scope=col>all_trips_new$member_casual</th><th scope=col>all_trips_new$day_of_week</th><th scope=col>all_trips_new$ride_length</th></tr>\n",
       "\t<tr><th scope=col>&lt;chr&gt;</th><th scope=col>&lt;ord&gt;</th><th scope=col>&lt;dbl&gt;</th></tr>\n",
       "</thead>\n",
       "<tbody>\n",
       "\t<tr><td>casual</td><td>Mon</td><td>20.68333</td></tr>\n",
       "\t<tr><td>member</td><td>Mon</td><td>10.81667</td></tr>\n",
       "\t<tr><td>casual</td><td>Tue</td><td>19.05000</td></tr>\n",
       "\t<tr><td>member</td><td>Tue</td><td>10.85000</td></tr>\n",
       "\t<tr><td>casual</td><td>Wed</td><td>18.51667</td></tr>\n",
       "\t<tr><td>member</td><td>Wed</td><td>10.95000</td></tr>\n",
       "\t<tr><td>casual</td><td>Thu</td><td>18.61667</td></tr>\n",
       "\t<tr><td>member</td><td>Thu</td><td>10.95000</td></tr>\n",
       "\t<tr><td>casual</td><td>Fri</td><td>19.76667</td></tr>\n",
       "\t<tr><td>member</td><td>Fri</td><td>11.28333</td></tr>\n",
       "\t<tr><td>casual</td><td>Sat</td><td>23.41667</td></tr>\n",
       "\t<tr><td>member</td><td>Sat</td><td>12.93333</td></tr>\n",
       "\t<tr><td>casual</td><td>Sun</td><td>24.46667</td></tr>\n",
       "\t<tr><td>member</td><td>Sun</td><td>12.98333</td></tr>\n",
       "</tbody>\n",
       "</table>\n"
      ],
      "text/latex": [
       "A data.frame: 14 × 3\n",
       "\\begin{tabular}{lll}\n",
       " all\\_trips\\_new\\$member\\_casual & all\\_trips\\_new\\$day\\_of\\_week & all\\_trips\\_new\\$ride\\_length\\\\\n",
       " <chr> & <ord> & <dbl>\\\\\n",
       "\\hline\n",
       "\t casual & Mon & 20.68333\\\\\n",
       "\t member & Mon & 10.81667\\\\\n",
       "\t casual & Tue & 19.05000\\\\\n",
       "\t member & Tue & 10.85000\\\\\n",
       "\t casual & Wed & 18.51667\\\\\n",
       "\t member & Wed & 10.95000\\\\\n",
       "\t casual & Thu & 18.61667\\\\\n",
       "\t member & Thu & 10.95000\\\\\n",
       "\t casual & Fri & 19.76667\\\\\n",
       "\t member & Fri & 11.28333\\\\\n",
       "\t casual & Sat & 23.41667\\\\\n",
       "\t member & Sat & 12.93333\\\\\n",
       "\t casual & Sun & 24.46667\\\\\n",
       "\t member & Sun & 12.98333\\\\\n",
       "\\end{tabular}\n"
      ],
      "text/markdown": [
       "\n",
       "A data.frame: 14 × 3\n",
       "\n",
       "| all_trips_new$member_casual &lt;chr&gt; | all_trips_new$day_of_week &lt;ord&gt; | all_trips_new$ride_length &lt;dbl&gt; |\n",
       "|---|---|---|\n",
       "| casual | Mon | 20.68333 |\n",
       "| member | Mon | 10.81667 |\n",
       "| casual | Tue | 19.05000 |\n",
       "| member | Tue | 10.85000 |\n",
       "| casual | Wed | 18.51667 |\n",
       "| member | Wed | 10.95000 |\n",
       "| casual | Thu | 18.61667 |\n",
       "| member | Thu | 10.95000 |\n",
       "| casual | Fri | 19.76667 |\n",
       "| member | Fri | 11.28333 |\n",
       "| casual | Sat | 23.41667 |\n",
       "| member | Sat | 12.93333 |\n",
       "| casual | Sun | 24.46667 |\n",
       "| member | Sun | 12.98333 |\n",
       "\n"
      ],
      "text/plain": [
       "   all_trips_new$member_casual all_trips_new$day_of_week\n",
       "1  casual                      Mon                      \n",
       "2  member                      Mon                      \n",
       "3  casual                      Tue                      \n",
       "4  member                      Tue                      \n",
       "5  casual                      Wed                      \n",
       "6  member                      Wed                      \n",
       "7  casual                      Thu                      \n",
       "8  member                      Thu                      \n",
       "9  casual                      Fri                      \n",
       "10 member                      Fri                      \n",
       "11 casual                      Sat                      \n",
       "12 member                      Sat                      \n",
       "13 casual                      Sun                      \n",
       "14 member                      Sun                      \n",
       "   all_trips_new$ride_length\n",
       "1  20.68333                 \n",
       "2  10.81667                 \n",
       "3  19.05000                 \n",
       "4  10.85000                 \n",
       "5  18.51667                 \n",
       "6  10.95000                 \n",
       "7  18.61667                 \n",
       "8  10.95000                 \n",
       "9  19.76667                 \n",
       "10 11.28333                 \n",
       "11 23.41667                 \n",
       "12 12.93333                 \n",
       "13 24.46667                 \n",
       "14 12.98333                 "
      ]
     },
     "metadata": {},
     "output_type": "display_data"
    },
    {
     "data": {
      "text/html": [
       "<table class=\"dataframe\">\n",
       "<caption>A data.frame: 14 × 3</caption>\n",
       "<thead>\n",
       "\t<tr><th scope=col>all_trips_new$member_casual</th><th scope=col>all_trips_new$day_of_week</th><th scope=col>all_trips_new$ride_length</th></tr>\n",
       "\t<tr><th scope=col>&lt;chr&gt;</th><th scope=col>&lt;ord&gt;</th><th scope=col>&lt;dbl&gt;</th></tr>\n",
       "</thead>\n",
       "<tbody>\n",
       "\t<tr><td>casual</td><td>Mon</td><td>0</td></tr>\n",
       "\t<tr><td>member</td><td>Mon</td><td>0</td></tr>\n",
       "\t<tr><td>casual</td><td>Tue</td><td>0</td></tr>\n",
       "\t<tr><td>member</td><td>Tue</td><td>0</td></tr>\n",
       "\t<tr><td>casual</td><td>Wed</td><td>0</td></tr>\n",
       "\t<tr><td>member</td><td>Wed</td><td>0</td></tr>\n",
       "\t<tr><td>casual</td><td>Thu</td><td>0</td></tr>\n",
       "\t<tr><td>member</td><td>Thu</td><td>0</td></tr>\n",
       "\t<tr><td>casual</td><td>Fri</td><td>0</td></tr>\n",
       "\t<tr><td>member</td><td>Fri</td><td>0</td></tr>\n",
       "\t<tr><td>casual</td><td>Sat</td><td>0</td></tr>\n",
       "\t<tr><td>member</td><td>Sat</td><td>0</td></tr>\n",
       "\t<tr><td>casual</td><td>Sun</td><td>0</td></tr>\n",
       "\t<tr><td>member</td><td>Sun</td><td>0</td></tr>\n",
       "</tbody>\n",
       "</table>\n"
      ],
      "text/latex": [
       "A data.frame: 14 × 3\n",
       "\\begin{tabular}{lll}\n",
       " all\\_trips\\_new\\$member\\_casual & all\\_trips\\_new\\$day\\_of\\_week & all\\_trips\\_new\\$ride\\_length\\\\\n",
       " <chr> & <ord> & <dbl>\\\\\n",
       "\\hline\n",
       "\t casual & Mon & 0\\\\\n",
       "\t member & Mon & 0\\\\\n",
       "\t casual & Tue & 0\\\\\n",
       "\t member & Tue & 0\\\\\n",
       "\t casual & Wed & 0\\\\\n",
       "\t member & Wed & 0\\\\\n",
       "\t casual & Thu & 0\\\\\n",
       "\t member & Thu & 0\\\\\n",
       "\t casual & Fri & 0\\\\\n",
       "\t member & Fri & 0\\\\\n",
       "\t casual & Sat & 0\\\\\n",
       "\t member & Sat & 0\\\\\n",
       "\t casual & Sun & 0\\\\\n",
       "\t member & Sun & 0\\\\\n",
       "\\end{tabular}\n"
      ],
      "text/markdown": [
       "\n",
       "A data.frame: 14 × 3\n",
       "\n",
       "| all_trips_new$member_casual &lt;chr&gt; | all_trips_new$day_of_week &lt;ord&gt; | all_trips_new$ride_length &lt;dbl&gt; |\n",
       "|---|---|---|\n",
       "| casual | Mon | 0 |\n",
       "| member | Mon | 0 |\n",
       "| casual | Tue | 0 |\n",
       "| member | Tue | 0 |\n",
       "| casual | Wed | 0 |\n",
       "| member | Wed | 0 |\n",
       "| casual | Thu | 0 |\n",
       "| member | Thu | 0 |\n",
       "| casual | Fri | 0 |\n",
       "| member | Fri | 0 |\n",
       "| casual | Sat | 0 |\n",
       "| member | Sat | 0 |\n",
       "| casual | Sun | 0 |\n",
       "| member | Sun | 0 |\n",
       "\n"
      ],
      "text/plain": [
       "   all_trips_new$member_casual all_trips_new$day_of_week\n",
       "1  casual                      Mon                      \n",
       "2  member                      Mon                      \n",
       "3  casual                      Tue                      \n",
       "4  member                      Tue                      \n",
       "5  casual                      Wed                      \n",
       "6  member                      Wed                      \n",
       "7  casual                      Thu                      \n",
       "8  member                      Thu                      \n",
       "9  casual                      Fri                      \n",
       "10 member                      Fri                      \n",
       "11 casual                      Sat                      \n",
       "12 member                      Sat                      \n",
       "13 casual                      Sun                      \n",
       "14 member                      Sun                      \n",
       "   all_trips_new$ride_length\n",
       "1  0                        \n",
       "2  0                        \n",
       "3  0                        \n",
       "4  0                        \n",
       "5  0                        \n",
       "6  0                        \n",
       "7  0                        \n",
       "8  0                        \n",
       "9  0                        \n",
       "10 0                        \n",
       "11 0                        \n",
       "12 0                        \n",
       "13 0                        \n",
       "14 0                        "
      ]
     },
     "metadata": {},
     "output_type": "display_data"
    },
    {
     "data": {
      "text/html": [
       "<table class=\"dataframe\">\n",
       "<caption>A data.frame: 14 × 3</caption>\n",
       "<thead>\n",
       "\t<tr><th scope=col>all_trips_new$member_casual</th><th scope=col>all_trips_new$day_of_week</th><th scope=col>all_trips_new$ride_length</th></tr>\n",
       "\t<tr><th scope=col>&lt;chr&gt;</th><th scope=col>&lt;ord&gt;</th><th scope=col>&lt;dbl&gt;</th></tr>\n",
       "</thead>\n",
       "<tbody>\n",
       "\t<tr><td>casual</td><td>Mon</td><td>1439.817</td></tr>\n",
       "\t<tr><td>member</td><td>Mon</td><td>1404.833</td></tr>\n",
       "\t<tr><td>casual</td><td>Tue</td><td>1434.433</td></tr>\n",
       "\t<tr><td>member</td><td>Tue</td><td>1436.650</td></tr>\n",
       "\t<tr><td>casual</td><td>Wed</td><td>1437.983</td></tr>\n",
       "\t<tr><td>member</td><td>Wed</td><td>1419.867</td></tr>\n",
       "\t<tr><td>casual</td><td>Thu</td><td>1428.067</td></tr>\n",
       "\t<tr><td>member</td><td>Thu</td><td>1426.250</td></tr>\n",
       "\t<tr><td>casual</td><td>Fri</td><td>1438.550</td></tr>\n",
       "\t<tr><td>member</td><td>Fri</td><td>1430.833</td></tr>\n",
       "\t<tr><td>casual</td><td>Sat</td><td>1439.900</td></tr>\n",
       "\t<tr><td>member</td><td>Sat</td><td>1439.717</td></tr>\n",
       "\t<tr><td>casual</td><td>Sun</td><td>1435.900</td></tr>\n",
       "\t<tr><td>member</td><td>Sun</td><td>1417.250</td></tr>\n",
       "</tbody>\n",
       "</table>\n"
      ],
      "text/latex": [
       "A data.frame: 14 × 3\n",
       "\\begin{tabular}{lll}\n",
       " all\\_trips\\_new\\$member\\_casual & all\\_trips\\_new\\$day\\_of\\_week & all\\_trips\\_new\\$ride\\_length\\\\\n",
       " <chr> & <ord> & <dbl>\\\\\n",
       "\\hline\n",
       "\t casual & Mon & 1439.817\\\\\n",
       "\t member & Mon & 1404.833\\\\\n",
       "\t casual & Tue & 1434.433\\\\\n",
       "\t member & Tue & 1436.650\\\\\n",
       "\t casual & Wed & 1437.983\\\\\n",
       "\t member & Wed & 1419.867\\\\\n",
       "\t casual & Thu & 1428.067\\\\\n",
       "\t member & Thu & 1426.250\\\\\n",
       "\t casual & Fri & 1438.550\\\\\n",
       "\t member & Fri & 1430.833\\\\\n",
       "\t casual & Sat & 1439.900\\\\\n",
       "\t member & Sat & 1439.717\\\\\n",
       "\t casual & Sun & 1435.900\\\\\n",
       "\t member & Sun & 1417.250\\\\\n",
       "\\end{tabular}\n"
      ],
      "text/markdown": [
       "\n",
       "A data.frame: 14 × 3\n",
       "\n",
       "| all_trips_new$member_casual &lt;chr&gt; | all_trips_new$day_of_week &lt;ord&gt; | all_trips_new$ride_length &lt;dbl&gt; |\n",
       "|---|---|---|\n",
       "| casual | Mon | 1439.817 |\n",
       "| member | Mon | 1404.833 |\n",
       "| casual | Tue | 1434.433 |\n",
       "| member | Tue | 1436.650 |\n",
       "| casual | Wed | 1437.983 |\n",
       "| member | Wed | 1419.867 |\n",
       "| casual | Thu | 1428.067 |\n",
       "| member | Thu | 1426.250 |\n",
       "| casual | Fri | 1438.550 |\n",
       "| member | Fri | 1430.833 |\n",
       "| casual | Sat | 1439.900 |\n",
       "| member | Sat | 1439.717 |\n",
       "| casual | Sun | 1435.900 |\n",
       "| member | Sun | 1417.250 |\n",
       "\n"
      ],
      "text/plain": [
       "   all_trips_new$member_casual all_trips_new$day_of_week\n",
       "1  casual                      Mon                      \n",
       "2  member                      Mon                      \n",
       "3  casual                      Tue                      \n",
       "4  member                      Tue                      \n",
       "5  casual                      Wed                      \n",
       "6  member                      Wed                      \n",
       "7  casual                      Thu                      \n",
       "8  member                      Thu                      \n",
       "9  casual                      Fri                      \n",
       "10 member                      Fri                      \n",
       "11 casual                      Sat                      \n",
       "12 member                      Sat                      \n",
       "13 casual                      Sun                      \n",
       "14 member                      Sun                      \n",
       "   all_trips_new$ride_length\n",
       "1  1439.817                 \n",
       "2  1404.833                 \n",
       "3  1434.433                 \n",
       "4  1436.650                 \n",
       "5  1437.983                 \n",
       "6  1419.867                 \n",
       "7  1428.067                 \n",
       "8  1426.250                 \n",
       "9  1438.550                 \n",
       "10 1430.833                 \n",
       "11 1439.900                 \n",
       "12 1439.717                 \n",
       "13 1435.900                 \n",
       "14 1417.250                 "
      ]
     },
     "metadata": {},
     "output_type": "display_data"
    }
   ],
   "source": [
    "\n",
    "# let's order the day of week \n",
    "all_trips_new$day_of_week <- ordered(all_trips_new$day_of_week,\n",
    "                                     levels = c(\"Mon\",\"Tue\",\"Wed\", \"Thu\", \"Fri\", \"Sat\", \"Sun\"))\n",
    "\n",
    "aggregate(all_trips_new$ride_length~all_trips_new$member_casual + all_trips_new$day_of_week, FUN = mean)\n",
    "aggregate(all_trips_new$ride_length~all_trips_new$member_casual + all_trips_new$day_of_week, FUN = median)\n",
    "aggregate(all_trips_new$ride_length~all_trips_new$member_casual + all_trips_new$day_of_week ,FUN = min)\n",
    "aggregate(all_trips_new$ride_length~all_trips_new$member_casual + all_trips_new$day_of_week, FUN = max)\n"
   ]
  },
  {
   "cell_type": "code",
   "execution_count": 20,
   "id": "08e7115f",
   "metadata": {
    "execution": {
     "iopub.execute_input": "2021-10-17T16:36:31.854290Z",
     "iopub.status.busy": "2021-10-17T16:36:31.852980Z",
     "iopub.status.idle": "2021-10-17T16:36:43.828258Z",
     "shell.execute_reply": "2021-10-17T16:36:43.826779Z"
    },
    "papermill": {
     "duration": 12.170136,
     "end_time": "2021-10-17T16:36:43.828392",
     "exception": false,
     "start_time": "2021-10-17T16:36:31.658256",
     "status": "completed"
    },
    "tags": []
   },
   "outputs": [
    {
     "data": {
      "text/html": [
       "<table class=\"dataframe\">\n",
       "<caption>A data.frame: 24 × 3</caption>\n",
       "<thead>\n",
       "\t<tr><th scope=col>all_trips_new$member_casual</th><th scope=col>all_trips_new$month</th><th scope=col>all_trips_new$ride_length</th></tr>\n",
       "\t<tr><th scope=col>&lt;chr&gt;</th><th scope=col>&lt;chr&gt;</th><th scope=col>&lt;dbl&gt;</th></tr>\n",
       "</thead>\n",
       "<tbody>\n",
       "\t<tr><td>casual</td><td>01</td><td>21.38846</td></tr>\n",
       "\t<tr><td>member</td><td>01</td><td>12.68422</td></tr>\n",
       "\t<tr><td>casual</td><td>02</td><td>30.33280</td></tr>\n",
       "\t<tr><td>member</td><td>02</td><td>15.80737</td></tr>\n",
       "\t<tr><td>casual</td><td>03</td><td>31.42447</td></tr>\n",
       "\t<tr><td>member</td><td>03</td><td>13.86658</td></tr>\n",
       "\t<tr><td>casual</td><td>04</td><td>39.43026</td></tr>\n",
       "\t<tr><td>member</td><td>04</td><td>18.03891</td></tr>\n",
       "\t<tr><td>casual</td><td>05</td><td>44.48181</td></tr>\n",
       "\t<tr><td>member</td><td>05</td><td>19.34117</td></tr>\n",
       "\t<tr><td>casual</td><td>06</td><td>42.37640</td></tr>\n",
       "\t<tr><td>member</td><td>06</td><td>18.29886</td></tr>\n",
       "\t<tr><td>casual</td><td>07</td><td>44.62916</td></tr>\n",
       "\t<tr><td>member</td><td>07</td><td>17.36030</td></tr>\n",
       "\t<tr><td>casual</td><td>08</td><td>37.53960</td></tr>\n",
       "\t<tr><td>member</td><td>08</td><td>16.26939</td></tr>\n",
       "\t<tr><td>casual</td><td>09</td><td>32.08212</td></tr>\n",
       "\t<tr><td>member</td><td>09</td><td>15.01388</td></tr>\n",
       "\t<tr><td>casual</td><td>10</td><td>26.98281</td></tr>\n",
       "\t<tr><td>member</td><td>10</td><td>13.71608</td></tr>\n",
       "\t<tr><td>casual</td><td>11</td><td>27.81109</td></tr>\n",
       "\t<tr><td>member</td><td>11</td><td>13.41480</td></tr>\n",
       "\t<tr><td>casual</td><td>12</td><td>22.76587</td></tr>\n",
       "\t<tr><td>member</td><td>12</td><td>12.57289</td></tr>\n",
       "</tbody>\n",
       "</table>\n"
      ],
      "text/latex": [
       "A data.frame: 24 × 3\n",
       "\\begin{tabular}{lll}\n",
       " all\\_trips\\_new\\$member\\_casual & all\\_trips\\_new\\$month & all\\_trips\\_new\\$ride\\_length\\\\\n",
       " <chr> & <chr> & <dbl>\\\\\n",
       "\\hline\n",
       "\t casual & 01 & 21.38846\\\\\n",
       "\t member & 01 & 12.68422\\\\\n",
       "\t casual & 02 & 30.33280\\\\\n",
       "\t member & 02 & 15.80737\\\\\n",
       "\t casual & 03 & 31.42447\\\\\n",
       "\t member & 03 & 13.86658\\\\\n",
       "\t casual & 04 & 39.43026\\\\\n",
       "\t member & 04 & 18.03891\\\\\n",
       "\t casual & 05 & 44.48181\\\\\n",
       "\t member & 05 & 19.34117\\\\\n",
       "\t casual & 06 & 42.37640\\\\\n",
       "\t member & 06 & 18.29886\\\\\n",
       "\t casual & 07 & 44.62916\\\\\n",
       "\t member & 07 & 17.36030\\\\\n",
       "\t casual & 08 & 37.53960\\\\\n",
       "\t member & 08 & 16.26939\\\\\n",
       "\t casual & 09 & 32.08212\\\\\n",
       "\t member & 09 & 15.01388\\\\\n",
       "\t casual & 10 & 26.98281\\\\\n",
       "\t member & 10 & 13.71608\\\\\n",
       "\t casual & 11 & 27.81109\\\\\n",
       "\t member & 11 & 13.41480\\\\\n",
       "\t casual & 12 & 22.76587\\\\\n",
       "\t member & 12 & 12.57289\\\\\n",
       "\\end{tabular}\n"
      ],
      "text/markdown": [
       "\n",
       "A data.frame: 24 × 3\n",
       "\n",
       "| all_trips_new$member_casual &lt;chr&gt; | all_trips_new$month &lt;chr&gt; | all_trips_new$ride_length &lt;dbl&gt; |\n",
       "|---|---|---|\n",
       "| casual | 01 | 21.38846 |\n",
       "| member | 01 | 12.68422 |\n",
       "| casual | 02 | 30.33280 |\n",
       "| member | 02 | 15.80737 |\n",
       "| casual | 03 | 31.42447 |\n",
       "| member | 03 | 13.86658 |\n",
       "| casual | 04 | 39.43026 |\n",
       "| member | 04 | 18.03891 |\n",
       "| casual | 05 | 44.48181 |\n",
       "| member | 05 | 19.34117 |\n",
       "| casual | 06 | 42.37640 |\n",
       "| member | 06 | 18.29886 |\n",
       "| casual | 07 | 44.62916 |\n",
       "| member | 07 | 17.36030 |\n",
       "| casual | 08 | 37.53960 |\n",
       "| member | 08 | 16.26939 |\n",
       "| casual | 09 | 32.08212 |\n",
       "| member | 09 | 15.01388 |\n",
       "| casual | 10 | 26.98281 |\n",
       "| member | 10 | 13.71608 |\n",
       "| casual | 11 | 27.81109 |\n",
       "| member | 11 | 13.41480 |\n",
       "| casual | 12 | 22.76587 |\n",
       "| member | 12 | 12.57289 |\n",
       "\n"
      ],
      "text/plain": [
       "   all_trips_new$member_casual all_trips_new$month all_trips_new$ride_length\n",
       "1  casual                      01                  21.38846                 \n",
       "2  member                      01                  12.68422                 \n",
       "3  casual                      02                  30.33280                 \n",
       "4  member                      02                  15.80737                 \n",
       "5  casual                      03                  31.42447                 \n",
       "6  member                      03                  13.86658                 \n",
       "7  casual                      04                  39.43026                 \n",
       "8  member                      04                  18.03891                 \n",
       "9  casual                      05                  44.48181                 \n",
       "10 member                      05                  19.34117                 \n",
       "11 casual                      06                  42.37640                 \n",
       "12 member                      06                  18.29886                 \n",
       "13 casual                      07                  44.62916                 \n",
       "14 member                      07                  17.36030                 \n",
       "15 casual                      08                  37.53960                 \n",
       "16 member                      08                  16.26939                 \n",
       "17 casual                      09                  32.08212                 \n",
       "18 member                      09                  15.01388                 \n",
       "19 casual                      10                  26.98281                 \n",
       "20 member                      10                  13.71608                 \n",
       "21 casual                      11                  27.81109                 \n",
       "22 member                      11                  13.41480                 \n",
       "23 casual                      12                  22.76587                 \n",
       "24 member                      12                  12.57289                 "
      ]
     },
     "metadata": {},
     "output_type": "display_data"
    },
    {
     "data": {
      "text/html": [
       "<table class=\"dataframe\">\n",
       "<caption>A data.frame: 24 × 3</caption>\n",
       "<thead>\n",
       "\t<tr><th scope=col>all_trips_new$member_casual</th><th scope=col>all_trips_new$month</th><th scope=col>all_trips_new$ride_length</th></tr>\n",
       "\t<tr><th scope=col>&lt;chr&gt;</th><th scope=col>&lt;chr&gt;</th><th scope=col>&lt;dbl&gt;</th></tr>\n",
       "</thead>\n",
       "<tbody>\n",
       "\t<tr><td>casual</td><td>01</td><td>12.266667</td></tr>\n",
       "\t<tr><td>member</td><td>01</td><td> 8.700000</td></tr>\n",
       "\t<tr><td>casual</td><td>02</td><td>16.033333</td></tr>\n",
       "\t<tr><td>member</td><td>02</td><td>10.116667</td></tr>\n",
       "\t<tr><td>casual</td><td>03</td><td>18.683333</td></tr>\n",
       "\t<tr><td>member</td><td>03</td><td> 9.983333</td></tr>\n",
       "\t<tr><td>casual</td><td>04</td><td>25.166667</td></tr>\n",
       "\t<tr><td>member</td><td>04</td><td>13.700000</td></tr>\n",
       "\t<tr><td>casual</td><td>05</td><td>26.533333</td></tr>\n",
       "\t<tr><td>member</td><td>05</td><td>15.216667</td></tr>\n",
       "\t<tr><td>casual</td><td>06</td><td>24.583333</td></tr>\n",
       "\t<tr><td>member</td><td>06</td><td>14.333333</td></tr>\n",
       "\t<tr><td>casual</td><td>07</td><td>25.366667</td></tr>\n",
       "\t<tr><td>member</td><td>07</td><td>13.400000</td></tr>\n",
       "\t<tr><td>casual</td><td>08</td><td>22.133333</td></tr>\n",
       "\t<tr><td>member</td><td>08</td><td>12.300000</td></tr>\n",
       "\t<tr><td>casual</td><td>09</td><td>19.250000</td></tr>\n",
       "\t<tr><td>member</td><td>09</td><td>11.100000</td></tr>\n",
       "\t<tr><td>casual</td><td>10</td><td>16.050000</td></tr>\n",
       "\t<tr><td>member</td><td>10</td><td> 9.883333</td></tr>\n",
       "\t<tr><td>casual</td><td>11</td><td>16.400000</td></tr>\n",
       "\t<tr><td>member</td><td>11</td><td> 9.600000</td></tr>\n",
       "\t<tr><td>casual</td><td>12</td><td>13.450000</td></tr>\n",
       "\t<tr><td>member</td><td>12</td><td> 8.966667</td></tr>\n",
       "</tbody>\n",
       "</table>\n"
      ],
      "text/latex": [
       "A data.frame: 24 × 3\n",
       "\\begin{tabular}{lll}\n",
       " all\\_trips\\_new\\$member\\_casual & all\\_trips\\_new\\$month & all\\_trips\\_new\\$ride\\_length\\\\\n",
       " <chr> & <chr> & <dbl>\\\\\n",
       "\\hline\n",
       "\t casual & 01 & 12.266667\\\\\n",
       "\t member & 01 &  8.700000\\\\\n",
       "\t casual & 02 & 16.033333\\\\\n",
       "\t member & 02 & 10.116667\\\\\n",
       "\t casual & 03 & 18.683333\\\\\n",
       "\t member & 03 &  9.983333\\\\\n",
       "\t casual & 04 & 25.166667\\\\\n",
       "\t member & 04 & 13.700000\\\\\n",
       "\t casual & 05 & 26.533333\\\\\n",
       "\t member & 05 & 15.216667\\\\\n",
       "\t casual & 06 & 24.583333\\\\\n",
       "\t member & 06 & 14.333333\\\\\n",
       "\t casual & 07 & 25.366667\\\\\n",
       "\t member & 07 & 13.400000\\\\\n",
       "\t casual & 08 & 22.133333\\\\\n",
       "\t member & 08 & 12.300000\\\\\n",
       "\t casual & 09 & 19.250000\\\\\n",
       "\t member & 09 & 11.100000\\\\\n",
       "\t casual & 10 & 16.050000\\\\\n",
       "\t member & 10 &  9.883333\\\\\n",
       "\t casual & 11 & 16.400000\\\\\n",
       "\t member & 11 &  9.600000\\\\\n",
       "\t casual & 12 & 13.450000\\\\\n",
       "\t member & 12 &  8.966667\\\\\n",
       "\\end{tabular}\n"
      ],
      "text/markdown": [
       "\n",
       "A data.frame: 24 × 3\n",
       "\n",
       "| all_trips_new$member_casual &lt;chr&gt; | all_trips_new$month &lt;chr&gt; | all_trips_new$ride_length &lt;dbl&gt; |\n",
       "|---|---|---|\n",
       "| casual | 01 | 12.266667 |\n",
       "| member | 01 |  8.700000 |\n",
       "| casual | 02 | 16.033333 |\n",
       "| member | 02 | 10.116667 |\n",
       "| casual | 03 | 18.683333 |\n",
       "| member | 03 |  9.983333 |\n",
       "| casual | 04 | 25.166667 |\n",
       "| member | 04 | 13.700000 |\n",
       "| casual | 05 | 26.533333 |\n",
       "| member | 05 | 15.216667 |\n",
       "| casual | 06 | 24.583333 |\n",
       "| member | 06 | 14.333333 |\n",
       "| casual | 07 | 25.366667 |\n",
       "| member | 07 | 13.400000 |\n",
       "| casual | 08 | 22.133333 |\n",
       "| member | 08 | 12.300000 |\n",
       "| casual | 09 | 19.250000 |\n",
       "| member | 09 | 11.100000 |\n",
       "| casual | 10 | 16.050000 |\n",
       "| member | 10 |  9.883333 |\n",
       "| casual | 11 | 16.400000 |\n",
       "| member | 11 |  9.600000 |\n",
       "| casual | 12 | 13.450000 |\n",
       "| member | 12 |  8.966667 |\n",
       "\n"
      ],
      "text/plain": [
       "   all_trips_new$member_casual all_trips_new$month all_trips_new$ride_length\n",
       "1  casual                      01                  12.266667                \n",
       "2  member                      01                   8.700000                \n",
       "3  casual                      02                  16.033333                \n",
       "4  member                      02                  10.116667                \n",
       "5  casual                      03                  18.683333                \n",
       "6  member                      03                   9.983333                \n",
       "7  casual                      04                  25.166667                \n",
       "8  member                      04                  13.700000                \n",
       "9  casual                      05                  26.533333                \n",
       "10 member                      05                  15.216667                \n",
       "11 casual                      06                  24.583333                \n",
       "12 member                      06                  14.333333                \n",
       "13 casual                      07                  25.366667                \n",
       "14 member                      07                  13.400000                \n",
       "15 casual                      08                  22.133333                \n",
       "16 member                      08                  12.300000                \n",
       "17 casual                      09                  19.250000                \n",
       "18 member                      09                  11.100000                \n",
       "19 casual                      10                  16.050000                \n",
       "20 member                      10                   9.883333                \n",
       "21 casual                      11                  16.400000                \n",
       "22 member                      11                   9.600000                \n",
       "23 casual                      12                  13.450000                \n",
       "24 member                      12                   8.966667                "
      ]
     },
     "metadata": {},
     "output_type": "display_data"
    },
    {
     "data": {
      "text/html": [
       "<table class=\"dataframe\">\n",
       "<caption>A data.frame: 24 × 3</caption>\n",
       "<thead>\n",
       "\t<tr><th scope=col>all_trips_new$member_casual</th><th scope=col>all_trips_new$month</th><th scope=col>all_trips_new$ride_length</th></tr>\n",
       "\t<tr><th scope=col>&lt;chr&gt;</th><th scope=col>&lt;chr&gt;</th><th scope=col>&lt;dbl&gt;</th></tr>\n",
       "</thead>\n",
       "<tbody>\n",
       "\t<tr><td>casual</td><td>01</td><td>0.01666667</td></tr>\n",
       "\t<tr><td>member</td><td>01</td><td>0.00000000</td></tr>\n",
       "\t<tr><td>casual</td><td>02</td><td>0.00000000</td></tr>\n",
       "\t<tr><td>member</td><td>02</td><td>0.00000000</td></tr>\n",
       "\t<tr><td>casual</td><td>03</td><td>0.00000000</td></tr>\n",
       "\t<tr><td>member</td><td>03</td><td>0.00000000</td></tr>\n",
       "\t<tr><td>casual</td><td>04</td><td>0.00000000</td></tr>\n",
       "\t<tr><td>member</td><td>04</td><td>0.00000000</td></tr>\n",
       "\t<tr><td>casual</td><td>05</td><td>0.00000000</td></tr>\n",
       "\t<tr><td>member</td><td>05</td><td>0.00000000</td></tr>\n",
       "\t<tr><td>casual</td><td>06</td><td>0.00000000</td></tr>\n",
       "\t<tr><td>member</td><td>06</td><td>0.00000000</td></tr>\n",
       "\t<tr><td>casual</td><td>07</td><td>0.00000000</td></tr>\n",
       "\t<tr><td>member</td><td>07</td><td>0.00000000</td></tr>\n",
       "\t<tr><td>casual</td><td>08</td><td>0.00000000</td></tr>\n",
       "\t<tr><td>member</td><td>08</td><td>0.00000000</td></tr>\n",
       "\t<tr><td>casual</td><td>09</td><td>0.00000000</td></tr>\n",
       "\t<tr><td>member</td><td>09</td><td>0.00000000</td></tr>\n",
       "\t<tr><td>casual</td><td>10</td><td>0.00000000</td></tr>\n",
       "\t<tr><td>member</td><td>10</td><td>0.00000000</td></tr>\n",
       "\t<tr><td>casual</td><td>11</td><td>0.00000000</td></tr>\n",
       "\t<tr><td>member</td><td>11</td><td>0.00000000</td></tr>\n",
       "\t<tr><td>casual</td><td>12</td><td>0.00000000</td></tr>\n",
       "\t<tr><td>member</td><td>12</td><td>0.00000000</td></tr>\n",
       "</tbody>\n",
       "</table>\n"
      ],
      "text/latex": [
       "A data.frame: 24 × 3\n",
       "\\begin{tabular}{lll}\n",
       " all\\_trips\\_new\\$member\\_casual & all\\_trips\\_new\\$month & all\\_trips\\_new\\$ride\\_length\\\\\n",
       " <chr> & <chr> & <dbl>\\\\\n",
       "\\hline\n",
       "\t casual & 01 & 0.01666667\\\\\n",
       "\t member & 01 & 0.00000000\\\\\n",
       "\t casual & 02 & 0.00000000\\\\\n",
       "\t member & 02 & 0.00000000\\\\\n",
       "\t casual & 03 & 0.00000000\\\\\n",
       "\t member & 03 & 0.00000000\\\\\n",
       "\t casual & 04 & 0.00000000\\\\\n",
       "\t member & 04 & 0.00000000\\\\\n",
       "\t casual & 05 & 0.00000000\\\\\n",
       "\t member & 05 & 0.00000000\\\\\n",
       "\t casual & 06 & 0.00000000\\\\\n",
       "\t member & 06 & 0.00000000\\\\\n",
       "\t casual & 07 & 0.00000000\\\\\n",
       "\t member & 07 & 0.00000000\\\\\n",
       "\t casual & 08 & 0.00000000\\\\\n",
       "\t member & 08 & 0.00000000\\\\\n",
       "\t casual & 09 & 0.00000000\\\\\n",
       "\t member & 09 & 0.00000000\\\\\n",
       "\t casual & 10 & 0.00000000\\\\\n",
       "\t member & 10 & 0.00000000\\\\\n",
       "\t casual & 11 & 0.00000000\\\\\n",
       "\t member & 11 & 0.00000000\\\\\n",
       "\t casual & 12 & 0.00000000\\\\\n",
       "\t member & 12 & 0.00000000\\\\\n",
       "\\end{tabular}\n"
      ],
      "text/markdown": [
       "\n",
       "A data.frame: 24 × 3\n",
       "\n",
       "| all_trips_new$member_casual &lt;chr&gt; | all_trips_new$month &lt;chr&gt; | all_trips_new$ride_length &lt;dbl&gt; |\n",
       "|---|---|---|\n",
       "| casual | 01 | 0.01666667 |\n",
       "| member | 01 | 0.00000000 |\n",
       "| casual | 02 | 0.00000000 |\n",
       "| member | 02 | 0.00000000 |\n",
       "| casual | 03 | 0.00000000 |\n",
       "| member | 03 | 0.00000000 |\n",
       "| casual | 04 | 0.00000000 |\n",
       "| member | 04 | 0.00000000 |\n",
       "| casual | 05 | 0.00000000 |\n",
       "| member | 05 | 0.00000000 |\n",
       "| casual | 06 | 0.00000000 |\n",
       "| member | 06 | 0.00000000 |\n",
       "| casual | 07 | 0.00000000 |\n",
       "| member | 07 | 0.00000000 |\n",
       "| casual | 08 | 0.00000000 |\n",
       "| member | 08 | 0.00000000 |\n",
       "| casual | 09 | 0.00000000 |\n",
       "| member | 09 | 0.00000000 |\n",
       "| casual | 10 | 0.00000000 |\n",
       "| member | 10 | 0.00000000 |\n",
       "| casual | 11 | 0.00000000 |\n",
       "| member | 11 | 0.00000000 |\n",
       "| casual | 12 | 0.00000000 |\n",
       "| member | 12 | 0.00000000 |\n",
       "\n"
      ],
      "text/plain": [
       "   all_trips_new$member_casual all_trips_new$month all_trips_new$ride_length\n",
       "1  casual                      01                  0.01666667               \n",
       "2  member                      01                  0.00000000               \n",
       "3  casual                      02                  0.00000000               \n",
       "4  member                      02                  0.00000000               \n",
       "5  casual                      03                  0.00000000               \n",
       "6  member                      03                  0.00000000               \n",
       "7  casual                      04                  0.00000000               \n",
       "8  member                      04                  0.00000000               \n",
       "9  casual                      05                  0.00000000               \n",
       "10 member                      05                  0.00000000               \n",
       "11 casual                      06                  0.00000000               \n",
       "12 member                      06                  0.00000000               \n",
       "13 casual                      07                  0.00000000               \n",
       "14 member                      07                  0.00000000               \n",
       "15 casual                      08                  0.00000000               \n",
       "16 member                      08                  0.00000000               \n",
       "17 casual                      09                  0.00000000               \n",
       "18 member                      09                  0.00000000               \n",
       "19 casual                      10                  0.00000000               \n",
       "20 member                      10                  0.00000000               \n",
       "21 casual                      11                  0.00000000               \n",
       "22 member                      11                  0.00000000               \n",
       "23 casual                      12                  0.00000000               \n",
       "24 member                      12                  0.00000000               "
      ]
     },
     "metadata": {},
     "output_type": "display_data"
    },
    {
     "data": {
      "text/html": [
       "<table class=\"dataframe\">\n",
       "<caption>A data.frame: 24 × 3</caption>\n",
       "<thead>\n",
       "\t<tr><th scope=col>all_trips_new$member_casual</th><th scope=col>all_trips_new$month</th><th scope=col>all_trips_new$ride_length</th></tr>\n",
       "\t<tr><th scope=col>&lt;chr&gt;</th><th scope=col>&lt;chr&gt;</th><th scope=col>&lt;dbl&gt;</th></tr>\n",
       "</thead>\n",
       "<tbody>\n",
       "\t<tr><td>casual</td><td>01</td><td>1403.233</td></tr>\n",
       "\t<tr><td>member</td><td>01</td><td>1404.833</td></tr>\n",
       "\t<tr><td>casual</td><td>02</td><td>1427.633</td></tr>\n",
       "\t<tr><td>member</td><td>02</td><td>1361.550</td></tr>\n",
       "\t<tr><td>casual</td><td>03</td><td>1434.767</td></tr>\n",
       "\t<tr><td>member</td><td>03</td><td>1418.800</td></tr>\n",
       "\t<tr><td>casual</td><td>04</td><td>1438.550</td></tr>\n",
       "\t<tr><td>member</td><td>04</td><td>1436.650</td></tr>\n",
       "\t<tr><td>casual</td><td>05</td><td>1433.333</td></tr>\n",
       "\t<tr><td>member</td><td>05</td><td>1409.067</td></tr>\n",
       "\t<tr><td>casual</td><td>06</td><td>1435.700</td></tr>\n",
       "\t<tr><td>member</td><td>06</td><td>1426.250</td></tr>\n",
       "\t<tr><td>casual</td><td>07</td><td>1438.900</td></tr>\n",
       "\t<tr><td>member</td><td>07</td><td>1432.200</td></tr>\n",
       "\t<tr><td>casual</td><td>08</td><td>1439.817</td></tr>\n",
       "\t<tr><td>member</td><td>08</td><td>1435.700</td></tr>\n",
       "\t<tr><td>casual</td><td>09</td><td>1439.550</td></tr>\n",
       "\t<tr><td>member</td><td>09</td><td>1379.800</td></tr>\n",
       "\t<tr><td>casual</td><td>10</td><td>1439.900</td></tr>\n",
       "\t<tr><td>member</td><td>10</td><td>1439.717</td></tr>\n",
       "\t<tr><td>casual</td><td>11</td><td>1435.050</td></tr>\n",
       "\t<tr><td>member</td><td>11</td><td>1417.250</td></tr>\n",
       "\t<tr><td>casual</td><td>12</td><td>1421.450</td></tr>\n",
       "\t<tr><td>member</td><td>12</td><td>1369.467</td></tr>\n",
       "</tbody>\n",
       "</table>\n"
      ],
      "text/latex": [
       "A data.frame: 24 × 3\n",
       "\\begin{tabular}{lll}\n",
       " all\\_trips\\_new\\$member\\_casual & all\\_trips\\_new\\$month & all\\_trips\\_new\\$ride\\_length\\\\\n",
       " <chr> & <chr> & <dbl>\\\\\n",
       "\\hline\n",
       "\t casual & 01 & 1403.233\\\\\n",
       "\t member & 01 & 1404.833\\\\\n",
       "\t casual & 02 & 1427.633\\\\\n",
       "\t member & 02 & 1361.550\\\\\n",
       "\t casual & 03 & 1434.767\\\\\n",
       "\t member & 03 & 1418.800\\\\\n",
       "\t casual & 04 & 1438.550\\\\\n",
       "\t member & 04 & 1436.650\\\\\n",
       "\t casual & 05 & 1433.333\\\\\n",
       "\t member & 05 & 1409.067\\\\\n",
       "\t casual & 06 & 1435.700\\\\\n",
       "\t member & 06 & 1426.250\\\\\n",
       "\t casual & 07 & 1438.900\\\\\n",
       "\t member & 07 & 1432.200\\\\\n",
       "\t casual & 08 & 1439.817\\\\\n",
       "\t member & 08 & 1435.700\\\\\n",
       "\t casual & 09 & 1439.550\\\\\n",
       "\t member & 09 & 1379.800\\\\\n",
       "\t casual & 10 & 1439.900\\\\\n",
       "\t member & 10 & 1439.717\\\\\n",
       "\t casual & 11 & 1435.050\\\\\n",
       "\t member & 11 & 1417.250\\\\\n",
       "\t casual & 12 & 1421.450\\\\\n",
       "\t member & 12 & 1369.467\\\\\n",
       "\\end{tabular}\n"
      ],
      "text/markdown": [
       "\n",
       "A data.frame: 24 × 3\n",
       "\n",
       "| all_trips_new$member_casual &lt;chr&gt; | all_trips_new$month &lt;chr&gt; | all_trips_new$ride_length &lt;dbl&gt; |\n",
       "|---|---|---|\n",
       "| casual | 01 | 1403.233 |\n",
       "| member | 01 | 1404.833 |\n",
       "| casual | 02 | 1427.633 |\n",
       "| member | 02 | 1361.550 |\n",
       "| casual | 03 | 1434.767 |\n",
       "| member | 03 | 1418.800 |\n",
       "| casual | 04 | 1438.550 |\n",
       "| member | 04 | 1436.650 |\n",
       "| casual | 05 | 1433.333 |\n",
       "| member | 05 | 1409.067 |\n",
       "| casual | 06 | 1435.700 |\n",
       "| member | 06 | 1426.250 |\n",
       "| casual | 07 | 1438.900 |\n",
       "| member | 07 | 1432.200 |\n",
       "| casual | 08 | 1439.817 |\n",
       "| member | 08 | 1435.700 |\n",
       "| casual | 09 | 1439.550 |\n",
       "| member | 09 | 1379.800 |\n",
       "| casual | 10 | 1439.900 |\n",
       "| member | 10 | 1439.717 |\n",
       "| casual | 11 | 1435.050 |\n",
       "| member | 11 | 1417.250 |\n",
       "| casual | 12 | 1421.450 |\n",
       "| member | 12 | 1369.467 |\n",
       "\n"
      ],
      "text/plain": [
       "   all_trips_new$member_casual all_trips_new$month all_trips_new$ride_length\n",
       "1  casual                      01                  1403.233                 \n",
       "2  member                      01                  1404.833                 \n",
       "3  casual                      02                  1427.633                 \n",
       "4  member                      02                  1361.550                 \n",
       "5  casual                      03                  1434.767                 \n",
       "6  member                      03                  1418.800                 \n",
       "7  casual                      04                  1438.550                 \n",
       "8  member                      04                  1436.650                 \n",
       "9  casual                      05                  1433.333                 \n",
       "10 member                      05                  1409.067                 \n",
       "11 casual                      06                  1435.700                 \n",
       "12 member                      06                  1426.250                 \n",
       "13 casual                      07                  1438.900                 \n",
       "14 member                      07                  1432.200                 \n",
       "15 casual                      08                  1439.817                 \n",
       "16 member                      08                  1435.700                 \n",
       "17 casual                      09                  1439.550                 \n",
       "18 member                      09                  1379.800                 \n",
       "19 casual                      10                  1439.900                 \n",
       "20 member                      10                  1439.717                 \n",
       "21 casual                      11                  1435.050                 \n",
       "22 member                      11                  1417.250                 \n",
       "23 casual                      12                  1421.450                 \n",
       "24 member                      12                  1369.467                 "
      ]
     },
     "metadata": {},
     "output_type": "display_data"
    }
   ],
   "source": [
    "\n",
    "## Compare the ride_length with member and casual by month\n",
    "\n",
    "aggregate(all_trips_new$ride_length~all_trips_new$member_casual + all_trips_new$month,  FUN = mean)\n",
    "aggregate(all_trips_new$ride_length~all_trips_new$member_casual + all_trips_new$month, FUN = median)\n",
    "aggregate(all_trips_new$ride_length~all_trips_new$member_casual + all_trips_new$month, FUN = min)\n",
    "aggregate(all_trips_new$ride_length~all_trips_new$member_casual + all_trips_new$month, FUN = max)\n"
   ]
  },
  {
   "cell_type": "code",
   "execution_count": 21,
   "id": "29cc96a5",
   "metadata": {
    "execution": {
     "iopub.execute_input": "2021-10-17T16:36:44.236503Z",
     "iopub.status.busy": "2021-10-17T16:36:44.235163Z",
     "iopub.status.idle": "2021-10-17T16:36:44.391959Z",
     "shell.execute_reply": "2021-10-17T16:36:44.390619Z"
    },
    "papermill": {
     "duration": 0.365886,
     "end_time": "2021-10-17T16:36:44.392102",
     "exception": false,
     "start_time": "2021-10-17T16:36:44.026216",
     "status": "completed"
    },
    "tags": []
   },
   "outputs": [
    {
     "data": {
      "text/html": [
       "<table class=\"dataframe\">\n",
       "<caption>A tibble: 24 × 3</caption>\n",
       "<thead>\n",
       "\t<tr><th scope=col>member_casual</th><th scope=col>month</th><th scope=col>number_of_rides</th></tr>\n",
       "\t<tr><th scope=col>&lt;chr&gt;</th><th scope=col>&lt;chr&gt;</th><th scope=col>&lt;int&gt;</th></tr>\n",
       "</thead>\n",
       "<tbody>\n",
       "\t<tr><td>casual</td><td>01</td><td> 18090</td></tr>\n",
       "\t<tr><td>member</td><td>01</td><td> 78705</td></tr>\n",
       "\t<tr><td>casual</td><td>02</td><td> 10073</td></tr>\n",
       "\t<tr><td>member</td><td>02</td><td> 39432</td></tr>\n",
       "\t<tr><td>casual</td><td>03</td><td> 83880</td></tr>\n",
       "\t<tr><td>member</td><td>03</td><td>144452</td></tr>\n",
       "\t<tr><td>casual</td><td>04</td><td> 23507</td></tr>\n",
       "\t<tr><td>member</td><td>04</td><td> 61095</td></tr>\n",
       "\t<tr><td>casual</td><td>05</td><td> 86666</td></tr>\n",
       "\t<tr><td>member</td><td>05</td><td>113236</td></tr>\n",
       "\t<tr><td>casual</td><td>06</td><td>154216</td></tr>\n",
       "\t<tr><td>member</td><td>06</td><td>187963</td></tr>\n",
       "\t<tr><td>casual</td><td>07</td><td>268021</td></tr>\n",
       "\t<tr><td>member</td><td>07</td><td>281003</td></tr>\n",
       "\t<tr><td>casual</td><td>08</td><td>288183</td></tr>\n",
       "\t<tr><td>member</td><td>08</td><td>330914</td></tr>\n",
       "\t<tr><td>casual</td><td>09</td><td>229800</td></tr>\n",
       "\t<tr><td>member</td><td>09</td><td>300715</td></tr>\n",
       "\t<tr><td>casual</td><td>10</td><td>144368</td></tr>\n",
       "\t<tr><td>member</td><td>10</td><td>242169</td></tr>\n",
       "\t<tr><td>casual</td><td>11</td><td> 87820</td></tr>\n",
       "\t<tr><td>member</td><td>11</td><td>170920</td></tr>\n",
       "\t<tr><td>casual</td><td>12</td><td> 29956</td></tr>\n",
       "\t<tr><td>member</td><td>12</td><td>101130</td></tr>\n",
       "</tbody>\n",
       "</table>\n"
      ],
      "text/latex": [
       "A tibble: 24 × 3\n",
       "\\begin{tabular}{lll}\n",
       " member\\_casual & month & number\\_of\\_rides\\\\\n",
       " <chr> & <chr> & <int>\\\\\n",
       "\\hline\n",
       "\t casual & 01 &  18090\\\\\n",
       "\t member & 01 &  78705\\\\\n",
       "\t casual & 02 &  10073\\\\\n",
       "\t member & 02 &  39432\\\\\n",
       "\t casual & 03 &  83880\\\\\n",
       "\t member & 03 & 144452\\\\\n",
       "\t casual & 04 &  23507\\\\\n",
       "\t member & 04 &  61095\\\\\n",
       "\t casual & 05 &  86666\\\\\n",
       "\t member & 05 & 113236\\\\\n",
       "\t casual & 06 & 154216\\\\\n",
       "\t member & 06 & 187963\\\\\n",
       "\t casual & 07 & 268021\\\\\n",
       "\t member & 07 & 281003\\\\\n",
       "\t casual & 08 & 288183\\\\\n",
       "\t member & 08 & 330914\\\\\n",
       "\t casual & 09 & 229800\\\\\n",
       "\t member & 09 & 300715\\\\\n",
       "\t casual & 10 & 144368\\\\\n",
       "\t member & 10 & 242169\\\\\n",
       "\t casual & 11 &  87820\\\\\n",
       "\t member & 11 & 170920\\\\\n",
       "\t casual & 12 &  29956\\\\\n",
       "\t member & 12 & 101130\\\\\n",
       "\\end{tabular}\n"
      ],
      "text/markdown": [
       "\n",
       "A tibble: 24 × 3\n",
       "\n",
       "| member_casual &lt;chr&gt; | month &lt;chr&gt; | number_of_rides &lt;int&gt; |\n",
       "|---|---|---|\n",
       "| casual | 01 |  18090 |\n",
       "| member | 01 |  78705 |\n",
       "| casual | 02 |  10073 |\n",
       "| member | 02 |  39432 |\n",
       "| casual | 03 |  83880 |\n",
       "| member | 03 | 144452 |\n",
       "| casual | 04 |  23507 |\n",
       "| member | 04 |  61095 |\n",
       "| casual | 05 |  86666 |\n",
       "| member | 05 | 113236 |\n",
       "| casual | 06 | 154216 |\n",
       "| member | 06 | 187963 |\n",
       "| casual | 07 | 268021 |\n",
       "| member | 07 | 281003 |\n",
       "| casual | 08 | 288183 |\n",
       "| member | 08 | 330914 |\n",
       "| casual | 09 | 229800 |\n",
       "| member | 09 | 300715 |\n",
       "| casual | 10 | 144368 |\n",
       "| member | 10 | 242169 |\n",
       "| casual | 11 |  87820 |\n",
       "| member | 11 | 170920 |\n",
       "| casual | 12 |  29956 |\n",
       "| member | 12 | 101130 |\n",
       "\n"
      ],
      "text/plain": [
       "   member_casual month number_of_rides\n",
       "1  casual        01     18090         \n",
       "2  member        01     78705         \n",
       "3  casual        02     10073         \n",
       "4  member        02     39432         \n",
       "5  casual        03     83880         \n",
       "6  member        03    144452         \n",
       "7  casual        04     23507         \n",
       "8  member        04     61095         \n",
       "9  casual        05     86666         \n",
       "10 member        05    113236         \n",
       "11 casual        06    154216         \n",
       "12 member        06    187963         \n",
       "13 casual        07    268021         \n",
       "14 member        07    281003         \n",
       "15 casual        08    288183         \n",
       "16 member        08    330914         \n",
       "17 casual        09    229800         \n",
       "18 member        09    300715         \n",
       "19 casual        10    144368         \n",
       "20 member        10    242169         \n",
       "21 casual        11     87820         \n",
       "22 member        11    170920         \n",
       "23 casual        12     29956         \n",
       "24 member        12    101130         "
      ]
     },
     "metadata": {},
     "output_type": "display_data"
    }
   ],
   "source": [
    "\n",
    "## number of rides between member and casual  for each month\n",
    "\n",
    "all_trips_new %>%\n",
    "  group_by(member_casual, month) %>%\n",
    "  summarise(number_of_rides= n(), .groups ='drop') %>%\n",
    "  arrange(month)\n"
   ]
  },
  {
   "cell_type": "code",
   "execution_count": 22,
   "id": "897aab3b",
   "metadata": {
    "execution": {
     "iopub.execute_input": "2021-10-17T16:36:44.795487Z",
     "iopub.status.busy": "2021-10-17T16:36:44.794296Z",
     "iopub.status.idle": "2021-10-17T16:36:44.924838Z",
     "shell.execute_reply": "2021-10-17T16:36:44.923386Z"
    },
    "papermill": {
     "duration": 0.333868,
     "end_time": "2021-10-17T16:36:44.924978",
     "exception": false,
     "start_time": "2021-10-17T16:36:44.591110",
     "status": "completed"
    },
    "tags": []
   },
   "outputs": [
    {
     "data": {
      "text/html": [
       "<table class=\"dataframe\">\n",
       "<caption>A tibble: 14 × 3</caption>\n",
       "<thead>\n",
       "\t<tr><th scope=col>member_casual</th><th scope=col>day_of_week</th><th scope=col>number_of_rides</th></tr>\n",
       "\t<tr><th scope=col>&lt;chr&gt;</th><th scope=col>&lt;ord&gt;</th><th scope=col>&lt;int&gt;</th></tr>\n",
       "</thead>\n",
       "<tbody>\n",
       "\t<tr><td>casual</td><td>Mon</td><td>150843</td></tr>\n",
       "\t<tr><td>member</td><td>Mon</td><td>267292</td></tr>\n",
       "\t<tr><td>casual</td><td>Tue</td><td>145038</td></tr>\n",
       "\t<tr><td>member</td><td>Tue</td><td>284325</td></tr>\n",
       "\t<tr><td>casual</td><td>Wed</td><td>158130</td></tr>\n",
       "\t<tr><td>member</td><td>Wed</td><td>305050</td></tr>\n",
       "\t<tr><td>casual</td><td>Thu</td><td>166092</td></tr>\n",
       "\t<tr><td>member</td><td>Thu</td><td>300407</td></tr>\n",
       "\t<tr><td>casual</td><td>Fri</td><td>208207</td></tr>\n",
       "\t<tr><td>member</td><td>Fri</td><td>306333</td></tr>\n",
       "\t<tr><td>casual</td><td>Sat</td><td>334514</td></tr>\n",
       "\t<tr><td>member</td><td>Sat</td><td>323072</td></tr>\n",
       "\t<tr><td>casual</td><td>Sun</td><td>261756</td></tr>\n",
       "\t<tr><td>member</td><td>Sun</td><td>265255</td></tr>\n",
       "</tbody>\n",
       "</table>\n"
      ],
      "text/latex": [
       "A tibble: 14 × 3\n",
       "\\begin{tabular}{lll}\n",
       " member\\_casual & day\\_of\\_week & number\\_of\\_rides\\\\\n",
       " <chr> & <ord> & <int>\\\\\n",
       "\\hline\n",
       "\t casual & Mon & 150843\\\\\n",
       "\t member & Mon & 267292\\\\\n",
       "\t casual & Tue & 145038\\\\\n",
       "\t member & Tue & 284325\\\\\n",
       "\t casual & Wed & 158130\\\\\n",
       "\t member & Wed & 305050\\\\\n",
       "\t casual & Thu & 166092\\\\\n",
       "\t member & Thu & 300407\\\\\n",
       "\t casual & Fri & 208207\\\\\n",
       "\t member & Fri & 306333\\\\\n",
       "\t casual & Sat & 334514\\\\\n",
       "\t member & Sat & 323072\\\\\n",
       "\t casual & Sun & 261756\\\\\n",
       "\t member & Sun & 265255\\\\\n",
       "\\end{tabular}\n"
      ],
      "text/markdown": [
       "\n",
       "A tibble: 14 × 3\n",
       "\n",
       "| member_casual &lt;chr&gt; | day_of_week &lt;ord&gt; | number_of_rides &lt;int&gt; |\n",
       "|---|---|---|\n",
       "| casual | Mon | 150843 |\n",
       "| member | Mon | 267292 |\n",
       "| casual | Tue | 145038 |\n",
       "| member | Tue | 284325 |\n",
       "| casual | Wed | 158130 |\n",
       "| member | Wed | 305050 |\n",
       "| casual | Thu | 166092 |\n",
       "| member | Thu | 300407 |\n",
       "| casual | Fri | 208207 |\n",
       "| member | Fri | 306333 |\n",
       "| casual | Sat | 334514 |\n",
       "| member | Sat | 323072 |\n",
       "| casual | Sun | 261756 |\n",
       "| member | Sun | 265255 |\n",
       "\n"
      ],
      "text/plain": [
       "   member_casual day_of_week number_of_rides\n",
       "1  casual        Mon         150843         \n",
       "2  member        Mon         267292         \n",
       "3  casual        Tue         145038         \n",
       "4  member        Tue         284325         \n",
       "5  casual        Wed         158130         \n",
       "6  member        Wed         305050         \n",
       "7  casual        Thu         166092         \n",
       "8  member        Thu         300407         \n",
       "9  casual        Fri         208207         \n",
       "10 member        Fri         306333         \n",
       "11 casual        Sat         334514         \n",
       "12 member        Sat         323072         \n",
       "13 casual        Sun         261756         \n",
       "14 member        Sun         265255         "
      ]
     },
     "metadata": {},
     "output_type": "display_data"
    }
   ],
   "source": [
    "## number of rides between member and casual for each day\n",
    "\n",
    "all_trips_new %>%\n",
    "  group_by(member_casual, day_of_week) %>%\n",
    "  summarise(number_of_rides = n(), .groups='drop') %>%\n",
    "  arrange(day_of_week)\n"
   ]
  },
  {
   "cell_type": "code",
   "execution_count": 23,
   "id": "162d70c5",
   "metadata": {
    "execution": {
     "iopub.execute_input": "2021-10-17T16:36:45.334806Z",
     "iopub.status.busy": "2021-10-17T16:36:45.333624Z",
     "iopub.status.idle": "2021-10-17T16:36:45.473019Z",
     "shell.execute_reply": "2021-10-17T16:36:45.471651Z"
    },
    "papermill": {
     "duration": 0.345561,
     "end_time": "2021-10-17T16:36:45.473155",
     "exception": false,
     "start_time": "2021-10-17T16:36:45.127594",
     "status": "completed"
    },
    "tags": []
   },
   "outputs": [
    {
     "data": {
      "text/html": [
       "<table class=\"dataframe\">\n",
       "<caption>A tibble: 6 × 3</caption>\n",
       "<thead>\n",
       "\t<tr><th scope=col>rideable_type</th><th scope=col>member_casual</th><th scope=col>number_of_rides</th></tr>\n",
       "\t<tr><th scope=col>&lt;chr&gt;</th><th scope=col>&lt;chr&gt;</th><th scope=col>&lt;int&gt;</th></tr>\n",
       "</thead>\n",
       "<tbody>\n",
       "\t<tr><td>classic_bike </td><td>casual</td><td>  70666</td></tr>\n",
       "\t<tr><td>classic_bike </td><td>member</td><td> 248982</td></tr>\n",
       "\t<tr><td>docked_bike  </td><td>casual</td><td>1111001</td></tr>\n",
       "\t<tr><td>docked_bike  </td><td>member</td><td>1434468</td></tr>\n",
       "\t<tr><td>electric_bike</td><td>casual</td><td> 242913</td></tr>\n",
       "\t<tr><td>electric_bike</td><td>member</td><td> 368284</td></tr>\n",
       "</tbody>\n",
       "</table>\n"
      ],
      "text/latex": [
       "A tibble: 6 × 3\n",
       "\\begin{tabular}{lll}\n",
       " rideable\\_type & member\\_casual & number\\_of\\_rides\\\\\n",
       " <chr> & <chr> & <int>\\\\\n",
       "\\hline\n",
       "\t classic\\_bike  & casual &   70666\\\\\n",
       "\t classic\\_bike  & member &  248982\\\\\n",
       "\t docked\\_bike   & casual & 1111001\\\\\n",
       "\t docked\\_bike   & member & 1434468\\\\\n",
       "\t electric\\_bike & casual &  242913\\\\\n",
       "\t electric\\_bike & member &  368284\\\\\n",
       "\\end{tabular}\n"
      ],
      "text/markdown": [
       "\n",
       "A tibble: 6 × 3\n",
       "\n",
       "| rideable_type &lt;chr&gt; | member_casual &lt;chr&gt; | number_of_rides &lt;int&gt; |\n",
       "|---|---|---|\n",
       "| classic_bike  | casual |   70666 |\n",
       "| classic_bike  | member |  248982 |\n",
       "| docked_bike   | casual | 1111001 |\n",
       "| docked_bike   | member | 1434468 |\n",
       "| electric_bike | casual |  242913 |\n",
       "| electric_bike | member |  368284 |\n",
       "\n"
      ],
      "text/plain": [
       "  rideable_type member_casual number_of_rides\n",
       "1 classic_bike  casual          70666        \n",
       "2 classic_bike  member         248982        \n",
       "3 docked_bike   casual        1111001        \n",
       "4 docked_bike   member        1434468        \n",
       "5 electric_bike casual         242913        \n",
       "6 electric_bike member         368284        "
      ]
     },
     "metadata": {},
     "output_type": "display_data"
    }
   ],
   "source": [
    "\n",
    "## Compare By Bike-Type\n",
    "\n",
    "# comparing the rideable  type bt member and casual riders\n",
    "all_trips_new %>%\n",
    "  group_by(rideable_type, member_casual) %>%\n",
    "  summarise(number_of_rides = n(), .groups='drop')\n"
   ]
  },
  {
   "cell_type": "code",
   "execution_count": 24,
   "id": "55ca2647",
   "metadata": {
    "execution": {
     "iopub.execute_input": "2021-10-17T16:36:45.885008Z",
     "iopub.status.busy": "2021-10-17T16:36:45.883470Z",
     "iopub.status.idle": "2021-10-17T16:36:45.978526Z",
     "shell.execute_reply": "2021-10-17T16:36:45.977052Z"
    },
    "papermill": {
     "duration": 0.301583,
     "end_time": "2021-10-17T16:36:45.978691",
     "exception": false,
     "start_time": "2021-10-17T16:36:45.677108",
     "status": "completed"
    },
    "tags": []
   },
   "outputs": [
    {
     "data": {
      "text/html": [
       "<table class=\"dataframe\">\n",
       "<caption>A tibble: 14 × 3</caption>\n",
       "<thead>\n",
       "\t<tr><th scope=col>member_casual</th><th scope=col>day_of_week</th><th scope=col>number_of_rides</th></tr>\n",
       "\t<tr><th scope=col>&lt;chr&gt;</th><th scope=col>&lt;ord&gt;</th><th scope=col>&lt;int&gt;</th></tr>\n",
       "</thead>\n",
       "<tbody>\n",
       "\t<tr><td>casual</td><td>Mon</td><td> 8976</td></tr>\n",
       "\t<tr><td>member</td><td>Mon</td><td>37132</td></tr>\n",
       "\t<tr><td>casual</td><td>Tue</td><td> 8355</td></tr>\n",
       "\t<tr><td>member</td><td>Tue</td><td>37945</td></tr>\n",
       "\t<tr><td>casual</td><td>Wed</td><td> 7574</td></tr>\n",
       "\t<tr><td>member</td><td>Wed</td><td>38287</td></tr>\n",
       "\t<tr><td>casual</td><td>Thu</td><td> 6150</td></tr>\n",
       "\t<tr><td>member</td><td>Thu</td><td>33140</td></tr>\n",
       "\t<tr><td>casual</td><td>Fri</td><td> 7490</td></tr>\n",
       "\t<tr><td>member</td><td>Fri</td><td>33899</td></tr>\n",
       "\t<tr><td>casual</td><td>Sat</td><td>18124</td></tr>\n",
       "\t<tr><td>member</td><td>Sat</td><td>37845</td></tr>\n",
       "\t<tr><td>casual</td><td>Sun</td><td>13997</td></tr>\n",
       "\t<tr><td>member</td><td>Sun</td><td>30734</td></tr>\n",
       "</tbody>\n",
       "</table>\n"
      ],
      "text/latex": [
       "A tibble: 14 × 3\n",
       "\\begin{tabular}{lll}\n",
       " member\\_casual & day\\_of\\_week & number\\_of\\_rides\\\\\n",
       " <chr> & <ord> & <int>\\\\\n",
       "\\hline\n",
       "\t casual & Mon &  8976\\\\\n",
       "\t member & Mon & 37132\\\\\n",
       "\t casual & Tue &  8355\\\\\n",
       "\t member & Tue & 37945\\\\\n",
       "\t casual & Wed &  7574\\\\\n",
       "\t member & Wed & 38287\\\\\n",
       "\t casual & Thu &  6150\\\\\n",
       "\t member & Thu & 33140\\\\\n",
       "\t casual & Fri &  7490\\\\\n",
       "\t member & Fri & 33899\\\\\n",
       "\t casual & Sat & 18124\\\\\n",
       "\t member & Sat & 37845\\\\\n",
       "\t casual & Sun & 13997\\\\\n",
       "\t member & Sun & 30734\\\\\n",
       "\\end{tabular}\n"
      ],
      "text/markdown": [
       "\n",
       "A tibble: 14 × 3\n",
       "\n",
       "| member_casual &lt;chr&gt; | day_of_week &lt;ord&gt; | number_of_rides &lt;int&gt; |\n",
       "|---|---|---|\n",
       "| casual | Mon |  8976 |\n",
       "| member | Mon | 37132 |\n",
       "| casual | Tue |  8355 |\n",
       "| member | Tue | 37945 |\n",
       "| casual | Wed |  7574 |\n",
       "| member | Wed | 38287 |\n",
       "| casual | Thu |  6150 |\n",
       "| member | Thu | 33140 |\n",
       "| casual | Fri |  7490 |\n",
       "| member | Fri | 33899 |\n",
       "| casual | Sat | 18124 |\n",
       "| member | Sat | 37845 |\n",
       "| casual | Sun | 13997 |\n",
       "| member | Sun | 30734 |\n",
       "\n"
      ],
      "text/plain": [
       "   member_casual day_of_week number_of_rides\n",
       "1  casual        Mon          8976          \n",
       "2  member        Mon         37132          \n",
       "3  casual        Tue          8355          \n",
       "4  member        Tue         37945          \n",
       "5  casual        Wed          7574          \n",
       "6  member        Wed         38287          \n",
       "7  casual        Thu          6150          \n",
       "8  member        Thu         33140          \n",
       "9  casual        Fri          7490          \n",
       "10 member        Fri         33899          \n",
       "11 casual        Sat         18124          \n",
       "12 member        Sat         37845          \n",
       "13 casual        Sun         13997          \n",
       "14 member        Sun         30734          "
      ]
     },
     "metadata": {},
     "output_type": "display_data"
    }
   ],
   "source": [
    "\n",
    "## comparing the \"Classic_bike\" rides by day_of_week for member and casual riders \n",
    "\n",
    "all_trips_new %>%\n",
    "  filter(rideable_type==\"classic_bike\") %>%\n",
    "  group_by(member_casual,day_of_week) %>%\n",
    "  summarise(number_of_rides = n(), .groups='drop') %>%\n",
    "  arrange(day_of_week)"
   ]
  },
  {
   "cell_type": "code",
   "execution_count": 25,
   "id": "95303186",
   "metadata": {
    "execution": {
     "iopub.execute_input": "2021-10-17T16:36:46.397540Z",
     "iopub.status.busy": "2021-10-17T16:36:46.396250Z",
     "iopub.status.idle": "2021-10-17T16:36:47.211036Z",
     "shell.execute_reply": "2021-10-17T16:36:47.209678Z"
    },
    "papermill": {
     "duration": 1.026014,
     "end_time": "2021-10-17T16:36:47.211208",
     "exception": false,
     "start_time": "2021-10-17T16:36:46.185194",
     "status": "completed"
    },
    "tags": []
   },
   "outputs": [
    {
     "data": {
      "text/html": [
       "<table class=\"dataframe\">\n",
       "<caption>A tibble: 14 × 3</caption>\n",
       "<thead>\n",
       "\t<tr><th scope=col>member_casual</th><th scope=col>day_of_week</th><th scope=col>number_of_rides</th></tr>\n",
       "\t<tr><th scope=col>&lt;chr&gt;</th><th scope=col>&lt;ord&gt;</th><th scope=col>&lt;int&gt;</th></tr>\n",
       "</thead>\n",
       "<tbody>\n",
       "\t<tr><td>casual</td><td>Mon</td><td>114328</td></tr>\n",
       "\t<tr><td>member</td><td>Mon</td><td>181548</td></tr>\n",
       "\t<tr><td>casual</td><td>Tue</td><td>109030</td></tr>\n",
       "\t<tr><td>member</td><td>Tue</td><td>195019</td></tr>\n",
       "\t<tr><td>casual</td><td>Wed</td><td>119628</td></tr>\n",
       "\t<tr><td>member</td><td>Wed</td><td>211322</td></tr>\n",
       "\t<tr><td>casual</td><td>Thu</td><td>127913</td></tr>\n",
       "\t<tr><td>member</td><td>Thu</td><td>211402</td></tr>\n",
       "\t<tr><td>casual</td><td>Fri</td><td>163369</td></tr>\n",
       "\t<tr><td>member</td><td>Fri</td><td>215471</td></tr>\n",
       "\t<tr><td>casual</td><td>Sat</td><td>267012</td></tr>\n",
       "\t<tr><td>member</td><td>Sat</td><td>229634</td></tr>\n",
       "\t<tr><td>casual</td><td>Sun</td><td>209721</td></tr>\n",
       "\t<tr><td>member</td><td>Sun</td><td>190072</td></tr>\n",
       "</tbody>\n",
       "</table>\n"
      ],
      "text/latex": [
       "A tibble: 14 × 3\n",
       "\\begin{tabular}{lll}\n",
       " member\\_casual & day\\_of\\_week & number\\_of\\_rides\\\\\n",
       " <chr> & <ord> & <int>\\\\\n",
       "\\hline\n",
       "\t casual & Mon & 114328\\\\\n",
       "\t member & Mon & 181548\\\\\n",
       "\t casual & Tue & 109030\\\\\n",
       "\t member & Tue & 195019\\\\\n",
       "\t casual & Wed & 119628\\\\\n",
       "\t member & Wed & 211322\\\\\n",
       "\t casual & Thu & 127913\\\\\n",
       "\t member & Thu & 211402\\\\\n",
       "\t casual & Fri & 163369\\\\\n",
       "\t member & Fri & 215471\\\\\n",
       "\t casual & Sat & 267012\\\\\n",
       "\t member & Sat & 229634\\\\\n",
       "\t casual & Sun & 209721\\\\\n",
       "\t member & Sun & 190072\\\\\n",
       "\\end{tabular}\n"
      ],
      "text/markdown": [
       "\n",
       "A tibble: 14 × 3\n",
       "\n",
       "| member_casual &lt;chr&gt; | day_of_week &lt;ord&gt; | number_of_rides &lt;int&gt; |\n",
       "|---|---|---|\n",
       "| casual | Mon | 114328 |\n",
       "| member | Mon | 181548 |\n",
       "| casual | Tue | 109030 |\n",
       "| member | Tue | 195019 |\n",
       "| casual | Wed | 119628 |\n",
       "| member | Wed | 211322 |\n",
       "| casual | Thu | 127913 |\n",
       "| member | Thu | 211402 |\n",
       "| casual | Fri | 163369 |\n",
       "| member | Fri | 215471 |\n",
       "| casual | Sat | 267012 |\n",
       "| member | Sat | 229634 |\n",
       "| casual | Sun | 209721 |\n",
       "| member | Sun | 190072 |\n",
       "\n"
      ],
      "text/plain": [
       "   member_casual day_of_week number_of_rides\n",
       "1  casual        Mon         114328         \n",
       "2  member        Mon         181548         \n",
       "3  casual        Tue         109030         \n",
       "4  member        Tue         195019         \n",
       "5  casual        Wed         119628         \n",
       "6  member        Wed         211322         \n",
       "7  casual        Thu         127913         \n",
       "8  member        Thu         211402         \n",
       "9  casual        Fri         163369         \n",
       "10 member        Fri         215471         \n",
       "11 casual        Sat         267012         \n",
       "12 member        Sat         229634         \n",
       "13 casual        Sun         209721         \n",
       "14 member        Sun         190072         "
      ]
     },
     "metadata": {},
     "output_type": "display_data"
    }
   ],
   "source": [
    "## comparing the \"docked_bike\" rides by day_of_week for member and casual rides \n",
    "\n",
    "\n",
    "all_trips_new %>%\n",
    "  filter(rideable_type == \"docked_bike\") %>%\n",
    "  group_by(member_casual, day_of_week) %>%\n",
    "  summarise(number_of_rides = n(), .groups='drop') %>%\n",
    "  arrange(day_of_week)\n"
   ]
  },
  {
   "cell_type": "code",
   "execution_count": 26,
   "id": "0e914be1",
   "metadata": {
    "execution": {
     "iopub.execute_input": "2021-10-17T16:36:47.635338Z",
     "iopub.status.busy": "2021-10-17T16:36:47.633308Z",
     "iopub.status.idle": "2021-10-17T16:36:47.755486Z",
     "shell.execute_reply": "2021-10-17T16:36:47.753829Z"
    },
    "papermill": {
     "duration": 0.336191,
     "end_time": "2021-10-17T16:36:47.755625",
     "exception": false,
     "start_time": "2021-10-17T16:36:47.419434",
     "status": "completed"
    },
    "tags": []
   },
   "outputs": [
    {
     "data": {
      "text/html": [
       "<table class=\"dataframe\">\n",
       "<caption>A tibble: 14 × 3</caption>\n",
       "<thead>\n",
       "\t<tr><th scope=col>member_casual</th><th scope=col>day_of_week</th><th scope=col>number_of_rides</th></tr>\n",
       "\t<tr><th scope=col>&lt;chr&gt;</th><th scope=col>&lt;ord&gt;</th><th scope=col>&lt;int&gt;</th></tr>\n",
       "</thead>\n",
       "<tbody>\n",
       "\t<tr><td>casual</td><td>Mon</td><td>27539</td></tr>\n",
       "\t<tr><td>member</td><td>Mon</td><td>48612</td></tr>\n",
       "\t<tr><td>casual</td><td>Tue</td><td>27653</td></tr>\n",
       "\t<tr><td>member</td><td>Tue</td><td>51361</td></tr>\n",
       "\t<tr><td>casual</td><td>Wed</td><td>30928</td></tr>\n",
       "\t<tr><td>member</td><td>Wed</td><td>55441</td></tr>\n",
       "\t<tr><td>casual</td><td>Thu</td><td>32029</td></tr>\n",
       "\t<tr><td>member</td><td>Thu</td><td>55865</td></tr>\n",
       "\t<tr><td>casual</td><td>Fri</td><td>37348</td></tr>\n",
       "\t<tr><td>member</td><td>Fri</td><td>56963</td></tr>\n",
       "\t<tr><td>casual</td><td>Sat</td><td>49378</td></tr>\n",
       "\t<tr><td>member</td><td>Sat</td><td>55593</td></tr>\n",
       "\t<tr><td>casual</td><td>Sun</td><td>38038</td></tr>\n",
       "\t<tr><td>member</td><td>Sun</td><td>44449</td></tr>\n",
       "</tbody>\n",
       "</table>\n"
      ],
      "text/latex": [
       "A tibble: 14 × 3\n",
       "\\begin{tabular}{lll}\n",
       " member\\_casual & day\\_of\\_week & number\\_of\\_rides\\\\\n",
       " <chr> & <ord> & <int>\\\\\n",
       "\\hline\n",
       "\t casual & Mon & 27539\\\\\n",
       "\t member & Mon & 48612\\\\\n",
       "\t casual & Tue & 27653\\\\\n",
       "\t member & Tue & 51361\\\\\n",
       "\t casual & Wed & 30928\\\\\n",
       "\t member & Wed & 55441\\\\\n",
       "\t casual & Thu & 32029\\\\\n",
       "\t member & Thu & 55865\\\\\n",
       "\t casual & Fri & 37348\\\\\n",
       "\t member & Fri & 56963\\\\\n",
       "\t casual & Sat & 49378\\\\\n",
       "\t member & Sat & 55593\\\\\n",
       "\t casual & Sun & 38038\\\\\n",
       "\t member & Sun & 44449\\\\\n",
       "\\end{tabular}\n"
      ],
      "text/markdown": [
       "\n",
       "A tibble: 14 × 3\n",
       "\n",
       "| member_casual &lt;chr&gt; | day_of_week &lt;ord&gt; | number_of_rides &lt;int&gt; |\n",
       "|---|---|---|\n",
       "| casual | Mon | 27539 |\n",
       "| member | Mon | 48612 |\n",
       "| casual | Tue | 27653 |\n",
       "| member | Tue | 51361 |\n",
       "| casual | Wed | 30928 |\n",
       "| member | Wed | 55441 |\n",
       "| casual | Thu | 32029 |\n",
       "| member | Thu | 55865 |\n",
       "| casual | Fri | 37348 |\n",
       "| member | Fri | 56963 |\n",
       "| casual | Sat | 49378 |\n",
       "| member | Sat | 55593 |\n",
       "| casual | Sun | 38038 |\n",
       "| member | Sun | 44449 |\n",
       "\n"
      ],
      "text/plain": [
       "   member_casual day_of_week number_of_rides\n",
       "1  casual        Mon         27539          \n",
       "2  member        Mon         48612          \n",
       "3  casual        Tue         27653          \n",
       "4  member        Tue         51361          \n",
       "5  casual        Wed         30928          \n",
       "6  member        Wed         55441          \n",
       "7  casual        Thu         32029          \n",
       "8  member        Thu         55865          \n",
       "9  casual        Fri         37348          \n",
       "10 member        Fri         56963          \n",
       "11 casual        Sat         49378          \n",
       "12 member        Sat         55593          \n",
       "13 casual        Sun         38038          \n",
       "14 member        Sun         44449          "
      ]
     },
     "metadata": {},
     "output_type": "display_data"
    }
   ],
   "source": [
    "## comparing the \"electric_bike\" rides by day_of_week for member and casual rides \n",
    "\n",
    "\n",
    "all_trips_new %>%\n",
    "  filter(rideable_type == \"electric_bike\") %>%\n",
    "  group_by(member_casual , day_of_week ) %>%\n",
    "  summarise(number_of_rides = n(), .groups='drop') %>%\n",
    "  arrange(day_of_week)\n"
   ]
  },
  {
   "cell_type": "code",
   "execution_count": 27,
   "id": "63630f0f",
   "metadata": {
    "execution": {
     "iopub.execute_input": "2021-10-17T16:36:48.181392Z",
     "iopub.status.busy": "2021-10-17T16:36:48.179465Z",
     "iopub.status.idle": "2021-10-17T16:36:48.303408Z",
     "shell.execute_reply": "2021-10-17T16:36:48.301855Z"
    },
    "papermill": {
     "duration": 0.338297,
     "end_time": "2021-10-17T16:36:48.303554",
     "exception": false,
     "start_time": "2021-10-17T16:36:47.965257",
     "status": "completed"
    },
    "tags": []
   },
   "outputs": [
    {
     "data": {
      "text/html": [
       "<table class=\"dataframe\">\n",
       "<caption>A tibble: 7 × 3</caption>\n",
       "<thead>\n",
       "\t<tr><th scope=col>member_casual</th><th scope=col>day_of_week</th><th scope=col>number_of_rides</th></tr>\n",
       "\t<tr><th scope=col>&lt;chr&gt;</th><th scope=col>&lt;ord&gt;</th><th scope=col>&lt;int&gt;</th></tr>\n",
       "</thead>\n",
       "<tbody>\n",
       "\t<tr><td>casual</td><td>Mon</td><td>27539</td></tr>\n",
       "\t<tr><td>casual</td><td>Tue</td><td>27653</td></tr>\n",
       "\t<tr><td>casual</td><td>Wed</td><td>30928</td></tr>\n",
       "\t<tr><td>casual</td><td>Thu</td><td>32029</td></tr>\n",
       "\t<tr><td>casual</td><td>Fri</td><td>37348</td></tr>\n",
       "\t<tr><td>casual</td><td>Sat</td><td>49378</td></tr>\n",
       "\t<tr><td>casual</td><td>Sun</td><td>38038</td></tr>\n",
       "</tbody>\n",
       "</table>\n"
      ],
      "text/latex": [
       "A tibble: 7 × 3\n",
       "\\begin{tabular}{lll}\n",
       " member\\_casual & day\\_of\\_week & number\\_of\\_rides\\\\\n",
       " <chr> & <ord> & <int>\\\\\n",
       "\\hline\n",
       "\t casual & Mon & 27539\\\\\n",
       "\t casual & Tue & 27653\\\\\n",
       "\t casual & Wed & 30928\\\\\n",
       "\t casual & Thu & 32029\\\\\n",
       "\t casual & Fri & 37348\\\\\n",
       "\t casual & Sat & 49378\\\\\n",
       "\t casual & Sun & 38038\\\\\n",
       "\\end{tabular}\n"
      ],
      "text/markdown": [
       "\n",
       "A tibble: 7 × 3\n",
       "\n",
       "| member_casual &lt;chr&gt; | day_of_week &lt;ord&gt; | number_of_rides &lt;int&gt; |\n",
       "|---|---|---|\n",
       "| casual | Mon | 27539 |\n",
       "| casual | Tue | 27653 |\n",
       "| casual | Wed | 30928 |\n",
       "| casual | Thu | 32029 |\n",
       "| casual | Fri | 37348 |\n",
       "| casual | Sat | 49378 |\n",
       "| casual | Sun | 38038 |\n",
       "\n"
      ],
      "text/plain": [
       "  member_casual day_of_week number_of_rides\n",
       "1 casual        Mon         27539          \n",
       "2 casual        Tue         27653          \n",
       "3 casual        Wed         30928          \n",
       "4 casual        Thu         32029          \n",
       "5 casual        Fri         37348          \n",
       "6 casual        Sat         49378          \n",
       "7 casual        Sun         38038          "
      ]
     },
     "metadata": {},
     "output_type": "display_data"
    }
   ],
   "source": [
    "## electric_bike rides by day_of_week for casual riders\n",
    "\n",
    "all_trips_new %>% \n",
    "  filter(rideable_type == \"electric_bike\", member_casual == \"casual\") %>%\n",
    "  group_by(member_casual, day_of_week) %>%\n",
    "  summarise(number_of_rides = n(), .groups='drop') %>%\n",
    "  arrange(day_of_week)\n"
   ]
  },
  {
   "cell_type": "code",
   "execution_count": 28,
   "id": "0eb83c77",
   "metadata": {
    "execution": {
     "iopub.execute_input": "2021-10-17T16:36:48.735636Z",
     "iopub.status.busy": "2021-10-17T16:36:48.733835Z",
     "iopub.status.idle": "2021-10-17T16:36:48.925513Z",
     "shell.execute_reply": "2021-10-17T16:36:48.923997Z"
    },
    "papermill": {
     "duration": 0.409267,
     "end_time": "2021-10-17T16:36:48.925666",
     "exception": false,
     "start_time": "2021-10-17T16:36:48.516399",
     "status": "completed"
    },
    "tags": []
   },
   "outputs": [
    {
     "data": {
      "text/html": [
       "<table class=\"dataframe\">\n",
       "<caption>A tibble: 48 × 4</caption>\n",
       "<thead>\n",
       "\t<tr><th scope=col>rideable_type</th><th scope=col>member_casual</th><th scope=col>month</th><th scope=col>number_of_rides</th></tr>\n",
       "\t<tr><th scope=col>&lt;chr&gt;</th><th scope=col>&lt;chr&gt;</th><th scope=col>&lt;chr&gt;</th><th scope=col>&lt;int&gt;</th></tr>\n",
       "</thead>\n",
       "<tbody>\n",
       "\t<tr><td>classic_bike </td><td>casual</td><td>01</td><td>  8245</td></tr>\n",
       "\t<tr><td>classic_bike </td><td>casual</td><td>02</td><td>  5658</td></tr>\n",
       "\t<tr><td>classic_bike </td><td>casual</td><td>03</td><td> 45463</td></tr>\n",
       "\t<tr><td>classic_bike </td><td>casual</td><td>12</td><td> 11300</td></tr>\n",
       "\t<tr><td>classic_bike </td><td>member</td><td>01</td><td> 53430</td></tr>\n",
       "\t<tr><td>classic_bike </td><td>member</td><td>02</td><td> 29258</td></tr>\n",
       "\t<tr><td>classic_bike </td><td>member</td><td>03</td><td>107007</td></tr>\n",
       "\t<tr><td>classic_bike </td><td>member</td><td>12</td><td> 59287</td></tr>\n",
       "\t<tr><td>docked_bike  </td><td>casual</td><td>01</td><td>  2092</td></tr>\n",
       "\t<tr><td>docked_bike  </td><td>casual</td><td>02</td><td>  1250</td></tr>\n",
       "\t<tr><td>docked_bike  </td><td>casual</td><td>03</td><td> 15569</td></tr>\n",
       "\t<tr><td>docked_bike  </td><td>casual</td><td>04</td><td> 23507</td></tr>\n",
       "\t<tr><td>docked_bike  </td><td>casual</td><td>05</td><td> 86666</td></tr>\n",
       "\t<tr><td>docked_bike  </td><td>casual</td><td>06</td><td>154216</td></tr>\n",
       "\t<tr><td>docked_bike  </td><td>casual</td><td>07</td><td>267182</td></tr>\n",
       "\t<tr><td>docked_bike  </td><td>casual</td><td>08</td><td>259729</td></tr>\n",
       "\t<tr><td>docked_bike  </td><td>casual</td><td>09</td><td>170886</td></tr>\n",
       "\t<tr><td>docked_bike  </td><td>casual</td><td>10</td><td> 79244</td></tr>\n",
       "\t<tr><td>docked_bike  </td><td>casual</td><td>11</td><td> 45743</td></tr>\n",
       "\t<tr><td>docked_bike  </td><td>casual</td><td>12</td><td>  4917</td></tr>\n",
       "\t<tr><td>docked_bike  </td><td>member</td><td>01</td><td>     1</td></tr>\n",
       "\t<tr><td>docked_bike  </td><td>member</td><td>04</td><td> 61095</td></tr>\n",
       "\t<tr><td>docked_bike  </td><td>member</td><td>05</td><td>113236</td></tr>\n",
       "\t<tr><td>docked_bike  </td><td>member</td><td>06</td><td>187963</td></tr>\n",
       "\t<tr><td>docked_bike  </td><td>member</td><td>07</td><td>279908</td></tr>\n",
       "\t<tr><td>docked_bike  </td><td>member</td><td>08</td><td>293179</td></tr>\n",
       "\t<tr><td>docked_bike  </td><td>member</td><td>09</td><td>231282</td></tr>\n",
       "\t<tr><td>docked_bike  </td><td>member</td><td>10</td><td>155125</td></tr>\n",
       "\t<tr><td>docked_bike  </td><td>member</td><td>11</td><td>104880</td></tr>\n",
       "\t<tr><td>docked_bike  </td><td>member</td><td>12</td><td>  7799</td></tr>\n",
       "\t<tr><td>electric_bike</td><td>casual</td><td>01</td><td>  7753</td></tr>\n",
       "\t<tr><td>electric_bike</td><td>casual</td><td>02</td><td>  3165</td></tr>\n",
       "\t<tr><td>electric_bike</td><td>casual</td><td>03</td><td> 22848</td></tr>\n",
       "\t<tr><td>electric_bike</td><td>casual</td><td>07</td><td>   839</td></tr>\n",
       "\t<tr><td>electric_bike</td><td>casual</td><td>08</td><td> 28454</td></tr>\n",
       "\t<tr><td>electric_bike</td><td>casual</td><td>09</td><td> 58914</td></tr>\n",
       "\t<tr><td>electric_bike</td><td>casual</td><td>10</td><td> 65124</td></tr>\n",
       "\t<tr><td>electric_bike</td><td>casual</td><td>11</td><td> 42077</td></tr>\n",
       "\t<tr><td>electric_bike</td><td>casual</td><td>12</td><td> 13739</td></tr>\n",
       "\t<tr><td>electric_bike</td><td>member</td><td>01</td><td> 25274</td></tr>\n",
       "\t<tr><td>electric_bike</td><td>member</td><td>02</td><td> 10174</td></tr>\n",
       "\t<tr><td>electric_bike</td><td>member</td><td>03</td><td> 37445</td></tr>\n",
       "\t<tr><td>electric_bike</td><td>member</td><td>07</td><td>  1095</td></tr>\n",
       "\t<tr><td>electric_bike</td><td>member</td><td>08</td><td> 37735</td></tr>\n",
       "\t<tr><td>electric_bike</td><td>member</td><td>09</td><td> 69433</td></tr>\n",
       "\t<tr><td>electric_bike</td><td>member</td><td>10</td><td> 87044</td></tr>\n",
       "\t<tr><td>electric_bike</td><td>member</td><td>11</td><td> 66040</td></tr>\n",
       "\t<tr><td>electric_bike</td><td>member</td><td>12</td><td> 34044</td></tr>\n",
       "</tbody>\n",
       "</table>\n"
      ],
      "text/latex": [
       "A tibble: 48 × 4\n",
       "\\begin{tabular}{llll}\n",
       " rideable\\_type & member\\_casual & month & number\\_of\\_rides\\\\\n",
       " <chr> & <chr> & <chr> & <int>\\\\\n",
       "\\hline\n",
       "\t classic\\_bike  & casual & 01 &   8245\\\\\n",
       "\t classic\\_bike  & casual & 02 &   5658\\\\\n",
       "\t classic\\_bike  & casual & 03 &  45463\\\\\n",
       "\t classic\\_bike  & casual & 12 &  11300\\\\\n",
       "\t classic\\_bike  & member & 01 &  53430\\\\\n",
       "\t classic\\_bike  & member & 02 &  29258\\\\\n",
       "\t classic\\_bike  & member & 03 & 107007\\\\\n",
       "\t classic\\_bike  & member & 12 &  59287\\\\\n",
       "\t docked\\_bike   & casual & 01 &   2092\\\\\n",
       "\t docked\\_bike   & casual & 02 &   1250\\\\\n",
       "\t docked\\_bike   & casual & 03 &  15569\\\\\n",
       "\t docked\\_bike   & casual & 04 &  23507\\\\\n",
       "\t docked\\_bike   & casual & 05 &  86666\\\\\n",
       "\t docked\\_bike   & casual & 06 & 154216\\\\\n",
       "\t docked\\_bike   & casual & 07 & 267182\\\\\n",
       "\t docked\\_bike   & casual & 08 & 259729\\\\\n",
       "\t docked\\_bike   & casual & 09 & 170886\\\\\n",
       "\t docked\\_bike   & casual & 10 &  79244\\\\\n",
       "\t docked\\_bike   & casual & 11 &  45743\\\\\n",
       "\t docked\\_bike   & casual & 12 &   4917\\\\\n",
       "\t docked\\_bike   & member & 01 &      1\\\\\n",
       "\t docked\\_bike   & member & 04 &  61095\\\\\n",
       "\t docked\\_bike   & member & 05 & 113236\\\\\n",
       "\t docked\\_bike   & member & 06 & 187963\\\\\n",
       "\t docked\\_bike   & member & 07 & 279908\\\\\n",
       "\t docked\\_bike   & member & 08 & 293179\\\\\n",
       "\t docked\\_bike   & member & 09 & 231282\\\\\n",
       "\t docked\\_bike   & member & 10 & 155125\\\\\n",
       "\t docked\\_bike   & member & 11 & 104880\\\\\n",
       "\t docked\\_bike   & member & 12 &   7799\\\\\n",
       "\t electric\\_bike & casual & 01 &   7753\\\\\n",
       "\t electric\\_bike & casual & 02 &   3165\\\\\n",
       "\t electric\\_bike & casual & 03 &  22848\\\\\n",
       "\t electric\\_bike & casual & 07 &    839\\\\\n",
       "\t electric\\_bike & casual & 08 &  28454\\\\\n",
       "\t electric\\_bike & casual & 09 &  58914\\\\\n",
       "\t electric\\_bike & casual & 10 &  65124\\\\\n",
       "\t electric\\_bike & casual & 11 &  42077\\\\\n",
       "\t electric\\_bike & casual & 12 &  13739\\\\\n",
       "\t electric\\_bike & member & 01 &  25274\\\\\n",
       "\t electric\\_bike & member & 02 &  10174\\\\\n",
       "\t electric\\_bike & member & 03 &  37445\\\\\n",
       "\t electric\\_bike & member & 07 &   1095\\\\\n",
       "\t electric\\_bike & member & 08 &  37735\\\\\n",
       "\t electric\\_bike & member & 09 &  69433\\\\\n",
       "\t electric\\_bike & member & 10 &  87044\\\\\n",
       "\t electric\\_bike & member & 11 &  66040\\\\\n",
       "\t electric\\_bike & member & 12 &  34044\\\\\n",
       "\\end{tabular}\n"
      ],
      "text/markdown": [
       "\n",
       "A tibble: 48 × 4\n",
       "\n",
       "| rideable_type &lt;chr&gt; | member_casual &lt;chr&gt; | month &lt;chr&gt; | number_of_rides &lt;int&gt; |\n",
       "|---|---|---|---|\n",
       "| classic_bike  | casual | 01 |   8245 |\n",
       "| classic_bike  | casual | 02 |   5658 |\n",
       "| classic_bike  | casual | 03 |  45463 |\n",
       "| classic_bike  | casual | 12 |  11300 |\n",
       "| classic_bike  | member | 01 |  53430 |\n",
       "| classic_bike  | member | 02 |  29258 |\n",
       "| classic_bike  | member | 03 | 107007 |\n",
       "| classic_bike  | member | 12 |  59287 |\n",
       "| docked_bike   | casual | 01 |   2092 |\n",
       "| docked_bike   | casual | 02 |   1250 |\n",
       "| docked_bike   | casual | 03 |  15569 |\n",
       "| docked_bike   | casual | 04 |  23507 |\n",
       "| docked_bike   | casual | 05 |  86666 |\n",
       "| docked_bike   | casual | 06 | 154216 |\n",
       "| docked_bike   | casual | 07 | 267182 |\n",
       "| docked_bike   | casual | 08 | 259729 |\n",
       "| docked_bike   | casual | 09 | 170886 |\n",
       "| docked_bike   | casual | 10 |  79244 |\n",
       "| docked_bike   | casual | 11 |  45743 |\n",
       "| docked_bike   | casual | 12 |   4917 |\n",
       "| docked_bike   | member | 01 |      1 |\n",
       "| docked_bike   | member | 04 |  61095 |\n",
       "| docked_bike   | member | 05 | 113236 |\n",
       "| docked_bike   | member | 06 | 187963 |\n",
       "| docked_bike   | member | 07 | 279908 |\n",
       "| docked_bike   | member | 08 | 293179 |\n",
       "| docked_bike   | member | 09 | 231282 |\n",
       "| docked_bike   | member | 10 | 155125 |\n",
       "| docked_bike   | member | 11 | 104880 |\n",
       "| docked_bike   | member | 12 |   7799 |\n",
       "| electric_bike | casual | 01 |   7753 |\n",
       "| electric_bike | casual | 02 |   3165 |\n",
       "| electric_bike | casual | 03 |  22848 |\n",
       "| electric_bike | casual | 07 |    839 |\n",
       "| electric_bike | casual | 08 |  28454 |\n",
       "| electric_bike | casual | 09 |  58914 |\n",
       "| electric_bike | casual | 10 |  65124 |\n",
       "| electric_bike | casual | 11 |  42077 |\n",
       "| electric_bike | casual | 12 |  13739 |\n",
       "| electric_bike | member | 01 |  25274 |\n",
       "| electric_bike | member | 02 |  10174 |\n",
       "| electric_bike | member | 03 |  37445 |\n",
       "| electric_bike | member | 07 |   1095 |\n",
       "| electric_bike | member | 08 |  37735 |\n",
       "| electric_bike | member | 09 |  69433 |\n",
       "| electric_bike | member | 10 |  87044 |\n",
       "| electric_bike | member | 11 |  66040 |\n",
       "| electric_bike | member | 12 |  34044 |\n",
       "\n"
      ],
      "text/plain": [
       "   rideable_type member_casual month number_of_rides\n",
       "1  classic_bike  casual        01      8245         \n",
       "2  classic_bike  casual        02      5658         \n",
       "3  classic_bike  casual        03     45463         \n",
       "4  classic_bike  casual        12     11300         \n",
       "5  classic_bike  member        01     53430         \n",
       "6  classic_bike  member        02     29258         \n",
       "7  classic_bike  member        03    107007         \n",
       "8  classic_bike  member        12     59287         \n",
       "9  docked_bike   casual        01      2092         \n",
       "10 docked_bike   casual        02      1250         \n",
       "11 docked_bike   casual        03     15569         \n",
       "12 docked_bike   casual        04     23507         \n",
       "13 docked_bike   casual        05     86666         \n",
       "14 docked_bike   casual        06    154216         \n",
       "15 docked_bike   casual        07    267182         \n",
       "16 docked_bike   casual        08    259729         \n",
       "17 docked_bike   casual        09    170886         \n",
       "18 docked_bike   casual        10     79244         \n",
       "19 docked_bike   casual        11     45743         \n",
       "20 docked_bike   casual        12      4917         \n",
       "21 docked_bike   member        01         1         \n",
       "22 docked_bike   member        04     61095         \n",
       "23 docked_bike   member        05    113236         \n",
       "24 docked_bike   member        06    187963         \n",
       "25 docked_bike   member        07    279908         \n",
       "26 docked_bike   member        08    293179         \n",
       "27 docked_bike   member        09    231282         \n",
       "28 docked_bike   member        10    155125         \n",
       "29 docked_bike   member        11    104880         \n",
       "30 docked_bike   member        12      7799         \n",
       "31 electric_bike casual        01      7753         \n",
       "32 electric_bike casual        02      3165         \n",
       "33 electric_bike casual        03     22848         \n",
       "34 electric_bike casual        07       839         \n",
       "35 electric_bike casual        08     28454         \n",
       "36 electric_bike casual        09     58914         \n",
       "37 electric_bike casual        10     65124         \n",
       "38 electric_bike casual        11     42077         \n",
       "39 electric_bike casual        12     13739         \n",
       "40 electric_bike member        01     25274         \n",
       "41 electric_bike member        02     10174         \n",
       "42 electric_bike member        03     37445         \n",
       "43 electric_bike member        07      1095         \n",
       "44 electric_bike member        08     37735         \n",
       "45 electric_bike member        09     69433         \n",
       "46 electric_bike member        10     87044         \n",
       "47 electric_bike member        11     66040         \n",
       "48 electric_bike member        12     34044         "
      ]
     },
     "metadata": {},
     "output_type": "display_data"
    }
   ],
   "source": [
    "# comparing the rideable-type by month for member and casual riders\n",
    "\n",
    "all_trips_new %>%\n",
    "  group_by(rideable_type, member_casual, month) %>%\n",
    "  summarise(number_of_rides = n(), .groups='drop')\n"
   ]
  },
  {
   "cell_type": "code",
   "execution_count": 29,
   "id": "9b8e348d",
   "metadata": {
    "execution": {
     "iopub.execute_input": "2021-10-17T16:36:49.361366Z",
     "iopub.status.busy": "2021-10-17T16:36:49.359899Z",
     "iopub.status.idle": "2021-10-17T16:36:49.457803Z",
     "shell.execute_reply": "2021-10-17T16:36:49.456322Z"
    },
    "papermill": {
     "duration": 0.316291,
     "end_time": "2021-10-17T16:36:49.457946",
     "exception": false,
     "start_time": "2021-10-17T16:36:49.141655",
     "status": "completed"
    },
    "tags": []
   },
   "outputs": [
    {
     "data": {
      "text/html": [
       "<table class=\"dataframe\">\n",
       "<caption>A tibble: 8 × 4</caption>\n",
       "<thead>\n",
       "\t<tr><th scope=col>rideable_type</th><th scope=col>month</th><th scope=col>member_casual</th><th scope=col>number_of_rides</th></tr>\n",
       "\t<tr><th scope=col>&lt;chr&gt;</th><th scope=col>&lt;chr&gt;</th><th scope=col>&lt;chr&gt;</th><th scope=col>&lt;int&gt;</th></tr>\n",
       "</thead>\n",
       "<tbody>\n",
       "\t<tr><td>classic_bike</td><td>01</td><td>casual</td><td>  8245</td></tr>\n",
       "\t<tr><td>classic_bike</td><td>01</td><td>member</td><td> 53430</td></tr>\n",
       "\t<tr><td>classic_bike</td><td>02</td><td>casual</td><td>  5658</td></tr>\n",
       "\t<tr><td>classic_bike</td><td>02</td><td>member</td><td> 29258</td></tr>\n",
       "\t<tr><td>classic_bike</td><td>03</td><td>casual</td><td> 45463</td></tr>\n",
       "\t<tr><td>classic_bike</td><td>03</td><td>member</td><td>107007</td></tr>\n",
       "\t<tr><td>classic_bike</td><td>12</td><td>casual</td><td> 11300</td></tr>\n",
       "\t<tr><td>classic_bike</td><td>12</td><td>member</td><td> 59287</td></tr>\n",
       "</tbody>\n",
       "</table>\n"
      ],
      "text/latex": [
       "A tibble: 8 × 4\n",
       "\\begin{tabular}{llll}\n",
       " rideable\\_type & month & member\\_casual & number\\_of\\_rides\\\\\n",
       " <chr> & <chr> & <chr> & <int>\\\\\n",
       "\\hline\n",
       "\t classic\\_bike & 01 & casual &   8245\\\\\n",
       "\t classic\\_bike & 01 & member &  53430\\\\\n",
       "\t classic\\_bike & 02 & casual &   5658\\\\\n",
       "\t classic\\_bike & 02 & member &  29258\\\\\n",
       "\t classic\\_bike & 03 & casual &  45463\\\\\n",
       "\t classic\\_bike & 03 & member & 107007\\\\\n",
       "\t classic\\_bike & 12 & casual &  11300\\\\\n",
       "\t classic\\_bike & 12 & member &  59287\\\\\n",
       "\\end{tabular}\n"
      ],
      "text/markdown": [
       "\n",
       "A tibble: 8 × 4\n",
       "\n",
       "| rideable_type &lt;chr&gt; | month &lt;chr&gt; | member_casual &lt;chr&gt; | number_of_rides &lt;int&gt; |\n",
       "|---|---|---|---|\n",
       "| classic_bike | 01 | casual |   8245 |\n",
       "| classic_bike | 01 | member |  53430 |\n",
       "| classic_bike | 02 | casual |   5658 |\n",
       "| classic_bike | 02 | member |  29258 |\n",
       "| classic_bike | 03 | casual |  45463 |\n",
       "| classic_bike | 03 | member | 107007 |\n",
       "| classic_bike | 12 | casual |  11300 |\n",
       "| classic_bike | 12 | member |  59287 |\n",
       "\n"
      ],
      "text/plain": [
       "  rideable_type month member_casual number_of_rides\n",
       "1 classic_bike  01    casual          8245         \n",
       "2 classic_bike  01    member         53430         \n",
       "3 classic_bike  02    casual          5658         \n",
       "4 classic_bike  02    member         29258         \n",
       "5 classic_bike  03    casual         45463         \n",
       "6 classic_bike  03    member        107007         \n",
       "7 classic_bike  12    casual         11300         \n",
       "8 classic_bike  12    member         59287         "
      ]
     },
     "metadata": {},
     "output_type": "display_data"
    }
   ],
   "source": [
    "## comparing the \"classic_bike\" by month or member and casual riders \n",
    "\n",
    "all_trips_new %>%\n",
    "  filter(rideable_type==\"classic_bike\") %>%\n",
    "  group_by(rideable_type, month, member_casual)%>%\n",
    "  summarise(number_of_rides = n(), .groups='drop')%>%\n",
    "  arrange(month)\n"
   ]
  },
  {
   "cell_type": "code",
   "execution_count": 30,
   "id": "5ecf9a5b",
   "metadata": {
    "execution": {
     "iopub.execute_input": "2021-10-17T16:36:49.892359Z",
     "iopub.status.busy": "2021-10-17T16:36:49.890807Z",
     "iopub.status.idle": "2021-10-17T16:36:50.864928Z",
     "shell.execute_reply": "2021-10-17T16:36:50.863562Z"
    },
    "papermill": {
     "duration": 1.192698,
     "end_time": "2021-10-17T16:36:50.865072",
     "exception": false,
     "start_time": "2021-10-17T16:36:49.672374",
     "status": "completed"
    },
    "tags": []
   },
   "outputs": [
    {
     "data": {
      "text/html": [
       "<table class=\"dataframe\">\n",
       "<caption>A tibble: 22 × 4</caption>\n",
       "<thead>\n",
       "\t<tr><th scope=col>rideable_type</th><th scope=col>month</th><th scope=col>member_casual</th><th scope=col>number_of_rides</th></tr>\n",
       "\t<tr><th scope=col>&lt;chr&gt;</th><th scope=col>&lt;chr&gt;</th><th scope=col>&lt;chr&gt;</th><th scope=col>&lt;int&gt;</th></tr>\n",
       "</thead>\n",
       "<tbody>\n",
       "\t<tr><td>docked_bike</td><td>01</td><td>casual</td><td>  2092</td></tr>\n",
       "\t<tr><td>docked_bike</td><td>01</td><td>member</td><td>     1</td></tr>\n",
       "\t<tr><td>docked_bike</td><td>02</td><td>casual</td><td>  1250</td></tr>\n",
       "\t<tr><td>docked_bike</td><td>03</td><td>casual</td><td> 15569</td></tr>\n",
       "\t<tr><td>docked_bike</td><td>04</td><td>casual</td><td> 23507</td></tr>\n",
       "\t<tr><td>docked_bike</td><td>04</td><td>member</td><td> 61095</td></tr>\n",
       "\t<tr><td>docked_bike</td><td>05</td><td>casual</td><td> 86666</td></tr>\n",
       "\t<tr><td>docked_bike</td><td>05</td><td>member</td><td>113236</td></tr>\n",
       "\t<tr><td>docked_bike</td><td>06</td><td>casual</td><td>154216</td></tr>\n",
       "\t<tr><td>docked_bike</td><td>06</td><td>member</td><td>187963</td></tr>\n",
       "\t<tr><td>docked_bike</td><td>07</td><td>casual</td><td>267182</td></tr>\n",
       "\t<tr><td>docked_bike</td><td>07</td><td>member</td><td>279908</td></tr>\n",
       "\t<tr><td>docked_bike</td><td>08</td><td>casual</td><td>259729</td></tr>\n",
       "\t<tr><td>docked_bike</td><td>08</td><td>member</td><td>293179</td></tr>\n",
       "\t<tr><td>docked_bike</td><td>09</td><td>casual</td><td>170886</td></tr>\n",
       "\t<tr><td>docked_bike</td><td>09</td><td>member</td><td>231282</td></tr>\n",
       "\t<tr><td>docked_bike</td><td>10</td><td>casual</td><td> 79244</td></tr>\n",
       "\t<tr><td>docked_bike</td><td>10</td><td>member</td><td>155125</td></tr>\n",
       "\t<tr><td>docked_bike</td><td>11</td><td>casual</td><td> 45743</td></tr>\n",
       "\t<tr><td>docked_bike</td><td>11</td><td>member</td><td>104880</td></tr>\n",
       "\t<tr><td>docked_bike</td><td>12</td><td>casual</td><td>  4917</td></tr>\n",
       "\t<tr><td>docked_bike</td><td>12</td><td>member</td><td>  7799</td></tr>\n",
       "</tbody>\n",
       "</table>\n"
      ],
      "text/latex": [
       "A tibble: 22 × 4\n",
       "\\begin{tabular}{llll}\n",
       " rideable\\_type & month & member\\_casual & number\\_of\\_rides\\\\\n",
       " <chr> & <chr> & <chr> & <int>\\\\\n",
       "\\hline\n",
       "\t docked\\_bike & 01 & casual &   2092\\\\\n",
       "\t docked\\_bike & 01 & member &      1\\\\\n",
       "\t docked\\_bike & 02 & casual &   1250\\\\\n",
       "\t docked\\_bike & 03 & casual &  15569\\\\\n",
       "\t docked\\_bike & 04 & casual &  23507\\\\\n",
       "\t docked\\_bike & 04 & member &  61095\\\\\n",
       "\t docked\\_bike & 05 & casual &  86666\\\\\n",
       "\t docked\\_bike & 05 & member & 113236\\\\\n",
       "\t docked\\_bike & 06 & casual & 154216\\\\\n",
       "\t docked\\_bike & 06 & member & 187963\\\\\n",
       "\t docked\\_bike & 07 & casual & 267182\\\\\n",
       "\t docked\\_bike & 07 & member & 279908\\\\\n",
       "\t docked\\_bike & 08 & casual & 259729\\\\\n",
       "\t docked\\_bike & 08 & member & 293179\\\\\n",
       "\t docked\\_bike & 09 & casual & 170886\\\\\n",
       "\t docked\\_bike & 09 & member & 231282\\\\\n",
       "\t docked\\_bike & 10 & casual &  79244\\\\\n",
       "\t docked\\_bike & 10 & member & 155125\\\\\n",
       "\t docked\\_bike & 11 & casual &  45743\\\\\n",
       "\t docked\\_bike & 11 & member & 104880\\\\\n",
       "\t docked\\_bike & 12 & casual &   4917\\\\\n",
       "\t docked\\_bike & 12 & member &   7799\\\\\n",
       "\\end{tabular}\n"
      ],
      "text/markdown": [
       "\n",
       "A tibble: 22 × 4\n",
       "\n",
       "| rideable_type &lt;chr&gt; | month &lt;chr&gt; | member_casual &lt;chr&gt; | number_of_rides &lt;int&gt; |\n",
       "|---|---|---|---|\n",
       "| docked_bike | 01 | casual |   2092 |\n",
       "| docked_bike | 01 | member |      1 |\n",
       "| docked_bike | 02 | casual |   1250 |\n",
       "| docked_bike | 03 | casual |  15569 |\n",
       "| docked_bike | 04 | casual |  23507 |\n",
       "| docked_bike | 04 | member |  61095 |\n",
       "| docked_bike | 05 | casual |  86666 |\n",
       "| docked_bike | 05 | member | 113236 |\n",
       "| docked_bike | 06 | casual | 154216 |\n",
       "| docked_bike | 06 | member | 187963 |\n",
       "| docked_bike | 07 | casual | 267182 |\n",
       "| docked_bike | 07 | member | 279908 |\n",
       "| docked_bike | 08 | casual | 259729 |\n",
       "| docked_bike | 08 | member | 293179 |\n",
       "| docked_bike | 09 | casual | 170886 |\n",
       "| docked_bike | 09 | member | 231282 |\n",
       "| docked_bike | 10 | casual |  79244 |\n",
       "| docked_bike | 10 | member | 155125 |\n",
       "| docked_bike | 11 | casual |  45743 |\n",
       "| docked_bike | 11 | member | 104880 |\n",
       "| docked_bike | 12 | casual |   4917 |\n",
       "| docked_bike | 12 | member |   7799 |\n",
       "\n"
      ],
      "text/plain": [
       "   rideable_type month member_casual number_of_rides\n",
       "1  docked_bike   01    casual          2092         \n",
       "2  docked_bike   01    member             1         \n",
       "3  docked_bike   02    casual          1250         \n",
       "4  docked_bike   03    casual         15569         \n",
       "5  docked_bike   04    casual         23507         \n",
       "6  docked_bike   04    member         61095         \n",
       "7  docked_bike   05    casual         86666         \n",
       "8  docked_bike   05    member        113236         \n",
       "9  docked_bike   06    casual        154216         \n",
       "10 docked_bike   06    member        187963         \n",
       "11 docked_bike   07    casual        267182         \n",
       "12 docked_bike   07    member        279908         \n",
       "13 docked_bike   08    casual        259729         \n",
       "14 docked_bike   08    member        293179         \n",
       "15 docked_bike   09    casual        170886         \n",
       "16 docked_bike   09    member        231282         \n",
       "17 docked_bike   10    casual         79244         \n",
       "18 docked_bike   10    member        155125         \n",
       "19 docked_bike   11    casual         45743         \n",
       "20 docked_bike   11    member        104880         \n",
       "21 docked_bike   12    casual          4917         \n",
       "22 docked_bike   12    member          7799         "
      ]
     },
     "metadata": {},
     "output_type": "display_data"
    }
   ],
   "source": [
    "## comparing the \"docked_bike\" by month or member and casual riders \n",
    "\n",
    "all_trips_new %>%\n",
    "  filter(rideable_type==\"docked_bike\") %>%\n",
    "  group_by(rideable_type, month, member_casual)%>%\n",
    "  summarise(number_of_rides = n(), .groups='drop')%>%\n",
    "  arrange(month)\n"
   ]
  },
  {
   "cell_type": "code",
   "execution_count": 31,
   "id": "a1d9aebb",
   "metadata": {
    "execution": {
     "iopub.execute_input": "2021-10-17T16:36:51.308134Z",
     "iopub.status.busy": "2021-10-17T16:36:51.306867Z",
     "iopub.status.idle": "2021-10-17T16:36:51.435504Z",
     "shell.execute_reply": "2021-10-17T16:36:51.434143Z"
    },
    "papermill": {
     "duration": 0.35144,
     "end_time": "2021-10-17T16:36:51.435640",
     "exception": false,
     "start_time": "2021-10-17T16:36:51.084200",
     "status": "completed"
    },
    "tags": []
   },
   "outputs": [
    {
     "data": {
      "text/html": [
       "<table class=\"dataframe\">\n",
       "<caption>A tibble: 18 × 4</caption>\n",
       "<thead>\n",
       "\t<tr><th scope=col>rideable_type</th><th scope=col>month</th><th scope=col>member_casual</th><th scope=col>number_of_rides</th></tr>\n",
       "\t<tr><th scope=col>&lt;chr&gt;</th><th scope=col>&lt;chr&gt;</th><th scope=col>&lt;chr&gt;</th><th scope=col>&lt;int&gt;</th></tr>\n",
       "</thead>\n",
       "<tbody>\n",
       "\t<tr><td>electric_bike</td><td>01</td><td>casual</td><td> 7753</td></tr>\n",
       "\t<tr><td>electric_bike</td><td>01</td><td>member</td><td>25274</td></tr>\n",
       "\t<tr><td>electric_bike</td><td>02</td><td>casual</td><td> 3165</td></tr>\n",
       "\t<tr><td>electric_bike</td><td>02</td><td>member</td><td>10174</td></tr>\n",
       "\t<tr><td>electric_bike</td><td>03</td><td>casual</td><td>22848</td></tr>\n",
       "\t<tr><td>electric_bike</td><td>03</td><td>member</td><td>37445</td></tr>\n",
       "\t<tr><td>electric_bike</td><td>07</td><td>casual</td><td>  839</td></tr>\n",
       "\t<tr><td>electric_bike</td><td>07</td><td>member</td><td> 1095</td></tr>\n",
       "\t<tr><td>electric_bike</td><td>08</td><td>casual</td><td>28454</td></tr>\n",
       "\t<tr><td>electric_bike</td><td>08</td><td>member</td><td>37735</td></tr>\n",
       "\t<tr><td>electric_bike</td><td>09</td><td>casual</td><td>58914</td></tr>\n",
       "\t<tr><td>electric_bike</td><td>09</td><td>member</td><td>69433</td></tr>\n",
       "\t<tr><td>electric_bike</td><td>10</td><td>casual</td><td>65124</td></tr>\n",
       "\t<tr><td>electric_bike</td><td>10</td><td>member</td><td>87044</td></tr>\n",
       "\t<tr><td>electric_bike</td><td>11</td><td>casual</td><td>42077</td></tr>\n",
       "\t<tr><td>electric_bike</td><td>11</td><td>member</td><td>66040</td></tr>\n",
       "\t<tr><td>electric_bike</td><td>12</td><td>casual</td><td>13739</td></tr>\n",
       "\t<tr><td>electric_bike</td><td>12</td><td>member</td><td>34044</td></tr>\n",
       "</tbody>\n",
       "</table>\n"
      ],
      "text/latex": [
       "A tibble: 18 × 4\n",
       "\\begin{tabular}{llll}\n",
       " rideable\\_type & month & member\\_casual & number\\_of\\_rides\\\\\n",
       " <chr> & <chr> & <chr> & <int>\\\\\n",
       "\\hline\n",
       "\t electric\\_bike & 01 & casual &  7753\\\\\n",
       "\t electric\\_bike & 01 & member & 25274\\\\\n",
       "\t electric\\_bike & 02 & casual &  3165\\\\\n",
       "\t electric\\_bike & 02 & member & 10174\\\\\n",
       "\t electric\\_bike & 03 & casual & 22848\\\\\n",
       "\t electric\\_bike & 03 & member & 37445\\\\\n",
       "\t electric\\_bike & 07 & casual &   839\\\\\n",
       "\t electric\\_bike & 07 & member &  1095\\\\\n",
       "\t electric\\_bike & 08 & casual & 28454\\\\\n",
       "\t electric\\_bike & 08 & member & 37735\\\\\n",
       "\t electric\\_bike & 09 & casual & 58914\\\\\n",
       "\t electric\\_bike & 09 & member & 69433\\\\\n",
       "\t electric\\_bike & 10 & casual & 65124\\\\\n",
       "\t electric\\_bike & 10 & member & 87044\\\\\n",
       "\t electric\\_bike & 11 & casual & 42077\\\\\n",
       "\t electric\\_bike & 11 & member & 66040\\\\\n",
       "\t electric\\_bike & 12 & casual & 13739\\\\\n",
       "\t electric\\_bike & 12 & member & 34044\\\\\n",
       "\\end{tabular}\n"
      ],
      "text/markdown": [
       "\n",
       "A tibble: 18 × 4\n",
       "\n",
       "| rideable_type &lt;chr&gt; | month &lt;chr&gt; | member_casual &lt;chr&gt; | number_of_rides &lt;int&gt; |\n",
       "|---|---|---|---|\n",
       "| electric_bike | 01 | casual |  7753 |\n",
       "| electric_bike | 01 | member | 25274 |\n",
       "| electric_bike | 02 | casual |  3165 |\n",
       "| electric_bike | 02 | member | 10174 |\n",
       "| electric_bike | 03 | casual | 22848 |\n",
       "| electric_bike | 03 | member | 37445 |\n",
       "| electric_bike | 07 | casual |   839 |\n",
       "| electric_bike | 07 | member |  1095 |\n",
       "| electric_bike | 08 | casual | 28454 |\n",
       "| electric_bike | 08 | member | 37735 |\n",
       "| electric_bike | 09 | casual | 58914 |\n",
       "| electric_bike | 09 | member | 69433 |\n",
       "| electric_bike | 10 | casual | 65124 |\n",
       "| electric_bike | 10 | member | 87044 |\n",
       "| electric_bike | 11 | casual | 42077 |\n",
       "| electric_bike | 11 | member | 66040 |\n",
       "| electric_bike | 12 | casual | 13739 |\n",
       "| electric_bike | 12 | member | 34044 |\n",
       "\n"
      ],
      "text/plain": [
       "   rideable_type month member_casual number_of_rides\n",
       "1  electric_bike 01    casual         7753          \n",
       "2  electric_bike 01    member        25274          \n",
       "3  electric_bike 02    casual         3165          \n",
       "4  electric_bike 02    member        10174          \n",
       "5  electric_bike 03    casual        22848          \n",
       "6  electric_bike 03    member        37445          \n",
       "7  electric_bike 07    casual          839          \n",
       "8  electric_bike 07    member         1095          \n",
       "9  electric_bike 08    casual        28454          \n",
       "10 electric_bike 08    member        37735          \n",
       "11 electric_bike 09    casual        58914          \n",
       "12 electric_bike 09    member        69433          \n",
       "13 electric_bike 10    casual        65124          \n",
       "14 electric_bike 10    member        87044          \n",
       "15 electric_bike 11    casual        42077          \n",
       "16 electric_bike 11    member        66040          \n",
       "17 electric_bike 12    casual        13739          \n",
       "18 electric_bike 12    member        34044          "
      ]
     },
     "metadata": {},
     "output_type": "display_data"
    }
   ],
   "source": [
    "## comparing the \"electric_bike\" by month or member and casual riders \n",
    "\n",
    "all_trips_new %>%\n",
    "  filter(rideable_type==\"electric_bike\") %>%\n",
    "  group_by(rideable_type, month, member_casual)%>%\n",
    "  summarise(number_of_rides = n(), .groups='drop')%>%\n",
    "  arrange(month)\n"
   ]
  },
  {
   "cell_type": "code",
   "execution_count": 32,
   "id": "b2297368",
   "metadata": {
    "execution": {
     "iopub.execute_input": "2021-10-17T16:36:51.876157Z",
     "iopub.status.busy": "2021-10-17T16:36:51.874662Z",
     "iopub.status.idle": "2021-10-17T16:36:54.828170Z",
     "shell.execute_reply": "2021-10-17T16:36:54.826806Z"
    },
    "papermill": {
     "duration": 3.1752,
     "end_time": "2021-10-17T16:36:54.828315",
     "exception": false,
     "start_time": "2021-10-17T16:36:51.653115",
     "status": "completed"
    },
    "tags": []
   },
   "outputs": [
    {
     "data": {
      "text/html": [
       "<table class=\"dataframe\">\n",
       "<caption>A tibble: 10 × 2</caption>\n",
       "<thead>\n",
       "\t<tr><th scope=col>stations</th><th scope=col>station_count</th></tr>\n",
       "\t<tr><th scope=col>&lt;chr&gt;</th><th scope=col>&lt;int&gt;</th></tr>\n",
       "</thead>\n",
       "<tbody>\n",
       "\t<tr><td><span style=white-space:pre-wrap>Streeter Dr &amp; Grand Ave   </span></td><td>72493</td></tr>\n",
       "\t<tr><td><span style=white-space:pre-wrap>Clark St &amp; Elm St         </span></td><td>64394</td></tr>\n",
       "\t<tr><td>Theater on the Lake       </td><td>60723</td></tr>\n",
       "\t<tr><td>Lake Shore Dr &amp; Monroe St </td><td>58934</td></tr>\n",
       "\t<tr><td>Lake Shore Dr &amp; North Blvd</td><td>54447</td></tr>\n",
       "\t<tr><td><span style=white-space:pre-wrap>Wells St &amp; Concord Ln     </span></td><td>50715</td></tr>\n",
       "\t<tr><td>Millennium Park           </td><td>49705</td></tr>\n",
       "\t<tr><td><span style=white-space:pre-wrap>Broadway &amp; Barry Ave      </span></td><td>48752</td></tr>\n",
       "\t<tr><td><span style=white-space:pre-wrap>Dearborn St &amp; Erie St     </span></td><td>48490</td></tr>\n",
       "\t<tr><td>Indiana Ave &amp; Roosevelt Rd</td><td>48263</td></tr>\n",
       "</tbody>\n",
       "</table>\n"
      ],
      "text/latex": [
       "A tibble: 10 × 2\n",
       "\\begin{tabular}{ll}\n",
       " stations & station\\_count\\\\\n",
       " <chr> & <int>\\\\\n",
       "\\hline\n",
       "\t Streeter Dr \\& Grand Ave    & 72493\\\\\n",
       "\t Clark St \\& Elm St          & 64394\\\\\n",
       "\t Theater on the Lake        & 60723\\\\\n",
       "\t Lake Shore Dr \\& Monroe St  & 58934\\\\\n",
       "\t Lake Shore Dr \\& North Blvd & 54447\\\\\n",
       "\t Wells St \\& Concord Ln      & 50715\\\\\n",
       "\t Millennium Park            & 49705\\\\\n",
       "\t Broadway \\& Barry Ave       & 48752\\\\\n",
       "\t Dearborn St \\& Erie St      & 48490\\\\\n",
       "\t Indiana Ave \\& Roosevelt Rd & 48263\\\\\n",
       "\\end{tabular}\n"
      ],
      "text/markdown": [
       "\n",
       "A tibble: 10 × 2\n",
       "\n",
       "| stations &lt;chr&gt; | station_count &lt;int&gt; |\n",
       "|---|---|\n",
       "| Streeter Dr &amp; Grand Ave    | 72493 |\n",
       "| Clark St &amp; Elm St          | 64394 |\n",
       "| Theater on the Lake        | 60723 |\n",
       "| Lake Shore Dr &amp; Monroe St  | 58934 |\n",
       "| Lake Shore Dr &amp; North Blvd | 54447 |\n",
       "| Wells St &amp; Concord Ln      | 50715 |\n",
       "| Millennium Park            | 49705 |\n",
       "| Broadway &amp; Barry Ave       | 48752 |\n",
       "| Dearborn St &amp; Erie St      | 48490 |\n",
       "| Indiana Ave &amp; Roosevelt Rd | 48263 |\n",
       "\n"
      ],
      "text/plain": [
       "   stations                   station_count\n",
       "1  Streeter Dr & Grand Ave    72493        \n",
       "2  Clark St & Elm St          64394        \n",
       "3  Theater on the Lake        60723        \n",
       "4  Lake Shore Dr & Monroe St  58934        \n",
       "5  Lake Shore Dr & North Blvd 54447        \n",
       "6  Wells St & Concord Ln      50715        \n",
       "7  Millennium Park            49705        \n",
       "8  Broadway & Barry Ave       48752        \n",
       "9  Dearborn St & Erie St      48490        \n",
       "10 Indiana Ave & Roosevelt Rd 48263        "
      ]
     },
     "metadata": {},
     "output_type": "display_data"
    }
   ],
   "source": [
    "## Creating  New data frame for analyzing station usage\n",
    "\n",
    "## combine start and end station\n",
    "## removing entries with no station name \n",
    "## Separate the data frame by data type \n",
    "\n",
    "all_station <- bind_rows(data.frame(\"stations\" = all_trips_new$start_station_name,\n",
    "                                    \"member_casual\" = all_trips_new$member_casual),\n",
    "                         data.frame(\"stations\" = all_trips_new$end_station_name,\n",
    "                                    \"member_casual\" = all_trips_new$member_casual))\n",
    "\n",
    "\n",
    "all_station_new <- all_station[!(all_station$stations==\"\" | is.na(all_station$stations)),]\n",
    "all_station_member <- all_station_new[all_station_new$member_casual == \"member\",]\n",
    "all_station_casual <- all_station_new[all_station_new$member_casual == \"casual\",]\n",
    "\n",
    "## Stations \n",
    "\n",
    "top_10_station <- all_station_new %>%\n",
    "  group_by(stations)%>%\n",
    "  summarise(station_count =n())%>%\n",
    "  arrange(desc(station_count)) %>%\n",
    "  head(10)\n",
    "top_10_station"
   ]
  },
  {
   "cell_type": "code",
   "execution_count": 33,
   "id": "8f606c77",
   "metadata": {
    "execution": {
     "iopub.execute_input": "2021-10-17T16:36:55.278765Z",
     "iopub.status.busy": "2021-10-17T16:36:55.277281Z",
     "iopub.status.idle": "2021-10-17T16:36:55.409318Z",
     "shell.execute_reply": "2021-10-17T16:36:55.407994Z"
    },
    "papermill": {
     "duration": 0.357646,
     "end_time": "2021-10-17T16:36:55.409449",
     "exception": false,
     "start_time": "2021-10-17T16:36:55.051803",
     "status": "completed"
    },
    "tags": []
   },
   "outputs": [
    {
     "data": {
      "text/html": [
       "<table class=\"dataframe\">\n",
       "<caption>A tibble: 10 × 2</caption>\n",
       "<thead>\n",
       "\t<tr><th scope=col>stations</th><th scope=col>station_count</th></tr>\n",
       "\t<tr><th scope=col>&lt;chr&gt;</th><th scope=col>&lt;int&gt;</th></tr>\n",
       "</thead>\n",
       "<tbody>\n",
       "\t<tr><td><span style=white-space:pre-wrap>Clark St &amp; Elm St         </span></td><td>41019</td></tr>\n",
       "\t<tr><td><span style=white-space:pre-wrap>St. Clair St &amp; Erie St    </span></td><td>31774</td></tr>\n",
       "\t<tr><td><span style=white-space:pre-wrap>Broadway &amp; Barry Ave      </span></td><td>31718</td></tr>\n",
       "\t<tr><td><span style=white-space:pre-wrap>Dearborn St &amp; Erie St     </span></td><td>31324</td></tr>\n",
       "\t<tr><td><span style=white-space:pre-wrap>Wells St &amp; Concord Ln     </span></td><td>30548</td></tr>\n",
       "\t<tr><td>Theater on the Lake       </td><td>28960</td></tr>\n",
       "\t<tr><td><span style=white-space:pre-wrap>Kingsbury St &amp; Kinzie St  </span></td><td>28654</td></tr>\n",
       "\t<tr><td><span style=white-space:pre-wrap>Wells St &amp; Elm St         </span></td><td>27320</td></tr>\n",
       "\t<tr><td><span style=white-space:pre-wrap>Wells St &amp; Huron St       </span></td><td>27307</td></tr>\n",
       "\t<tr><td>Lake Shore Dr &amp; North Blvd</td><td>26867</td></tr>\n",
       "</tbody>\n",
       "</table>\n"
      ],
      "text/latex": [
       "A tibble: 10 × 2\n",
       "\\begin{tabular}{ll}\n",
       " stations & station\\_count\\\\\n",
       " <chr> & <int>\\\\\n",
       "\\hline\n",
       "\t Clark St \\& Elm St          & 41019\\\\\n",
       "\t St. Clair St \\& Erie St     & 31774\\\\\n",
       "\t Broadway \\& Barry Ave       & 31718\\\\\n",
       "\t Dearborn St \\& Erie St      & 31324\\\\\n",
       "\t Wells St \\& Concord Ln      & 30548\\\\\n",
       "\t Theater on the Lake        & 28960\\\\\n",
       "\t Kingsbury St \\& Kinzie St   & 28654\\\\\n",
       "\t Wells St \\& Elm St          & 27320\\\\\n",
       "\t Wells St \\& Huron St        & 27307\\\\\n",
       "\t Lake Shore Dr \\& North Blvd & 26867\\\\\n",
       "\\end{tabular}\n"
      ],
      "text/markdown": [
       "\n",
       "A tibble: 10 × 2\n",
       "\n",
       "| stations &lt;chr&gt; | station_count &lt;int&gt; |\n",
       "|---|---|\n",
       "| Clark St &amp; Elm St          | 41019 |\n",
       "| St. Clair St &amp; Erie St     | 31774 |\n",
       "| Broadway &amp; Barry Ave       | 31718 |\n",
       "| Dearborn St &amp; Erie St      | 31324 |\n",
       "| Wells St &amp; Concord Ln      | 30548 |\n",
       "| Theater on the Lake        | 28960 |\n",
       "| Kingsbury St &amp; Kinzie St   | 28654 |\n",
       "| Wells St &amp; Elm St          | 27320 |\n",
       "| Wells St &amp; Huron St        | 27307 |\n",
       "| Lake Shore Dr &amp; North Blvd | 26867 |\n",
       "\n"
      ],
      "text/plain": [
       "   stations                   station_count\n",
       "1  Clark St & Elm St          41019        \n",
       "2  St. Clair St & Erie St     31774        \n",
       "3  Broadway & Barry Ave       31718        \n",
       "4  Dearborn St & Erie St      31324        \n",
       "5  Wells St & Concord Ln      30548        \n",
       "6  Theater on the Lake        28960        \n",
       "7  Kingsbury St & Kinzie St   28654        \n",
       "8  Wells St & Elm St          27320        \n",
       "9  Wells St & Huron St        27307        \n",
       "10 Lake Shore Dr & North Blvd 26867        "
      ]
     },
     "metadata": {},
     "output_type": "display_data"
    }
   ],
   "source": [
    "## member\n",
    "\n",
    "top_10_member <- all_station_member %>%\n",
    "  group_by(stations) %>%\n",
    "  summarise(station_count = n()) %>%\n",
    "  arrange(desc(station_count)) %>%\n",
    "  head(10)\n",
    "\n",
    "top_10_member"
   ]
  },
  {
   "cell_type": "code",
   "execution_count": 34,
   "id": "6007a46f",
   "metadata": {
    "execution": {
     "iopub.execute_input": "2021-10-17T16:36:55.859606Z",
     "iopub.status.busy": "2021-10-17T16:36:55.858273Z",
     "iopub.status.idle": "2021-10-17T16:36:55.962582Z",
     "shell.execute_reply": "2021-10-17T16:36:55.961260Z"
    },
    "papermill": {
     "duration": 0.330338,
     "end_time": "2021-10-17T16:36:55.962730",
     "exception": false,
     "start_time": "2021-10-17T16:36:55.632392",
     "status": "completed"
    },
    "tags": []
   },
   "outputs": [
    {
     "data": {
      "text/html": [
       "<table class=\"dataframe\">\n",
       "<caption>A tibble: 10 × 2</caption>\n",
       "<thead>\n",
       "\t<tr><th scope=col>stations</th><th scope=col>station_count</th></tr>\n",
       "\t<tr><th scope=col>&lt;chr&gt;</th><th scope=col>&lt;int&gt;</th></tr>\n",
       "</thead>\n",
       "<tbody>\n",
       "\t<tr><td><span style=white-space:pre-wrap>Streeter Dr &amp; Grand Ave     </span></td><td>54538</td></tr>\n",
       "\t<tr><td><span style=white-space:pre-wrap>Lake Shore Dr &amp; Monroe St   </span></td><td>40757</td></tr>\n",
       "\t<tr><td>Millennium Park             </td><td>39664</td></tr>\n",
       "\t<tr><td>Theater on the Lake         </td><td>31763</td></tr>\n",
       "\t<tr><td><span style=white-space:pre-wrap>Michigan Ave &amp; Oak St       </span></td><td>27855</td></tr>\n",
       "\t<tr><td><span style=white-space:pre-wrap>Lake Shore Dr &amp; North Blvd  </span></td><td>27580</td></tr>\n",
       "\t<tr><td><span style=white-space:pre-wrap>Indiana Ave &amp; Roosevelt Rd  </span></td><td>27340</td></tr>\n",
       "\t<tr><td><span style=white-space:pre-wrap>Clark St &amp; Elm St           </span></td><td>23375</td></tr>\n",
       "\t<tr><td><span style=white-space:pre-wrap>Michigan Ave &amp; Lake St      </span></td><td>22969</td></tr>\n",
       "\t<tr><td>Michigan Ave &amp; Washington St</td><td>21308</td></tr>\n",
       "</tbody>\n",
       "</table>\n"
      ],
      "text/latex": [
       "A tibble: 10 × 2\n",
       "\\begin{tabular}{ll}\n",
       " stations & station\\_count\\\\\n",
       " <chr> & <int>\\\\\n",
       "\\hline\n",
       "\t Streeter Dr \\& Grand Ave      & 54538\\\\\n",
       "\t Lake Shore Dr \\& Monroe St    & 40757\\\\\n",
       "\t Millennium Park              & 39664\\\\\n",
       "\t Theater on the Lake          & 31763\\\\\n",
       "\t Michigan Ave \\& Oak St        & 27855\\\\\n",
       "\t Lake Shore Dr \\& North Blvd   & 27580\\\\\n",
       "\t Indiana Ave \\& Roosevelt Rd   & 27340\\\\\n",
       "\t Clark St \\& Elm St            & 23375\\\\\n",
       "\t Michigan Ave \\& Lake St       & 22969\\\\\n",
       "\t Michigan Ave \\& Washington St & 21308\\\\\n",
       "\\end{tabular}\n"
      ],
      "text/markdown": [
       "\n",
       "A tibble: 10 × 2\n",
       "\n",
       "| stations &lt;chr&gt; | station_count &lt;int&gt; |\n",
       "|---|---|\n",
       "| Streeter Dr &amp; Grand Ave      | 54538 |\n",
       "| Lake Shore Dr &amp; Monroe St    | 40757 |\n",
       "| Millennium Park              | 39664 |\n",
       "| Theater on the Lake          | 31763 |\n",
       "| Michigan Ave &amp; Oak St        | 27855 |\n",
       "| Lake Shore Dr &amp; North Blvd   | 27580 |\n",
       "| Indiana Ave &amp; Roosevelt Rd   | 27340 |\n",
       "| Clark St &amp; Elm St            | 23375 |\n",
       "| Michigan Ave &amp; Lake St       | 22969 |\n",
       "| Michigan Ave &amp; Washington St | 21308 |\n",
       "\n"
      ],
      "text/plain": [
       "   stations                     station_count\n",
       "1  Streeter Dr & Grand Ave      54538        \n",
       "2  Lake Shore Dr & Monroe St    40757        \n",
       "3  Millennium Park              39664        \n",
       "4  Theater on the Lake          31763        \n",
       "5  Michigan Ave & Oak St        27855        \n",
       "6  Lake Shore Dr & North Blvd   27580        \n",
       "7  Indiana Ave & Roosevelt Rd   27340        \n",
       "8  Clark St & Elm St            23375        \n",
       "9  Michigan Ave & Lake St       22969        \n",
       "10 Michigan Ave & Washington St 21308        "
      ]
     },
     "metadata": {},
     "output_type": "display_data"
    }
   ],
   "source": [
    "## casual \n",
    "\n",
    "top_10_casual <- all_station_casual %>%\n",
    "  group_by(stations) %>%\n",
    "  summarise(station_count = n()) %>%\n",
    "  arrange(desc(station_count)) %>%\n",
    "  head(10)\n",
    "\n",
    "top_10_casual\n"
   ]
  },
  {
   "cell_type": "code",
   "execution_count": 35,
   "id": "c276f8a6",
   "metadata": {
    "execution": {
     "iopub.execute_input": "2021-10-17T16:36:56.425320Z",
     "iopub.status.busy": "2021-10-17T16:36:56.423965Z",
     "iopub.status.idle": "2021-10-17T16:36:56.619596Z",
     "shell.execute_reply": "2021-10-17T16:36:56.618232Z"
    },
    "papermill": {
     "duration": 0.430224,
     "end_time": "2021-10-17T16:36:56.619752",
     "exception": false,
     "start_time": "2021-10-17T16:36:56.189528",
     "status": "completed"
    },
    "tags": []
   },
   "outputs": [
    {
     "data": {
      "text/html": [
       "<table class=\"dataframe\">\n",
       "<caption>A tibble: 20 × 3</caption>\n",
       "<thead>\n",
       "\t<tr><th scope=col>start_station_name</th><th scope=col>member_casual</th><th scope=col>number_of_rides</th></tr>\n",
       "\t<tr><th scope=col>&lt;chr&gt;</th><th scope=col>&lt;chr&gt;</th><th scope=col>&lt;int&gt;</th></tr>\n",
       "</thead>\n",
       "<tbody>\n",
       "\t<tr><td><span style=white-space:pre-wrap>Streeter Dr &amp; Grand Ave     </span></td><td>casual</td><td>26154</td></tr>\n",
       "\t<tr><td><span style=white-space:pre-wrap>Lake Shore Dr &amp; Monroe St   </span></td><td>casual</td><td>20647</td></tr>\n",
       "\t<tr><td>Millennium Park             </td><td>casual</td><td>19467</td></tr>\n",
       "\t<tr><td>Theater on the Lake         </td><td>casual</td><td>14981</td></tr>\n",
       "\t<tr><td><span style=white-space:pre-wrap>Michigan Ave &amp; Oak St       </span></td><td>casual</td><td>13678</td></tr>\n",
       "\t<tr><td><span style=white-space:pre-wrap>Indiana Ave &amp; Roosevelt Rd  </span></td><td>casual</td><td>13668</td></tr>\n",
       "\t<tr><td><span style=white-space:pre-wrap>Lake Shore Dr &amp; North Blvd  </span></td><td>casual</td><td>13318</td></tr>\n",
       "\t<tr><td><span style=white-space:pre-wrap>Clark St &amp; Elm St           </span></td><td>casual</td><td>12016</td></tr>\n",
       "\t<tr><td><span style=white-space:pre-wrap>Michigan Ave &amp; Lake St      </span></td><td>casual</td><td>11756</td></tr>\n",
       "\t<tr><td>Michigan Ave &amp; Washington St</td><td>casual</td><td>10707</td></tr>\n",
       "\t<tr><td><span style=white-space:pre-wrap>Clark St &amp; Lincoln Ave      </span></td><td>casual</td><td>10202</td></tr>\n",
       "\t<tr><td><span style=white-space:pre-wrap>Wells St &amp; Concord Ln       </span></td><td>casual</td><td>10021</td></tr>\n",
       "\t<tr><td>Buckingham Fountain         </td><td>casual</td><td>10005</td></tr>\n",
       "\t<tr><td><span style=white-space:pre-wrap>Clark St &amp; Armitage Ave     </span></td><td>casual</td><td> 9916</td></tr>\n",
       "\t<tr><td>Shedd Aquarium              </td><td>casual</td><td> 9825</td></tr>\n",
       "\t<tr><td><span style=white-space:pre-wrap>Wabash Ave &amp; Grand Ave      </span></td><td>casual</td><td> 9773</td></tr>\n",
       "\t<tr><td><span style=white-space:pre-wrap>Michigan Ave &amp; 8th St       </span></td><td>casual</td><td> 9749</td></tr>\n",
       "\t<tr><td><span style=white-space:pre-wrap>Columbus Dr &amp; Randolph St   </span></td><td>casual</td><td> 9503</td></tr>\n",
       "\t<tr><td><span style=white-space:pre-wrap>Wells St &amp; Elm St           </span></td><td>casual</td><td> 9273</td></tr>\n",
       "\t<tr><td><span style=white-space:pre-wrap>Fairbanks Ct &amp; Grand Ave    </span></td><td>casual</td><td> 9032</td></tr>\n",
       "</tbody>\n",
       "</table>\n"
      ],
      "text/latex": [
       "A tibble: 20 × 3\n",
       "\\begin{tabular}{lll}\n",
       " start\\_station\\_name & member\\_casual & number\\_of\\_rides\\\\\n",
       " <chr> & <chr> & <int>\\\\\n",
       "\\hline\n",
       "\t Streeter Dr \\& Grand Ave      & casual & 26154\\\\\n",
       "\t Lake Shore Dr \\& Monroe St    & casual & 20647\\\\\n",
       "\t Millennium Park              & casual & 19467\\\\\n",
       "\t Theater on the Lake          & casual & 14981\\\\\n",
       "\t Michigan Ave \\& Oak St        & casual & 13678\\\\\n",
       "\t Indiana Ave \\& Roosevelt Rd   & casual & 13668\\\\\n",
       "\t Lake Shore Dr \\& North Blvd   & casual & 13318\\\\\n",
       "\t Clark St \\& Elm St            & casual & 12016\\\\\n",
       "\t Michigan Ave \\& Lake St       & casual & 11756\\\\\n",
       "\t Michigan Ave \\& Washington St & casual & 10707\\\\\n",
       "\t Clark St \\& Lincoln Ave       & casual & 10202\\\\\n",
       "\t Wells St \\& Concord Ln        & casual & 10021\\\\\n",
       "\t Buckingham Fountain          & casual & 10005\\\\\n",
       "\t Clark St \\& Armitage Ave      & casual &  9916\\\\\n",
       "\t Shedd Aquarium               & casual &  9825\\\\\n",
       "\t Wabash Ave \\& Grand Ave       & casual &  9773\\\\\n",
       "\t Michigan Ave \\& 8th St        & casual &  9749\\\\\n",
       "\t Columbus Dr \\& Randolph St    & casual &  9503\\\\\n",
       "\t Wells St \\& Elm St            & casual &  9273\\\\\n",
       "\t Fairbanks Ct \\& Grand Ave     & casual &  9032\\\\\n",
       "\\end{tabular}\n"
      ],
      "text/markdown": [
       "\n",
       "A tibble: 20 × 3\n",
       "\n",
       "| start_station_name &lt;chr&gt; | member_casual &lt;chr&gt; | number_of_rides &lt;int&gt; |\n",
       "|---|---|---|\n",
       "| Streeter Dr &amp; Grand Ave      | casual | 26154 |\n",
       "| Lake Shore Dr &amp; Monroe St    | casual | 20647 |\n",
       "| Millennium Park              | casual | 19467 |\n",
       "| Theater on the Lake          | casual | 14981 |\n",
       "| Michigan Ave &amp; Oak St        | casual | 13678 |\n",
       "| Indiana Ave &amp; Roosevelt Rd   | casual | 13668 |\n",
       "| Lake Shore Dr &amp; North Blvd   | casual | 13318 |\n",
       "| Clark St &amp; Elm St            | casual | 12016 |\n",
       "| Michigan Ave &amp; Lake St       | casual | 11756 |\n",
       "| Michigan Ave &amp; Washington St | casual | 10707 |\n",
       "| Clark St &amp; Lincoln Ave       | casual | 10202 |\n",
       "| Wells St &amp; Concord Ln        | casual | 10021 |\n",
       "| Buckingham Fountain          | casual | 10005 |\n",
       "| Clark St &amp; Armitage Ave      | casual |  9916 |\n",
       "| Shedd Aquarium               | casual |  9825 |\n",
       "| Wabash Ave &amp; Grand Ave       | casual |  9773 |\n",
       "| Michigan Ave &amp; 8th St        | casual |  9749 |\n",
       "| Columbus Dr &amp; Randolph St    | casual |  9503 |\n",
       "| Wells St &amp; Elm St            | casual |  9273 |\n",
       "| Fairbanks Ct &amp; Grand Ave     | casual |  9032 |\n",
       "\n"
      ],
      "text/plain": [
       "   start_station_name           member_casual number_of_rides\n",
       "1  Streeter Dr & Grand Ave      casual        26154          \n",
       "2  Lake Shore Dr & Monroe St    casual        20647          \n",
       "3  Millennium Park              casual        19467          \n",
       "4  Theater on the Lake          casual        14981          \n",
       "5  Michigan Ave & Oak St        casual        13678          \n",
       "6  Indiana Ave & Roosevelt Rd   casual        13668          \n",
       "7  Lake Shore Dr & North Blvd   casual        13318          \n",
       "8  Clark St & Elm St            casual        12016          \n",
       "9  Michigan Ave & Lake St       casual        11756          \n",
       "10 Michigan Ave & Washington St casual        10707          \n",
       "11 Clark St & Lincoln Ave       casual        10202          \n",
       "12 Wells St & Concord Ln        casual        10021          \n",
       "13 Buckingham Fountain          casual        10005          \n",
       "14 Clark St & Armitage Ave      casual         9916          \n",
       "15 Shedd Aquarium               casual         9825          \n",
       "16 Wabash Ave & Grand Ave       casual         9773          \n",
       "17 Michigan Ave & 8th St        casual         9749          \n",
       "18 Columbus Dr & Randolph St    casual         9503          \n",
       "19 Wells St & Elm St            casual         9273          \n",
       "20 Fairbanks Ct & Grand Ave     casual         9032          "
      ]
     },
     "metadata": {},
     "output_type": "display_data"
    }
   ],
   "source": [
    "## Top 20 start stations for the casual riders \n",
    "\n",
    "all_trips_new %>% \n",
    "  group_by(start_station_name, member_casual) %>% \n",
    "  summarize(number_of_rides = n(), .groups = 'drop') %>% \n",
    "  filter(start_station_name != \"\", member_casual != \"member\") %>% \n",
    "  arrange(-number_of_rides) %>% \n",
    "  head(n=20)\n"
   ]
  },
  {
   "cell_type": "markdown",
   "id": "38cb407a",
   "metadata": {
    "papermill": {
     "duration": 0.25738,
     "end_time": "2021-10-17T16:36:57.105043",
     "exception": false,
     "start_time": "2021-10-17T16:36:56.847663",
     "status": "completed"
    },
    "tags": []
   },
   "source": [
    "## Share Phase"
   ]
  },
  {
   "cell_type": "code",
   "execution_count": 36,
   "id": "e52ffa82",
   "metadata": {
    "execution": {
     "iopub.execute_input": "2021-10-17T16:36:57.571272Z",
     "iopub.status.busy": "2021-10-17T16:36:57.570042Z",
     "iopub.status.idle": "2021-10-17T16:36:58.094295Z",
     "shell.execute_reply": "2021-10-17T16:36:58.092294Z"
    },
    "papermill": {
     "duration": 0.756983,
     "end_time": "2021-10-17T16:36:58.094429",
     "exception": false,
     "start_time": "2021-10-17T16:36:57.337446",
     "status": "completed"
    },
    "tags": []
   },
   "outputs": [
    {
     "data": {
      "image/png": "[encoded data removed]"
     },
     "metadata": {
      "image/png": {
       "height": 420,
       "width": 420
      }
     },
     "output_type": "display_data"
    }
   ],
   "source": [
    "# Create Data Visualizations \n",
    "\n",
    "## 1. Average riding duration between members and casual\n",
    "all_trips_new %>% \n",
    "  group_by(member_casual) %>%\n",
    "  summarise(average_duration = mean(ride_length)) %>%\n",
    "  ggplot(aes(x = member_casual, y= average_duration)) +\n",
    "  geom_col(position=\"dodge\") +\n",
    "  labs(x =\"Rider Type\", y = \"Average Duration (Min\", \n",
    "       title = \"Average riding duration between Rider Type\")\n"
   ]
  },
  {
   "cell_type": "code",
   "execution_count": 37,
   "id": "ecbfb736",
   "metadata": {
    "execution": {
     "iopub.execute_input": "2021-10-17T16:36:58.559782Z",
     "iopub.status.busy": "2021-10-17T16:36:58.558370Z",
     "iopub.status.idle": "2021-10-17T16:36:59.660808Z",
     "shell.execute_reply": "2021-10-17T16:36:59.661545Z"
    },
    "papermill": {
     "duration": 1.337231,
     "end_time": "2021-10-17T16:36:59.661771",
     "exception": false,
     "start_time": "2021-10-17T16:36:58.324540",
     "status": "completed"
    },
    "tags": []
   },
   "outputs": [
    {
     "data": {
      "image/png": "[encoded data removed]"
     },
     "metadata": {
      "image/png": {
       "height": 420,
       "width": 420
      }
     },
     "output_type": "display_data"
    }
   ],
   "source": [
    "## 2.Average riding duration of each day of week between members and casual riders\n",
    "\n",
    "all_trips_new %>% \n",
    "  group_by(member_casual, day_of_week) %>% \n",
    "  summarise(average_duration = mean(ride_length), .groups= 'drop')%>%\n",
    "  ggplot(aes(x = day_of_week, y=average_duration, fill=member_casual)) + \n",
    "  geom_col(position = \"dodge\") +\n",
    "  labs(x=\"Day of Week\", y=\"Average Duration(Min)\", \n",
    "       title = \"Average Riding duration by day of week (Member Vs. Casual)\")\n"
   ]
  },
  {
   "cell_type": "code",
   "execution_count": 38,
   "id": "15b58536",
   "metadata": {
    "execution": {
     "iopub.execute_input": "2021-10-17T16:37:00.164599Z",
     "iopub.status.busy": "2021-10-17T16:37:00.163760Z",
     "iopub.status.idle": "2021-10-17T16:37:00.584347Z",
     "shell.execute_reply": "2021-10-17T16:37:00.583800Z"
    },
    "papermill": {
     "duration": 0.663883,
     "end_time": "2021-10-17T16:37:00.584471",
     "exception": false,
     "start_time": "2021-10-17T16:36:59.920588",
     "status": "completed"
    },
    "tags": []
   },
   "outputs": [
    {
     "data": {
      "image/png": "[encoded data removed]"
     },
     "metadata": {
      "image/png": {
       "height": 420,
       "width": 420
      }
     },
     "output_type": "display_data"
    }
   ],
   "source": [
    "## 3.Average riding duration of each month between members and casual riders\n",
    "\n",
    "all_trips_new %>%\n",
    "  group_by(member_casual, month) %>%\n",
    "  summarise(average_duration = mean(ride_length), .groups='drop') %>%\n",
    "  ggplot(aes(x=month, y=average_duration, fill=member_casual)) +\n",
    "  geom_col(position=\"dodge\") + \n",
    "  labs( x= \"Month\", y= \"Average Duration (Min)\" ,\n",
    "        title = \"Average Riding Duration by Month (Member Vs. Casual)\")\n"
   ]
  },
  {
   "cell_type": "code",
   "execution_count": 39,
   "id": "e5d77a24",
   "metadata": {
    "execution": {
     "iopub.execute_input": "2021-10-17T16:37:01.079243Z",
     "iopub.status.busy": "2021-10-17T16:37:01.077811Z",
     "iopub.status.idle": "2021-10-17T16:37:01.459965Z",
     "shell.execute_reply": "2021-10-17T16:37:01.459336Z"
    },
    "papermill": {
     "duration": 0.632902,
     "end_time": "2021-10-17T16:37:01.460093",
     "exception": false,
     "start_time": "2021-10-17T16:37:00.827191",
     "status": "completed"
    },
    "tags": []
   },
   "outputs": [
    {
     "data": {
      "image/png": "[encoded data removed]"
     },
     "metadata": {
      "image/png": {
       "height": 420,
       "width": 420
      }
     },
     "output_type": "display_data"
    }
   ],
   "source": [
    "## 4.Average number of rides of each day of week between members and casual riders \n",
    "\n",
    "all_trips_new %>%\n",
    "  group_by(day_of_week , member_casual) %>%\n",
    "  summarise(number_of_rides = n(), .groups = 'drop') %>%\n",
    "  ggplot(aes(x=day_of_week, y= number_of_rides, fill=member_casual)) +\n",
    "  geom_col(position='dodge') + scale_y_continuous(labels = scales::comma) +\n",
    "  labs(x=\"Day of Week\", y='Number of rides', \n",
    "       title = \"Average number of rides each of day (member vs. casual\")\n"
   ]
  },
  {
   "cell_type": "code",
   "execution_count": 40,
   "id": "49d59c56",
   "metadata": {
    "execution": {
     "iopub.execute_input": "2021-10-17T16:37:01.957496Z",
     "iopub.status.busy": "2021-10-17T16:37:01.955944Z",
     "iopub.status.idle": "2021-10-17T16:37:02.350057Z",
     "shell.execute_reply": "2021-10-17T16:37:02.349474Z"
    },
    "papermill": {
     "duration": 0.64214,
     "end_time": "2021-10-17T16:37:02.350182",
     "exception": false,
     "start_time": "2021-10-17T16:37:01.708042",
     "status": "completed"
    },
    "tags": []
   },
   "outputs": [
    {
     "data": {
      "image/png": "[encoded data removed]"
     },
     "metadata": {
      "image/png": {
       "height": 420,
       "width": 420
      }
     },
     "output_type": "display_data"
    }
   ],
   "source": [
    "## 5.Average number of rides of each month between members and casual riders \n",
    "\n",
    "all_trips_new %>%\n",
    "  group_by(month, member_casual) %>%\n",
    "  summarise(number_of_rides = n(), .groups= 'drop') %>%\n",
    "  ggplot(aes(x=month, y=number_of_rides, fill= member_casual)) +\n",
    "  geom_col(position=\"dodge\") + scale_y_continuous(labels = scales::comma) + \n",
    "  labs(x=\"Month\", y=\"Number of rides\",\n",
    "       title=\"Average number of rides by month(Members Vs. Casual\")\n"
   ]
  },
  {
   "cell_type": "code",
   "execution_count": 41,
   "id": "7b8181ea",
   "metadata": {
    "execution": {
     "iopub.execute_input": "2021-10-17T16:37:02.852827Z",
     "iopub.status.busy": "2021-10-17T16:37:02.851283Z",
     "iopub.status.idle": "2021-10-17T16:37:03.254972Z",
     "shell.execute_reply": "2021-10-17T16:37:03.253970Z"
    },
    "papermill": {
     "duration": 0.655045,
     "end_time": "2021-10-17T16:37:03.255115",
     "exception": false,
     "start_time": "2021-10-17T16:37:02.600070",
     "status": "completed"
    },
    "tags": []
   },
   "outputs": [
    {
     "data": {
      "image/png": "[encoded data removed]"
     },
     "metadata": {
      "image/png": {
       "height": 420,
       "width": 420
      }
     },
     "output_type": "display_data"
    }
   ],
   "source": [
    "## 6. Usage of the bikes by rider type \n",
    "\n",
    "all_trips_new %>%\n",
    "  group_by(rideable_type, member_casual) %>%\n",
    "  summarise(number_of_rides = n(), .groups='drop') %>%\n",
    "  ggplot(aes(x=rideable_type, y=number_of_rides, fill= member_casual)) + \n",
    "  geom_col(position=\"dodge\") +\n",
    "  labs(x=\"Bike Type\", y=\"Number of Rides\", \n",
    "       title = \"Usage of bikes by rider type\")\n"
   ]
  },
  {
   "cell_type": "code",
   "execution_count": 42,
   "id": "c8314eaa",
   "metadata": {
    "execution": {
     "iopub.execute_input": "2021-10-17T16:37:03.760295Z",
     "iopub.status.busy": "2021-10-17T16:37:03.758949Z",
     "iopub.status.idle": "2021-10-17T16:37:04.331905Z",
     "shell.execute_reply": "2021-10-17T16:37:04.331111Z"
    },
    "papermill": {
     "duration": 0.824952,
     "end_time": "2021-10-17T16:37:04.332032",
     "exception": false,
     "start_time": "2021-10-17T16:37:03.507080",
     "status": "completed"
    },
    "tags": []
   },
   "outputs": [
    {
     "data": {
      "image/png": "[encoded data removed]"
     },
     "metadata": {
      "image/png": {
       "height": 420,
       "width": 420
      }
     },
     "output_type": "display_data"
    }
   ],
   "source": [
    "## 7. Usage o bikes by day of week \n",
    "\n",
    "all_trips_new %>% \n",
    "  group_by(rideable_type, day_of_week) %>%\n",
    "  summarise(number_of_rides = n(), .groups='drop') %>%\n",
    "  ggplot(aes(x=rideable_type, y=number_of_rides, fill=day_of_week)) +\n",
    "  geom_col(position = \"dodge\") + scale_y_continuous(labels = scales::comma) +\n",
    "  labs(x=\"Bike Type\" , y=\"Number_of_rides\", \n",
    "       title=\"Usage of bikes by days\")\n"
   ]
  },
  {
   "cell_type": "code",
   "execution_count": 43,
   "id": "055cb4a5",
   "metadata": {
    "execution": {
     "iopub.execute_input": "2021-10-17T16:37:04.838038Z",
     "iopub.status.busy": "2021-10-17T16:37:04.836425Z",
     "iopub.status.idle": "2021-10-17T16:37:06.063954Z",
     "shell.execute_reply": "2021-10-17T16:37:06.062993Z"
    },
    "papermill": {
     "duration": 1.471599,
     "end_time": "2021-10-17T16:37:06.064085",
     "exception": false,
     "start_time": "2021-10-17T16:37:04.592486",
     "status": "completed"
    },
    "tags": []
   },
   "outputs": [
    {
     "data": {
      "image/png": "[encoded data removed]"
     },
     "metadata": {
      "image/png": {
       "height": 420,
       "width": 420
      }
     },
     "output_type": "display_data"
    }
   ],
   "source": [
    "## 8. Usage of bikes by month \n",
    "\n",
    "all_trips_new %>%\n",
    "  group_by(rideable_type, month) %>%\n",
    "  summarise(number_of_rides=n(), .groups='drop') %>%\n",
    "  ggplot(aes(x=rideable_type, y=number_of_rides, fill=month)) +\n",
    "  geom_col(position=\"dodge\") + scale_y_continuous(labels = scales::comma) + \n",
    "  labs(x=\"Bike Type\" , y=\"Number Of Rides\", \n",
    "       title = \"Usage of bikes by month\")\n"
   ]
  },
  {
   "cell_type": "code",
   "execution_count": 44,
   "id": "dd854531",
   "metadata": {
    "execution": {
     "iopub.execute_input": "2021-10-17T16:37:06.556243Z",
     "iopub.status.busy": "2021-10-17T16:37:06.554886Z",
     "iopub.status.idle": "2021-10-17T16:37:07.138418Z",
     "shell.execute_reply": "2021-10-17T16:37:07.137418Z"
    },
    "papermill": {
     "duration": 0.83094,
     "end_time": "2021-10-17T16:37:07.138563",
     "exception": false,
     "start_time": "2021-10-17T16:37:06.307623",
     "status": "completed"
    },
    "tags": []
   },
   "outputs": [
    {
     "data": {
      "image/png": "[encoded data removed]"
     },
     "metadata": {
      "image/png": {
       "height": 420,
       "width": 420
      }
     },
     "output_type": "display_data"
    }
   ],
   "source": [
    "\n",
    "## 9. Usage of docked bike by month for member and casual riders \n",
    "\n",
    "all_trips_new %>%\n",
    "  filter(rideable_type==\"docked_bike\", member_casual==\"member\") %>%\n",
    "  group_by(rideable_type, month) %>%\n",
    "  summarise(number_of_rides = n(), .groups='drop') %>%\n",
    "  ggplot(aes(x=month, y=number_of_rides, fill=month)) +\n",
    "  geom_col(position=\"dodge\") + \n",
    "  labs(x=\"Docked Bike\", y=\"Number of rides\",\n",
    "       title=\"Usage of Docked Bike(Member)\")\n"
   ]
  },
  {
   "cell_type": "code",
   "execution_count": 45,
   "id": "47aa20ab",
   "metadata": {
    "execution": {
     "iopub.execute_input": "2021-10-17T16:37:07.646932Z",
     "iopub.status.busy": "2021-10-17T16:37:07.645996Z",
     "iopub.status.idle": "2021-10-17T16:37:08.285865Z",
     "shell.execute_reply": "2021-10-17T16:37:08.284824Z"
    },
    "papermill": {
     "duration": 0.89556,
     "end_time": "2021-10-17T16:37:08.286004",
     "exception": false,
     "start_time": "2021-10-17T16:37:07.390444",
     "status": "completed"
    },
    "tags": []
   },
   "outputs": [
    {
     "data": {
      "image/png": "[encoded data removed]"
     },
     "metadata": {
      "image/png": {
       "height": 420,
       "width": 420
      }
     },
     "output_type": "display_data"
    }
   ],
   "source": [
    "all_trips_new %>%\n",
    "  filter(rideable_type==\"docked_bike\", member_casual==\"casual\") %>%\n",
    "  group_by(rideable_type, month) %>%\n",
    "  summarise(number_of_rides = n(), .groups='drop') %>%\n",
    "  ggplot(aes(x=month, y=number_of_rides, fill=month)) +\n",
    "  geom_col(position=\"dodge\") + \n",
    "  labs(x=\"Docked Bike\", y=\"Number of rides\",\n",
    "       title=\"Usage of Docked Bike(Casual)\")\n"
   ]
  },
  {
   "cell_type": "code",
   "execution_count": 46,
   "id": "ae426fc3",
   "metadata": {
    "execution": {
     "iopub.execute_input": "2021-10-17T16:37:08.790148Z",
     "iopub.status.busy": "2021-10-17T16:37:08.788289Z",
     "iopub.status.idle": "2021-10-17T16:37:12.577925Z",
     "shell.execute_reply": "2021-10-17T16:37:12.576699Z"
    },
    "papermill": {
     "duration": 4.041875,
     "end_time": "2021-10-17T16:37:12.578066",
     "exception": false,
     "start_time": "2021-10-17T16:37:08.536191",
     "status": "completed"
    },
    "tags": []
   },
   "outputs": [
    {
     "data": {
      "image/png": "[encoded data removed]"
     },
     "metadata": {
      "image/png": {
       "height": 420,
       "width": 420
      }
     },
     "output_type": "display_data"
    }
   ],
   "source": [
    "## 10. Usage of electric bike by month for member and casual rides \n",
    "\n",
    "\n",
    "all_trips_new %>%\n",
    "  filter(rideable_type == \"electric_bike\", member_casual==\"member\") %>%\n",
    "  group_by(rideable_type, month) %>%\n",
    "  summarise(number_of_rides = n(), .groups='drop') %>%\n",
    "  ggplot(aes(x=month, y=number_of_rides, fill =month)) + \n",
    "  geom_col(position=\"dodge\") + \n",
    "  labs(x = \"Electric BIke\", y=\"Number Of Rides\", \n",
    "       title = \"Usage of Electric Bike(Member)\")\n"
   ]
  },
  {
   "cell_type": "code",
   "execution_count": 47,
   "id": "232ce563",
   "metadata": {
    "execution": {
     "iopub.execute_input": "2021-10-17T16:37:13.087075Z",
     "iopub.status.busy": "2021-10-17T16:37:13.085296Z",
     "iopub.status.idle": "2021-10-17T16:37:13.550490Z",
     "shell.execute_reply": "2021-10-17T16:37:13.549395Z"
    },
    "papermill": {
     "duration": 0.721881,
     "end_time": "2021-10-17T16:37:13.550633",
     "exception": false,
     "start_time": "2021-10-17T16:37:12.828752",
     "status": "completed"
    },
    "tags": []
   },
   "outputs": [
    {
     "data": {
      "image/png": "[encoded data removed]"
     },
     "metadata": {
      "image/png": {
       "height": 420,
       "width": 420
      }
     },
     "output_type": "display_data"
    }
   ],
   "source": [
    "all_trips_new %>%\n",
    "  filter(rideable_type == \"electric_bike\", member_casual==\"casual\") %>%\n",
    "  group_by(rideable_type, month) %>%\n",
    "  summarise(number_of_rides = n(), .groups='drop') %>%\n",
    "  ggplot(aes(x=month, y=number_of_rides, fill =month)) + \n",
    "  geom_col(position=\"dodge\") + \n",
    "  labs(x = \"Electric BIke\", y=\"Number Of Rides\", \n",
    "       title = \"Usage of Electric Bike(casual)\")\n"
   ]
  },
  {
   "cell_type": "code",
   "execution_count": 48,
   "id": "732c82d0",
   "metadata": {
    "execution": {
     "iopub.execute_input": "2021-10-17T16:37:14.073979Z",
     "iopub.status.busy": "2021-10-17T16:37:14.073044Z",
     "iopub.status.idle": "2021-10-17T16:37:14.661954Z",
     "shell.execute_reply": "2021-10-17T16:37:14.660873Z"
    },
    "papermill": {
     "duration": 0.857563,
     "end_time": "2021-10-17T16:37:14.662097",
     "exception": false,
     "start_time": "2021-10-17T16:37:13.804534",
     "status": "completed"
    },
    "tags": []
   },
   "outputs": [
    {
     "data": {
      "image/png": "[encoded data removed]"
     },
     "metadata": {
      "image/png": {
       "height": 420,
       "width": 420
      }
     },
     "output_type": "display_data"
    }
   ],
   "source": [
    "## 11. Usage of docked bike by day_of_week for member and casual riders \n",
    "\n",
    "all_trips_new %>%\n",
    "  filter(rideable_type==\"docked_bike\", member_casual==\"member\") %>%\n",
    "  group_by(rideable_type, day_of_week) %>%\n",
    "  summarise(number_of_rides = n(), .groups='drop') %>%\n",
    "  ggplot(aes(x=day_of_week, y=number_of_rides, fill=day_of_week)) +\n",
    "  geom_col(position=\"dodge\") + \n",
    "  labs(x=\"Docked Bike\", y=\"Number of rides\",\n",
    "       title=\"Usage of Docked Bike(Member)\")\n"
   ]
  },
  {
   "cell_type": "code",
   "execution_count": 49,
   "id": "d50b4828",
   "metadata": {
    "execution": {
     "iopub.execute_input": "2021-10-17T16:37:15.179668Z",
     "iopub.status.busy": "2021-10-17T16:37:15.177783Z",
     "iopub.status.idle": "2021-10-17T16:37:15.739546Z",
     "shell.execute_reply": "2021-10-17T16:37:15.738629Z"
    },
    "papermill": {
     "duration": 0.821465,
     "end_time": "2021-10-17T16:37:15.739680",
     "exception": false,
     "start_time": "2021-10-17T16:37:14.918215",
     "status": "completed"
    },
    "tags": []
   },
   "outputs": [
    {
     "data": {
      "image/png": "[encoded data removed]"
     },
     "metadata": {
      "image/png": {
       "height": 420,
       "width": 420
      }
     },
     "output_type": "display_data"
    }
   ],
   "source": [
    "\n",
    "all_trips_new %>%\n",
    "  filter(rideable_type==\"docked_bike\", member_casual==\"casual\") %>%\n",
    "  group_by(rideable_type, day_of_week) %>%\n",
    "  summarise(number_of_rides = n(), .groups='drop') %>%\n",
    "  ggplot(aes(x=day_of_week, y=number_of_rides, fill=day_of_week)) +\n",
    "  geom_col(position=\"dodge\") + \n",
    "  labs(x=\"Docked Bike\", y=\"Number of rides\",\n",
    "       title=\"Usage of Docked Bike(Casual)\")\n"
   ]
  },
  {
   "cell_type": "code",
   "execution_count": 50,
   "id": "5b3a8f66",
   "metadata": {
    "execution": {
     "iopub.execute_input": "2021-10-17T16:37:16.260903Z",
     "iopub.status.busy": "2021-10-17T16:37:16.259369Z",
     "iopub.status.idle": "2021-10-17T16:37:16.759543Z",
     "shell.execute_reply": "2021-10-17T16:37:16.758592Z"
    },
    "papermill": {
     "duration": 0.762868,
     "end_time": "2021-10-17T16:37:16.759675",
     "exception": false,
     "start_time": "2021-10-17T16:37:15.996807",
     "status": "completed"
    },
    "tags": []
   },
   "outputs": [
    {
     "data": {
      "image/png": "[encoded data removed]"
     },
     "metadata": {
      "image/png": {
       "height": 420,
       "width": 420
      }
     },
     "output_type": "display_data"
    }
   ],
   "source": [
    "## 11. Usage of electric bike by day of week for member and casual rides \n",
    "\n",
    "\n",
    "all_trips_new %>%\n",
    "  filter(rideable_type == \"electric_bike\", member_casual==\"member\") %>%\n",
    "  group_by(rideable_type, day_of_week) %>%\n",
    "  summarise(number_of_rides = n(), .groups='drop') %>%\n",
    "  ggplot(aes(x=day_of_week, y=number_of_rides, fill =day_of_week)) + \n",
    "  geom_col(position=\"dodge\") + \n",
    "  labs(x = \"Electric BIke\", y=\"Number Of Rides\", \n",
    "       title = \"Usage of Electric Bike(Member)\")\n"
   ]
  },
  {
   "cell_type": "code",
   "execution_count": 51,
   "id": "2cdec1b0",
   "metadata": {
    "execution": {
     "iopub.execute_input": "2021-10-17T16:37:17.285509Z",
     "iopub.status.busy": "2021-10-17T16:37:17.284251Z",
     "iopub.status.idle": "2021-10-17T16:37:18.384947Z",
     "shell.execute_reply": "2021-10-17T16:37:18.384354Z"
    },
    "papermill": {
     "duration": 1.3634,
     "end_time": "2021-10-17T16:37:18.385077",
     "exception": false,
     "start_time": "2021-10-17T16:37:17.021677",
     "status": "completed"
    },
    "tags": []
   },
   "outputs": [
    {
     "data": {
      "image/png": "[encoded data removed]"
     },
     "metadata": {
      "image/png": {
       "height": 420,
       "width": 420
      }
     },
     "output_type": "display_data"
    }
   ],
   "source": [
    "all_trips_new %>%\n",
    "  filter(rideable_type == \"electric_bike\", member_casual==\"casual\") %>%\n",
    "  group_by(rideable_type, day_of_week) %>%\n",
    "  summarise(number_of_rides = n(), .groups='drop') %>%\n",
    "  ggplot(aes(x=day_of_week, y=number_of_rides, fill =day_of_week)) + \n",
    "  geom_col(position=\"dodge\") + \n",
    "  labs(x = \"Electric BIke\", y=\"Number Of Rides\", \n",
    "       title = \"Usage of Electric Bike(casual)\")\n"
   ]
  },
  {
   "cell_type": "code",
   "execution_count": 52,
   "id": "4d9ad218",
   "metadata": {
    "execution": {
     "iopub.execute_input": "2021-10-17T16:37:18.908412Z",
     "iopub.status.busy": "2021-10-17T16:37:18.907029Z",
     "iopub.status.idle": "2021-10-17T16:37:19.262173Z",
     "shell.execute_reply": "2021-10-17T16:37:19.261604Z"
    },
    "papermill": {
     "duration": 0.618769,
     "end_time": "2021-10-17T16:37:19.262296",
     "exception": false,
     "start_time": "2021-10-17T16:37:18.643527",
     "status": "completed"
    },
    "tags": []
   },
   "outputs": [
    {
     "data": {
      "image/png": "[encoded data removed]"
     },
     "metadata": {
      "image/png": {
       "height": 420,
       "width": 420
      }
     },
     "output_type": "display_data"
    }
   ],
   "source": [
    "## 12. top 10 stations \n",
    "\n",
    "all_station_new %>%\n",
    "  group_by(stations)%>%\n",
    "  summarise(station_count =n())%>%\n",
    "  arrange(desc(station_count)) %>%\n",
    "  head(10) %>%\n",
    "  ggplot(aes(x=reorder(stations, station_count), y=station_count)) +\n",
    "  geom_col(position=\"dodge\") + coord_flip()\n"
   ]
  },
  {
   "cell_type": "code",
   "execution_count": 53,
   "id": "54457abd",
   "metadata": {
    "execution": {
     "iopub.execute_input": "2021-10-17T16:37:19.793864Z",
     "iopub.status.busy": "2021-10-17T16:37:19.792174Z",
     "iopub.status.idle": "2021-10-17T16:37:20.149923Z",
     "shell.execute_reply": "2021-10-17T16:37:20.149038Z"
    },
    "papermill": {
     "duration": 0.624906,
     "end_time": "2021-10-17T16:37:20.150053",
     "exception": false,
     "start_time": "2021-10-17T16:37:19.525147",
     "status": "completed"
    },
    "tags": []
   },
   "outputs": [
    {
     "data": {
      "image/png": "[encoded data removed]"
     },
     "metadata": {
      "image/png": {
       "height": 420,
       "width": 420
      }
     },
     "output_type": "display_data"
    }
   ],
   "source": [
    "## 13. Usage of rideable_type \n",
    "\n",
    "all_trips_new %>%\n",
    "  group_by(rideable_type, member_casual) %>%\n",
    "  summarise(number_of_rides = n(), .groups= 'drop') %>%\n",
    "  ggplot(aes(x=rideable_type, y=number_of_rides, fill= member_casual)) + \n",
    "  geom_col(position=\"dodge\") +\n",
    "  labs(x =  \"Members  & Casual\", y=\"Number of Rides\", \n",
    "       title = \"Usage of Bikes\")\n"
   ]
  },
  {
   "cell_type": "markdown",
   "id": "a930c9d3",
   "metadata": {
    "papermill": {
     "duration": 0.26445,
     "end_time": "2021-10-17T16:37:20.680925",
     "exception": false,
     "start_time": "2021-10-17T16:37:20.416475",
     "status": "completed"
    },
    "tags": []
   },
   "source": [
    "## Key Findings \n",
    "\n",
    "1. On Weekend the casual riders demand the bikes more than the members.\n",
    "2. Both member & casual love to ride the Docked bike more. Electric Bike least.\n",
    "3.  Top 3 start station are  \n",
    "    1)Streeter Dr & Grand Ave,\n",
    "    2) Clark St & Elm St,\n",
    "    3) Theater on the Lake    \n",
    "4. Top 3 start station for members are \n",
    "    1)Clark St & Elm St,\n",
    "    2) St. Clair St & Erie St,         \n",
    "    3)Broadway & Barry Ave \n",
    "5. Top 3 start station for casual are \n",
    "    1)Streeter Dr & Grand Ave,\n",
    "    2) Lake Shore Dr & Monroe St.,\n",
    "    3) Millennium Park  \n",
    "6. ON weekends causal riders are more than the members\n",
    "7. Causal rides more than the member riders."
   ]
  },
  {
   "cell_type": "code",
   "execution_count": null,
   "id": "d0e737d0",
   "metadata": {
    "papermill": {
     "duration": 0.264338,
     "end_time": "2021-10-17T16:37:21.208576",
     "exception": false,
     "start_time": "2021-10-17T16:37:20.944238",
     "status": "completed"
    },
    "tags": []
   },
   "outputs": [],
   "source": []
  }
 ],
 "metadata": {
  "kernelspec": {
   "display_name": "R",
   "language": "R",
   "name": "ir"
  },
  "language_info": {
   "codemirror_mode": "r",
   "file_extension": ".r",
   "mimetype": "text/x-r-source",
   "name": "R",
   "pygments_lexer": "r",
   "version": "4.0.5"
  },
  "papermill": {
   "default_parameters": {},
   "duration": 218.358478,
   "end_time": "2021-10-17T16:37:21.685065",
   "environment_variables": {},
   "exception": null,
   "input_path": "__notebook__.ipynb",
   "output_path": "__notebook__.ipynb",
   "parameters": {},
   "start_time": "2021-10-17T16:33:43.326587",
   "version": "2.3.3"
  }
 },
 "nbformat": 4,
 "nbformat_minor": 5
}
